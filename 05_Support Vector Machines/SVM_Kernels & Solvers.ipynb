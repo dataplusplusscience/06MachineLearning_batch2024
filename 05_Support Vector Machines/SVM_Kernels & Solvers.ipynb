{
 "cells": [
  {
   "cell_type": "markdown",
   "id": "78af3a08-39d3-44c9-9976-2a654dcb766a",
   "metadata": {},
   "source": [
    "### SVM Kernels"
   ]
  },
  {
   "cell_type": "code",
   "execution_count": 2,
   "id": "436ac48c-10c1-4b85-a4b4-ec39ac65f30c",
   "metadata": {},
   "outputs": [],
   "source": [
    "import sklearn\n",
    "from sklearn import svm"
   ]
  },
  {
   "cell_type": "code",
   "execution_count": 4,
   "id": "04f83b53-9cd3-45a3-a1a2-05ba159ef3c4",
   "metadata": {},
   "outputs": [
    {
     "data": {
      "text/plain": [
       "['LinearSVC',\n",
       " 'LinearSVR',\n",
       " 'NuSVC',\n",
       " 'NuSVR',\n",
       " 'OneClassSVM',\n",
       " 'SVC',\n",
       " 'SVR',\n",
       " '__all__',\n",
       " '__builtins__',\n",
       " '__cached__',\n",
       " '__doc__',\n",
       " '__file__',\n",
       " '__loader__',\n",
       " '__name__',\n",
       " '__package__',\n",
       " '__path__',\n",
       " '__spec__',\n",
       " '_base',\n",
       " '_bounds',\n",
       " '_classes',\n",
       " '_liblinear',\n",
       " '_libsvm',\n",
       " '_libsvm_sparse',\n",
       " 'l1_min_c']"
      ]
     },
     "execution_count": 4,
     "metadata": {},
     "output_type": "execute_result"
    }
   ],
   "source": [
    "dir(svm)"
   ]
  },
  {
   "cell_type": "markdown",
   "id": "490c0a42-9f4c-484b-9639-4e777cfbb427",
   "metadata": {},
   "source": [
    "A Support Vector Machine (SVM) kernel is a function used in SVM to transform the input data into a higher-dimensional space where it becomes easier to find a linear separation between different classes. This transformation allows SVM to handle non-linear relationships in the data.\n",
    "\n",
    "Here are some common types of SVM kernels:\n",
    "\n",
    "- **Linear Kernel**: It is the simplest kernel and works well when the data is linearly separable. The function is simply the dot product of two vectors.\n",
    "\n",
    "- **Polynomial Kernel**: It represents the similarity of vectors in a feature space over polynomials of the original variables, allowing the classifier to learn non-linear boundaries.\n",
    "\n",
    "- **Radial Basis Function (RBF) Kernel**: Also known as the Gaussian kernel, it is very effective in high-dimensional spaces. It maps the data points into an infinite-dimensional space using the Gaussian function.\n",
    "\n",
    "- **Sigmoid Kernel**: It behaves like a two-layer neural network and is often used in neural network applications"
   ]
  },
  {
   "cell_type": "code",
   "execution_count": 5,
   "id": "a8b1883d-1d7a-47e2-94d7-8c38ac52e339",
   "metadata": {},
   "outputs": [],
   "source": [
    "svm_model = svm.SVC(kernel='linear',)"
   ]
  },
  {
   "cell_type": "markdown",
   "id": "dbeb21bc-614b-44eb-a797-c8373de77b65",
   "metadata": {},
   "source": [
    "### How does Linear kernel work?"
   ]
  },
  {
   "cell_type": "markdown",
   "id": "6b18f548-345c-402c-8019-ad6ea1d8403c",
   "metadata": {},
   "source": [
    "Ref: https://www.microsoft.com/en-us/research/wp-content/uploads/2016/02/tr-98-14.pdf?msockid=32f48c5b92836ba53e7b9931932e6a5e"
   ]
  },
  {
   "cell_type": "markdown",
   "id": "65c4bfa7-50ae-4b26-86b5-8186e32ab892",
   "metadata": {},
   "source": [
    "1. Represent Data points as Vectors : \n",
    "- Each data point in the training set is represented as a vector in an 𝑛-dimensional space, where 𝑛  is the number of features. For example, in a 2D space, each point is represented as (𝑥1,𝑥2).\n",
    "\n",
    "2. Formulate the problem:\n",
    "- The SVM aims to find the optimal hyperplane that separates the data points into two classes. The hyperplane can be expressed as:\n",
    "\n",
    "      𝑤⋅𝑥+𝑏=0\n",
    "\n",
    "Where:\n",
    "\n",
    "𝑤 is the weight vector (coefficients).\n",
    "𝑥 is the feature vector.\n",
    "𝑏 is the bias term (intercept).\n",
    "\n",
    "3. Step 3: Define the Constraints\n",
    "- For each data point (𝑥𝑖,𝑦𝑖) in the training set, where 𝑦𝑖 is the class label (+1 or −1), the following constraints must be satisfied: 𝑦𝑖(𝑤⋅𝑥𝑖+𝑏)≥1\n",
    "\n",
    "This ensures that data points of one class are on one side of the hyperplane and data points of the other class are on the other side, with a margin in between.\n",
    "\n"
   ]
  },
  {
   "cell_type": "markdown",
   "id": "970a35af-4789-4804-b997-d11beaecc413",
   "metadata": {},
   "source": [
    "The linear kernel is defined by the dot product (or inner product) of two input vectors. If we have two vectors 𝑥1 and 𝑥2, the linear kernel is given by:\n",
    "\n",
    "$$ 𝐾(𝑥1,𝑥2) = 𝑥1⋅𝑥2 $$\n",
    "\n",
    "This simply means multiplying each corresponding pair of features from the two vectors and summing them up."
   ]
  },
  {
   "cell_type": "markdown",
   "id": "52679be4-8c52-4a2a-a6a0-5238c5c40c0b",
   "metadata": {},
   "source": [
    "- Hyperplane: In SVM, the goal is to find the optimal hyperplane that separates the classes in the feature space. When using a linear kernel, this hyperplane is a straight line (in two dimensions) or a flat plane (in higher dimensions) that best separates the data points of different classes.\n",
    "\n",
    "- Decision Boundary: The decision boundary created by a linear kernel SVM is linear. This makes it suitable for linearly separable data, where a straight line (or plane) can effectively distinguish between classes.\n",
    "\n",
    "- Speed and Complexity: Linear kernels are computationally efficient and fast, especially with large datasets, as they involve simple mathematical operations."
   ]
  },
  {
   "cell_type": "markdown",
   "id": "e5a437f9-0040-4835-adcb-52d652255215",
   "metadata": {},
   "source": [
    "##### When to Use Linear Kernel\n",
    "- Large-Scale Data: Linear kernels are preferred for large-scale datasets because they are computationally less intensive compared to non-linear kernels.\n",
    "\n",
    "- Linearly Separable Data: If the data is approximately linearly separable (i.e., can be separated by a straight line or plane), then a linear kernel works well.\n",
    "\n",
    "- High-Dimensional Data: In cases where the number of features is very large compared to the number of samples (common in text classification problems), linear kernels often perform well."
   ]
  },
  {
   "cell_type": "markdown",
   "id": "7e461a3a-1521-4763-a7b7-99715b2e4f92",
   "metadata": {},
   "source": [
    "Example Scenario:\n",
    "\n",
    "Imagine we have a dataset with two features (let's call them 𝑥1 and 𝑥2) and two classes (let's call them Class A and Class B). The goal is to use a linear SVM to classify new data points."
   ]
  },
  {
   "cell_type": "markdown",
   "id": "d76d1b4d-1d4e-485e-9e2d-30b71470d4e4",
   "metadata": {},
   "source": [
    "**Step-by-Step Process**:\n",
    "\n",
    "- Training Data:\n",
    "\n",
    "Class A: (2,3),(3,3),(4,5)\n",
    "\n",
    "Class B: (1,1),(2,1),(3,2)\n",
    "\n",
    "- Hyperplane: The linear SVM will find the best hyperplane that separates the data points of the two classes. In this 2D example, the hyperplane is a line. The goal is to maximize the margin (the distance between the hyperplane and the nearest data points of each class, also known as support vectors).\n",
    "\n",
    "- Decision Boundary: Assume the linear SVM finds that the optimal separating hyperplane is:\n",
    "    0.5𝑥1 + 0.5𝑥2 − 2 = 0\n",
    "\n",
    "This is the equation of a straight line. Data points that satisfy this equation lie on the decision boundary.\n",
    "\n",
    "- Classify a New Point: To classify a new data point, say (3,4):\n",
    "\n",
    "    $$ 0.5*3 + 0.5*4 − 2 = 1.5+2−2 = 1.5 $$\n",
    "\n",
    "- Since the result (1.5) is positive, the point (3,4) is classified as Class A. If it were negative, it would be classified as Class B."
   ]
  },
  {
   "cell_type": "code",
   "execution_count": 7,
   "id": "5ff9c99b-b5f3-4645-9b5a-02eb1b7e46c9",
   "metadata": {},
   "outputs": [
    {
     "data": {
      "image/png": "[encoded data removed]",
      "text/plain": [
       "<Figure size 800x600 with 1 Axes>"
      ]
     },
     "metadata": {},
     "output_type": "display_data"
    }
   ],
   "source": [
    "import matplotlib.pyplot as plt\n",
    "\n",
    "# Data points for Class A and Class B\n",
    "class_A = [(2, 3), (3, 3), (4, 5)]\n",
    "class_B = [(1, 1), (2, 1), (3, 2)]\n",
    "\n",
    "# Separate the data points into x and y coordinates\n",
    "x_A, y_A = zip(*class_A)\n",
    "x_B, y_B = zip(*class_B)\n",
    "\n",
    "# Create the plot\n",
    "plt.figure(figsize=(8, 6))\n",
    "plt.scatter(x_A, y_A, color='blue', label='Class A')\n",
    "plt.scatter(x_B, y_B, color='red', label='Class B')\n",
    "\n",
    "# Add labels, title, and legend\n",
    "plt.xlabel('$x_1$')\n",
    "plt.ylabel('$x_2$')\n",
    "plt.title('Data Points Visualization')\n",
    "plt.legend()\n",
    "plt.grid(True)\n",
    "\n",
    "# Display the plot\n",
    "plt.show()\n"
   ]
  },
  {
   "cell_type": "code",
   "execution_count": 8,
   "id": "85c2b64e-0293-43e0-9434-a09939b97f8f",
   "metadata": {},
   "outputs": [
    {
     "name": "stdout",
     "output_type": "stream",
     "text": [
      "The new point [3 4] is classified as Class A\n"
     ]
    },
    {
     "data": {
      "image/png": "[encoded data removed]",
      "text/plain": [
       "<Figure size 800x600 with 1 Axes>"
      ]
     },
     "metadata": {},
     "output_type": "display_data"
    }
   ],
   "source": [
    "import numpy as np\n",
    "from sklearn.svm import SVC\n",
    "import matplotlib.pyplot as plt\n",
    "\n",
    "# Data points for Class A and Class B\n",
    "class_A = [(2, 3), (3, 3), (4, 5)]\n",
    "class_B = [(1, 1), (2, 1), (3, 2)]\n",
    "\n",
    "# Combine the data points and create labels\n",
    "X = np.array(class_A + class_B)\n",
    "y = np.array([1] * len(class_A) + [0] * len(class_B))\n",
    "\n",
    "# Create and train the SVM with a linear kernel\n",
    "clf = SVC(kernel='linear')\n",
    "clf.fit(X, y)\n",
    "\n",
    "# Define the new data point to classify\n",
    "new_point = np.array([[3, 4]])\n",
    "\n",
    "# Classify the new data point\n",
    "classification = clf.predict(new_point)\n",
    "print(f'The new point {new_point[0]} is classified as Class {\"A\" if classification == 1 else \"B\"}')\n",
    "\n",
    "# Plot the decision boundary and data points\n",
    "plt.figure(figsize=(8, 6))\n",
    "plt.scatter(*zip(*class_A), color='blue', label='Class A')\n",
    "plt.scatter(*zip(*class_B), color='red', label='Class B')\n",
    "plt.scatter(new_point[:, 0], new_point[:, 1], color='green', label='New Point (3, 4)', marker='x', s=100)\n",
    "\n",
    "# Plot decision boundary\n",
    "w = clf.coef_[0]\n",
    "a = -w[0] / w[1]\n",
    "xx = np.linspace(0, 5)\n",
    "yy = a * xx - (clf.intercept_[0]) / w[1]\n",
    "plt.plot(xx, yy, 'k-')\n",
    "\n",
    "plt.xlabel('$x_1$')\n",
    "plt.ylabel('$x_2$')\n",
    "plt.title('Linear SVM Classification')\n",
    "plt.legend()\n",
    "plt.grid(True)\n",
    "plt.show()\n"
   ]
  },
  {
   "cell_type": "code",
   "execution_count": null,
   "id": "1a94d377-cf35-4efc-8a15-ba7dcff2ee0d",
   "metadata": {},
   "outputs": [],
   "source": []
  }
 ],
 "metadata": {
  "kernelspec": {
   "display_name": "Python 3 (ipykernel)",
   "language": "python",
   "name": "python3"
  },
  "language_info": {
   "codemirror_mode": {
    "name": "ipython",
    "version": 3
   },
   "file_extension": ".py",
   "mimetype": "text/x-python",
   "name": "python",
   "nbconvert_exporter": "python",
   "pygments_lexer": "ipython3",
   "version": "3.10.16"
  }
 },
 "nbformat": 4,
 "nbformat_minor": 5
}
