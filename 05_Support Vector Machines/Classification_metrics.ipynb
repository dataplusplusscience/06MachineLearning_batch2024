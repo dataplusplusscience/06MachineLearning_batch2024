{
 "cells": [
  {
   "cell_type": "markdown",
   "id": "26d3ebde-9fb6-4fa0-a585-78508fcc364b",
   "metadata": {},
   "source": [
    "### SVC Classifier metrics"
   ]
  },
  {
   "cell_type": "markdown",
   "id": "0fa007ae-1734-40e4-be2f-7c41e62bf584",
   "metadata": {},
   "source": [
    "\n",
    "|Evaluation Metric\t|Description\t|Use Case|Formula|\n",
    "|------------|--------------|----------|-----|\n",
    "|Accuracy\t|The proportion of correctly classified instances among the total instances.\t|General performance evaluation when the class distribution is balanced.|$$\\text{Accuracy} = \\frac{TP+TN}{TP+TN+FP+FN}  $$|\n",
    "|Precision\t|The proportion of true positive predictions among the total positive predictions.\t|Important when the cost of false positives is high.|$$\\text{Precision} = \\frac{TP}{TP + FP} $$|\n",
    "|Recall (Sensitivity)\t|The proportion of true positive predictions among the actual positive instances.\t|Crucial when the cost of false negatives is high.|$$\\text{Recall} = \\frac{TP}{TP + FN} $$|\n",
    "|F1-Score\t|The harmonic mean of precision and recall.|\tUseful for imbalanced class distributions as it balances precision and recall.|$$ \\text{F1-Score} = 2 \\cdot \\frac{\\text{Precision} \\cdot \\text{Recall}}{\\text{Precision} + \\text{Recall}}$$|\n",
    "|ROC-AUC Score\t|The area under the Receiver Operating Characteristic curve, which plots the true positive rate against the false positive rate.\t|Evaluates the classifier's ability to distinguish between positive and negative instances.||\n",
    "|Confusion Matrix\t|A matrix that summarizes the performance by showing the true positives (TP), true negatives (TN), false positives (FP), and false negatives (FN).\t|Provides a comprehensive view of the model's performance and error distribution.||\n",
    "|Cohen's Kappa\t|Measures the agreement between predicted and true labels, adjusted for chance.|Useful to compare model performance when the class distribution is imbalanced.|$$\\kappa = \\frac{p_o - p_e}{1 - p_e} $$ where: $$p_o$$ is the observed agreement (proportion of instances where the raters/classifiers agree)  $$p_e$$ is the expected agreement by chance|\n",
    "|Matthews Correlation Coefficient (MCC)\t|A measure of the quality of binary classifications, taking into account TP, TN, FP, and FN.\t|Effective for evaluating performance with imbalanced datasets.|$$\\text{MCC} = \\frac{TP \\cdot TN - FP \\cdot FN}{\\sqrt{(TP + FP)(TP + FN)(TN + FP)(TN + FN)}} $$|\n",
    "|Hinge Loss|Hinge loss is specifically designed for binary classification tasks where the goal is to separate two classes with a large margin.|If your goal is to create a classifier that not only separates the classes but also maximizes the margin between them, hinge loss is an ideal choice. This property is particularly useful for achieving better generalization performance.|The hinge loss for a given training set $$ (x_i, y_i) $$ where $$(x_i)$$ is the feature vector and $$(y_i \\in \\{-1, +1\\})$$ is the class label is defined as follows:$$ L(y, f(x)) = \\max(0, 1 - y \\cdot f(x)) $$|"
   ]
  },
  {
   "cell_type": "markdown",
   "id": "acf14855-9203-498a-9129-91050e8ec365",
   "metadata": {},
   "source": [
    "Ref: https://freedium.cfd/https://medium.com/towards-data-science/classification-metrics-thresholds-explained-caff18ad2747"
   ]
  },
  {
   "cell_type": "markdown",
   "id": "0ad28c22-9bde-4058-ad4c-7a31e3f147b4",
   "metadata": {},
   "source": [
    "https://en.wikipedia.org/wiki/Cohen%27s_kappa"
   ]
  },
  {
   "cell_type": "markdown",
   "id": "e147a19d-7681-4754-85c6-c861c4c3b7f0",
   "metadata": {},
   "source": [
    "https://datatab.net/tutorial/cohens-kappa"
   ]
  },
  {
   "cell_type": "markdown",
   "id": "1fa8e2ee-9159-49c3-98d0-8cdc7ac3654c",
   "metadata": {},
   "source": [
    "https://www.activeloop.ai/resources/glossary/matthews-correlation-coefficient-mcc/#:~:text=The%20Matthews%20coefficient%2C%20also%20known%20as%20the%20Matthews,considering%20all%20four%20elements%20of%20a%20confusion%20matrix."
   ]
  },
  {
   "cell_type": "markdown",
   "id": "f0c7c9d4-3718-42bf-b4d4-ebbb784de1bb",
   "metadata": {},
   "source": [
    "https://medium.com/towards-data-science/matthews-correlation-coefficient-when-to-use-it-and-when-to-avoid-it-310b3c923f7e"
   ]
  },
  {
   "cell_type": "markdown",
   "id": "af1a69fb-157d-407b-8ebf-c73809dc4aa7",
   "metadata": {},
   "source": [
    "https://medium.com/analytics-vidhya/understanding-loss-functions-hinge-loss-a0ff112b40a1"
   ]
  },
  {
   "cell_type": "code",
   "execution_count": null,
   "id": "cfe69319-f550-4475-baf5-cdcf5e3960ff",
   "metadata": {},
   "outputs": [],
   "source": []
  }
 ],
 "metadata": {
  "kernelspec": {
   "display_name": "Python 3 (ipykernel)",
   "language": "python",
   "name": "python3"
  },
  "language_info": {
   "codemirror_mode": {
    "name": "ipython",
    "version": 3
   },
   "file_extension": ".py",
   "mimetype": "text/x-python",
   "name": "python",
   "nbconvert_exporter": "python",
   "pygments_lexer": "ipython3",
   "version": "3.10.16"
  }
 },
 "nbformat": 4,
 "nbformat_minor": 5
}
