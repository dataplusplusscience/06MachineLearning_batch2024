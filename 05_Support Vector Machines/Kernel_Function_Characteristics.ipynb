{
 "cells": [
  {
   "cell_type": "markdown",
   "id": "55a8666e-9f90-43f4-a9dc-bd0aafdefa9f",
   "metadata": {},
   "source": [
    "### Characteristics of Kernel Function\n",
    "Kernel functions used in machine learning, including in SVMs (Support Vector Machines), have several important characteristics, including:\n",
    "\n",
    "- Transformation: Kernels allow SVMs to operate in a higher-dimensional space without explicitly mapping the data into that space. This makes it possible to capture complex relationships between data points.\n",
    "- Mercer's condition: A kernel function must satisfy Mercer's condition to be valid. This condition ensures that the kernel function is positive semi definite, which means that it is always greater than or equal to zero.\n",
    "- Positive definiteness: A kernel function is positive definite if it is always greater than zero except for when the inputs are equal to each other.\n",
    "- Non-negativity: A kernel function is non-negative, meaning that it produces non-negative values for all inputs.\n",
    "- Symmetry: A kernel function is symmetric, meaning that it produces the same value regardless of the order in which the inputs are given.\n",
    "- Reproducing property: A kernel function satisfies the reproducing property if it can be used to reconstruct the input data in the feature space.\n",
    "- Smoothness: A kernel function is said to be smooth if it produces a smooth transformation of the input data into the feature space.\n",
    "- Complexity: The complexity of a kernel function is an important consideration, as more complex kernel functions may lead to over fitting and reduced generalization performance."
   ]
  },
  {
   "cell_type": "markdown",
   "id": "966fec77-d52d-49dd-9a50-bb673d7355bc",
   "metadata": {},
   "source": [
    "### Hard and soft Margin"
   ]
  },
  {
   "cell_type": "markdown",
   "id": "306da680-f335-44cd-817a-3de05a6d3e57",
   "metadata": {},
   "source": [
    "Hard margin SVM aims to find a hyperplane that perfectly separates the data into different classes without allowing any misclassifications. This means that all data points must be correctly classified, and there must be no data points within the margin. The goal is to maximize the margin between the classes, which is the distance between the hyperplane and the closest data points (support vectors).\n",
    "\n",
    "- When to use: Hard margin SVM is suitable when the data is linearly separable, meaning there is a clear boundary that can perfectly divide the classes.\n",
    "\n",
    "- Advantages: Provides a clear and precise decision boundary with no misclassifications.\n",
    "\n",
    "- Disadvantages: Highly sensitive to outliers and noise. If the data is not perfectly separable, the hard margin SVM may fail to find a solution."
   ]
  },
  {
   "cell_type": "markdown",
   "id": "dd5bd5cb-64ea-47f4-be54-85e8e469a8f6",
   "metadata": {},
   "source": [
    "Mathematically, the optimization problem for hard margin SVM is:"
   ]
  },
  {
   "cell_type": "markdown",
   "id": "747e7c02-80fd-4145-9a86-787c9da3b497",
   "metadata": {},
   "source": [
    "\\begin{align}\n",
    "\\min_{\\mathbf{w}, b} & \\quad \\frac{1}{2} \\|\\mathbf{w}\\|^2 \\\\\n",
    "\\text{subject to} & \\quad y_i (\\mathbf{w} \\cdot \\mathbf{x}_i + b) \\ge 1 \\quad \\forall i\n",
    "\\end{align}\n"
   ]
  },
  {
   "cell_type": "markdown",
   "id": "de252b97-809e-43d1-8cd3-c67f7751f5ec",
   "metadata": {},
   "source": [
    "##### Soft Margin SVM\n",
    "Soft margin SVM introduces some flexibility by allowing a certain degree of misclassification. Instead of requiring a perfect separation, it aims to find a balance between maximizing the margin and minimizing the classification error. This is achieved by introducing slack variables (\n",
    "𝜉\n",
    "𝑖\n",
    ") that measure the degree of misclassification for each data point.\n",
    "\n",
    "- When to use: Soft margin SVM is suitable when the data is not linearly separable, allowing the algorithm to tolerate some misclassified data points.\n",
    "\n",
    "- Advantages: More robust to noise and outliers. It can handle cases where the data is not perfectly separable.\n",
    "\n",
    "- Disadvantages: Requires tuning of the penalty parameter (C), which controls the trade-off between maximizing the margin and minimizing the classification error."
   ]
  },
  {
   "cell_type": "markdown",
   "id": "50490ab3-dbd3-4217-8289-af71e62ad9f2",
   "metadata": {},
   "source": [
    "Mathematically, the optimization problem for soft margin SVM is:"
   ]
  },
  {
   "cell_type": "markdown",
   "id": "def2c76d-f67c-41f3-8530-1040edd29ad1",
   "metadata": {},
   "source": [
    "\\begin{align}\n",
    "\\min_{\\mathbf{w}, b, \\xi} & \\quad \\frac{1}{2} \\|\\mathbf{w}\\|^2 + C \\sum_{i=1}^{n} \\xi_i \\\\\n",
    "\\text{subject to} & \\quad y_i (\\mathbf{w} \\cdot \\mathbf{x}_i + b) \\ge 1 - \\xi_i \\quad \\forall i \\\\\n",
    "& \\quad \\xi_i \\ge 0\n",
    "\\end{align}\n"
   ]
  },
  {
   "cell_type": "markdown",
   "id": "7bd2c5e8-0472-4178-9f35-ddaaf4bd2d0b",
   "metadata": {},
   "source": [
    "### How to control margin??"
   ]
  },
  {
   "cell_type": "markdown",
   "id": "cc85fa07-02db-4e57-8bcc-7dde22ef85c7",
   "metadata": {},
   "source": [
    "##### 1. Penalty Parameter (C)\n",
    "The penalty parameter, often denoted as \n",
    "𝐶\n",
    ", plays a crucial role in controlling the margin in soft margin SVM. It determines the trade-off between maximizing the margin and minimizing the classification error.\n",
    "\n",
    "- High \n",
    "𝐶\n",
    " value: A higher value of \n",
    "𝐶\n",
    " puts more emphasis on minimizing classification errors, leading to a smaller margin. The SVM will try to classify all training examples correctly, which can lead to overfitting.\n",
    "\n",
    "- Low \n",
    "𝐶\n",
    " value: A lower value of \n",
    "𝐶\n",
    " puts less emphasis on classification errors, allowing for a larger margin. The SVM will tolerate more misclassifications, which can lead to better generalization."
   ]
  },
  {
   "cell_type": "markdown",
   "id": "42c4d52b-5c71-4524-9970-09faa8e634df",
   "metadata": {},
   "source": [
    "##### 2. Kernel Function\n",
    "The choice of the kernel function also affects the margin. Different kernel functions can transform the data into higher-dimensional spaces in various ways, influencing the margin.\n",
    "\n",
    "- Linear Kernel: Suitable for linearly separable data. The margin is a straight line (or hyperplane).\n",
    "\n",
    "- Polynomial and RBF Kernels: Suitable for non-linear data. These kernels can create more complex decision boundaries, affecting the margin's shape and size."
   ]
  },
  {
   "cell_type": "markdown",
   "id": "6efab5ee-c913-4eb8-92a6-2c309c961e2e",
   "metadata": {},
   "source": [
    "##### 3. Slack Variables (𝜉)\n",
    "In soft margin SVM, slack variables \n",
    "𝜉\n",
    "𝑖\n",
    " are introduced to allow for some misclassification. The value of these slack variables affects the margin:\n",
    "\n",
    "- Higher Slack Variables: Allow more data points to be within the margin or misclassified, leading to a larger margin.\n",
    "\n",
    "- Lower Slack Variables: Strive to classify more data points correctly, leading to a smaller margin."
   ]
  },
  {
   "cell_type": "markdown",
   "id": "1be0e732-b333-4acb-8b53-bf7d81c3272a",
   "metadata": {},
   "source": [
    "### Kernel Parameters"
   ]
  },
  {
   "cell_type": "code",
   "execution_count": 3,
   "id": "252606fb-52bd-441a-9c65-603d87faf646",
   "metadata": {},
   "outputs": [],
   "source": [
    "from sklearn import svm"
   ]
  },
  {
   "cell_type": "code",
   "execution_count": 4,
   "id": "bfd44c49-b807-4154-9fce-5b4e4db213ff",
   "metadata": {},
   "outputs": [],
   "source": [
    "Linearmodel = svm.LinearSVC()"
   ]
  },
  {
   "cell_type": "raw",
   "id": "287d712f-c09c-4200-ae50-b9b4db0b7bd6",
   "metadata": {},
   "source": [
    "penalty='l2',\n",
    "    loss='squared_hinge',\n",
    "    *,\n",
    "    dual='auto', #lagrange multipliers\n",
    "    tol=0.0001,\n",
    "    C=1.0,\n",
    "    multi_class='ovr',\n",
    "    fit_intercept=True,\n",
    "    intercept_scaling=1,\n",
    "    class_weight=None,\n",
    "    verbose=0,\n",
    "    random_state=None,\n",
    "    max_iter=1000,"
   ]
  },
  {
   "cell_type": "code",
   "execution_count": null,
   "id": "a0a56f54-cc42-497a-af3f-5c967053f63f",
   "metadata": {},
   "outputs": [],
   "source": [
    "Parameters\n",
    "----------\n",
    "penalty : {'l1', 'l2'}, default='l2'\n",
    "    Specifies the norm used in the penalization. The 'l2'\n",
    "    penalty is the standard used in SVC. The 'l1' leads to ``coef_``\n",
    "    vectors that are sparse.\n",
    "\n",
    "loss : {'hinge', 'squared_hinge'}, default='squared_hinge'\n",
    "    Specifies the loss function. 'hinge' is the standard SVM loss\n",
    "    (used e.g. by the SVC class) while 'squared_hinge' is the\n",
    "    square of the hinge loss. The combination of ``penalty='l1'``\n",
    "    and ``loss='hinge'`` is not supported.\n",
    "\n",
    "dual : \"auto\" or bool, default=\"auto\"\n",
    "    Select the algorithm to either solve the dual or primal\n",
    "    optimization problem. Prefer dual=False when n_samples > n_features.\n",
    "    `dual=\"auto\"` will choose the value of the parameter automatically,\n",
    "    based on the values of `n_samples`, `n_features`, `loss`, `multi_class`\n",
    "    and `penalty`. If `n_samples` < `n_features` and optimizer supports\n",
    "    chosen `loss`, `multi_class` and `penalty`, then dual will be set to True,\n",
    "    otherwise it will be set to False.\n",
    "\n",
    "    .. versionchanged:: 1.3\n",
    "       The `\"auto\"` option is added in version 1.3 and will be the default\n",
    "       in version 1.5.\n",
    "\n",
    "tol : float, default=1e-4\n",
    "    Tolerance for stopping criteria.\n",
    "\n",
    "C : float, default=1.0\n",
    "    Regularization parameter. The strength of the regularization is\n",
    "    inversely proportional to C. Must be strictly positive.\n",
    "    For an intuitive visualization of the effects of scaling\n",
    "    the regularization parameter C, see\n",
    "    :ref:`sphx_glr_auto_examples_svm_plot_svm_scale_c.py`.\n",
    "\n",
    "multi_class : {'ovr', 'crammer_singer'}, default='ovr'  #class 1 - class 2 - class 3\n",
    "    Determines the multi-class strategy if `y` contains more than\n",
    "    two classes.\n",
    "    ``\"ovr\"`` trains n_classes one-vs-rest classifiers, while\n",
    "    ``\"crammer_singer\"`` optimizes a joint objective over all classes.\n",
    "    While `crammer_singer` is interesting from a theoretical perspective\n",
    "    as it is consistent, it is seldom used in practice as it rarely leads\n",
    "    to better accuracy and is more expensive to compute.\n",
    "    If ``\"crammer_singer\"`` is chosen, the options loss, penalty and dual\n",
    "    will be ignored.\n",
    "\n",
    "fit_intercept : bool, default=True\n",
    "    Whether or not to fit an intercept. If set to True, the feature vector\n",
    "    is extended to include an intercept term: `[x_1, ..., x_n, 1]`, where\n",
    "    1 corresponds to the intercept. If set to False, no intercept will be\n",
    "    used in calculations (i.e. data is expected to be already centered).\n",
    "\n",
    "intercept_scaling : float, default=1.0\n",
    "    When `fit_intercept` is True, the instance vector x becomes ``[x_1,\n",
    "    ..., x_n, intercept_scaling]``, i.e. a \"synthetic\" feature with a\n",
    "    constant value equal to `intercept_scaling` is appended to the instance\n",
    "    vector. The intercept becomes intercept_scaling * synthetic feature\n",
    "    weight. Note that liblinear internally penalizes the intercept,\n",
    "    treating it like any other term in the feature vector. To reduce the\n",
    "    impact of the regularization on the intercept, the `intercept_scaling`\n",
    "    parameter can be set to a value greater than 1; the higher the value of\n",
    "    `intercept_scaling`, the lower the impact of regularization on it.\n",
    "    Then, the weights become `[w_x_1, ..., w_x_n,\n",
    "    w_intercept*intercept_scaling]`, where `w_x_1, ..., w_x_n` represent\n",
    "    the feature weights and the intercept weight is scaled by\n",
    "    `intercept_scaling`. This scaling allows the intercept term to have a\n",
    "    different regularization behavior compared to the other features.\n",
    "\n",
    "class_weight : dict or 'balanced', default=None\n",
    "    Set the parameter C of class i to ``class_weight[i]*C`` for\n",
    "    SVC. If not given, all classes are supposed to have\n",
    "    weight one.\n",
    "    The \"balanced\" mode uses the values of y to automatically adjust\n",
    "    weights inversely proportional to class frequencies in the input data\n",
    "    as ``n_samples / (n_classes * np.bincount(y))``.\n",
    "\n",
    "verbose : int, default=0\n",
    "    Enable verbose output. Note that this setting takes advantage of a\n",
    "    per-process runtime setting in liblinear that, if enabled, may not work\n",
    "    properly in a multithreaded context.\n",
    "\n",
    "random_state : int, RandomState instance or None, default=None\n",
    "    Controls the pseudo random number generation for shuffling the data for\n",
    "    the dual coordinate descent (if ``dual=True``). When ``dual=False`` the\n",
    "    underlying implementation of :class:`LinearSVC` is not random and\n",
    "    ``random_state`` has no effect on the results.\n",
    "    Pass an int for reproducible output across multiple function calls.\n",
    "    See :term:`Glossary <random_state>`.\n",
    "\n",
    "max_iter : int, default=1000\n",
    "    The maximum number of iterations to be run.\n"
   ]
  },
  {
   "cell_type": "markdown",
   "id": "2867cd82-69ae-45a8-b9f5-a967b72d38fe",
   "metadata": {},
   "source": [
    "### Primal vs. Dual Formulation"
   ]
  },
  {
   "cell_type": "markdown",
   "id": "b98fb1e0-6a1c-4922-85ef-1bce8ac607a0",
   "metadata": {},
   "source": [
    "##### Primal Formulation\n",
    "In the primal formulation, we aim to find the weight vector \n",
    "𝑤\n",
    " and bias \n",
    "𝑏\n",
    " that define the hyperplane separating the classes. The optimization problem for a soft margin SVM is:"
   ]
  },
  {
   "cell_type": "markdown",
   "id": "d924dd08-3496-4a60-8c9e-30983a3d55c5",
   "metadata": {},
   "source": [
    "\\begin{align}\n",
    "\\min_{\\mathbf{w}, b, \\xi} & \\quad \\frac{1}{2} \\|\\mathbf{w}\\|^2 + C \\sum_{i=1}^{n} \\xi_i \\\\\n",
    "\\text{subject to} & \\quad y_i (\\mathbf{w} \\cdot \\mathbf{x}_i + b) \\ge 1 - \\xi_i \\quad \\forall i \\\\\n",
    "& \\quad \\xi_i \\ge 0\n",
    "\\end{align}\n"
   ]
  },
  {
   "cell_type": "markdown",
   "id": "ab163110-8588-47cb-a8a2-f11b1024fadf",
   "metadata": {},
   "source": [
    "##### Dual Formulation"
   ]
  },
  {
   "cell_type": "markdown",
   "id": "77b64fc1-6709-47ed-99e2-439a4db96f1d",
   "metadata": {},
   "source": [
    "In the dual formulation, we aim to find the dual variables (also called Lagrange multipliers) \n",
    "𝛼\n",
    "𝑖\n",
    " instead of directly finding \n",
    "𝑤\n",
    " and \n",
    "𝑏\n",
    ". The dual formulation leverages the concept of Lagrange multipliers to transform the primal problem into its dual form. This transformation has several advantages, including the ability to handle non-linear kernels."
   ]
  },
  {
   "cell_type": "markdown",
   "id": "ae02dc04-35fb-4748-a600-e6f4e76baa91",
   "metadata": {},
   "source": [
    "The dual optimization problem is:"
   ]
  },
  {
   "cell_type": "markdown",
   "id": "ee7d7805-daf6-4e8c-a233-918d01dfbf75",
   "metadata": {},
   "source": [
    "\\begin{align}\n",
    "\\max_{\\alpha} & \\quad \\sum_{i=1}^{n} \\alpha_i - \\frac{1}{2} \\sum_{i=1}^{n} \\sum_{j=1}^{n} \\alpha_i \\alpha_j y_i y_j K(\\mathbf{x}_i, \\mathbf{x}_j) \\\\\n",
    "\\text{subject to} & \\quad 0 \\le \\alpha_i \\le C \\quad \\forall i \\\\\n",
    "& \\quad \\sum_{i=1}^{n} \\alpha_i y_i = 0\n",
    "\\end{align}\n"
   ]
  },
  {
   "cell_type": "markdown",
   "id": "4f94b79c-b961-4a66-a084-b9f0fed77ef2",
   "metadata": {},
   "source": [
    "Objective Function: The goal is to maximize the objective function, which includes the dual variables \n",
    "𝛼\n",
    "𝑖\n",
    ", the labels \n",
    "𝑦\n",
    "𝑖\n",
    " and \n",
    "𝑦\n",
    "𝑗\n",
    ", and the kernel function \n",
    "𝐾\n",
    "(\n",
    "𝑥\n",
    "𝑖\n",
    ",\n",
    "𝑥\n",
    "𝑗\n",
    ")\n",
    "."
   ]
  },
  {
   "cell_type": "markdown",
   "id": "5a873ed2-fcbe-4d26-8592-f9a6ebcc6ef0",
   "metadata": {},
   "source": [
    "### Working of Dual Parameters\n",
    "- Lagrange Multipliers (Dual Variables): The dual variables \n",
    "𝛼\n",
    "𝑖\n",
    " are introduced to convert the constrained optimization problem into a form that is easier to solve, especially when using kernel functions.\n",
    "\n",
    "- Kernel Trick: The dual formulation allows the use of the kernel trick. Instead of explicitly transforming the data into a higher-dimensional space, we use a kernel function \n",
    "𝐾\n",
    "(\n",
    "𝑥\n",
    "𝑖\n",
    ",\n",
    "𝑥\n",
    "𝑗\n",
    ")\n",
    " to compute the inner product in that space. This makes it computationally efficient to handle non-linear decision boundaries.\n",
    "\n",
    "- Support Vectors: In the dual formulation, only a subset of the training data points (those with non-zero \n",
    "𝛼\n",
    "𝑖\n",
    ") contribute to defining the decision boundary. These points are called support vectors. The decision boundary is determined by these support vectors and their corresponding dual variables.\n",
    "\n",
    "- Decision Function: Once the dual variables are found, the decision function can be expressed as:\n",
    "\n",
    "$$ f(\\mathbf{x}) = \\sum_{i=1}^{n} \\alpha_i y_i K(\\mathbf{x}_i, \\mathbf{x}) + b $$\n",
    "\n",
    "where, \n",
    "𝑓\n",
    "(\n",
    "𝑥\n",
    ")\n",
    " is the decision function.\n",
    "\n",
    "𝛼\n",
    "𝑖\n",
    " are the dual variables (Lagrange multipliers).\n",
    "\n",
    "𝑦\n",
    "𝑖\n",
    " are the class labels of the training data.\n",
    "\n",
    "𝐾\n",
    "(\n",
    "𝑥\n",
    "𝑖\n",
    ",\n",
    "𝑥\n",
    ")\n",
    " is the kernel function.\n",
    "\n",
    "𝑏\n",
    " is the bias term.\n",
    " \n",
    "- This function determines which side of the hyperplane a new data point \n",
    "𝑥\n",
    " lies on.\n",
    "\n",
    "Optimization: The dual problem is a quadratic programming problem, which can be efficiently solved using numerical optimization techniques. Solving the dual problem provides the optimal values of \n",
    "𝛼\n",
    "𝑖\n",
    ", which are then used to compute the weight vector \n",
    "𝑤\n",
    " and bias \n",
    "𝑏\n",
    "."
   ]
  },
  {
   "cell_type": "code",
   "execution_count": null,
   "id": "db689451-7943-41c8-85c1-f0b7916b8027",
   "metadata": {},
   "outputs": [],
   "source": []
  },
  {
   "cell_type": "code",
   "execution_count": 6,
   "id": "81e9a823-ee61-4243-951c-23d5603f15b1",
   "metadata": {},
   "outputs": [
    {
     "data": {
      "image/png": "[encoded data removed]",
      "text/plain": [
       "<Figure size 640x480 with 1 Axes>"
      ]
     },
     "metadata": {},
     "output_type": "display_data"
    }
   ],
   "source": [
    "import numpy as np\n",
    "import matplotlib.pyplot as plt\n",
    "from mpl_toolkits.mplot3d import Axes3D\n",
    "from sklearn import svm\n",
    "\n",
    "# Generate some 3D linearly separable data\n",
    "np.random.seed(0)\n",
    "X = np.random.randn(20, 3)\n",
    "y = np.array([0]*10 + [1]*10)\n",
    "X[:10] += 1\n",
    "X[10:] -= 1\n",
    "\n",
    "# Fit the SVM model\n",
    "clf = svm.SVC(kernel='linear', C=1000)\n",
    "clf.fit(X, y)\n",
    "\n",
    "# Get the separating hyperplane\n",
    "w = clf.coef_[0]\n",
    "a = -w[0] / w[2]\n",
    "b = -w[1] / w[2]\n",
    "xx, yy = np.meshgrid(np.linspace(-3, 3, 10), np.linspace(-3, 3, 10))\n",
    "zz = a * xx + b * yy - (clf.intercept_[0]) / w[2]  #y = m1x1+m2x2+c\n",
    "\n",
    "# Plot the data points and the hyperplane in 3D\n",
    "fig = plt.figure()\n",
    "ax = fig.add_subplot(111, projection='3d')\n",
    "ax.scatter(X[:, 0], X[:, 1], X[:, 2], c=y, cmap=plt.cm.Paired, edgecolors='k')\n",
    "ax.plot_surface(xx, yy, zz, color='r', alpha=0.5)\n",
    "\n",
    "# Plot support vectors\n",
    "ax.scatter(clf.support_vectors_[:, 0], clf.support_vectors_[:, 1], clf.support_vectors_[:, 2], s=100, facecolors='none', edgecolors='k')\n",
    "ax.set_xlabel('Feature 1')\n",
    "ax.set_ylabel('Feature 2')\n",
    "ax.set_zlabel('Feature 3')\n",
    "ax.set_title('SVM Hyperplane in 3D Space')\n",
    "plt.show()\n"
   ]
  },
  {
   "cell_type": "code",
   "execution_count": 7,
   "id": "ae4db087-c411-4d8a-a984-d5e6ee01e998",
   "metadata": {},
   "outputs": [
    {
     "data": {
      "text/plain": [
       "array([[ 2.76405235,  1.40015721,  1.97873798],\n",
       "       [ 3.2408932 ,  2.86755799,  0.02272212],\n",
       "       [ 1.95008842,  0.84864279,  0.89678115],\n",
       "       [ 1.4105985 ,  1.14404357,  2.45427351],\n",
       "       [ 1.76103773,  1.12167502,  1.44386323],\n",
       "       [ 1.33367433,  2.49407907,  0.79484174],\n",
       "       [ 1.3130677 ,  0.14590426, -1.55298982],\n",
       "       [ 1.6536186 ,  1.8644362 ,  0.25783498],\n",
       "       [ 3.26975462, -0.45436567,  1.04575852],\n",
       "       [ 0.81281615,  2.53277921,  2.46935877],\n",
       "       [-0.84505257, -0.62183748, -1.88778575],\n",
       "       [-2.98079647, -1.34791215, -0.84365103],\n",
       "       [ 0.23029068,  0.20237985, -1.38732682],\n",
       "       [-1.30230275, -2.04855297, -2.42001794],\n",
       "       [-2.70627019,  0.9507754 , -1.50965218],\n",
       "       [-1.4380743 , -2.25279536, -0.22250964],\n",
       "       [-2.61389785, -1.21274028, -1.89546656],\n",
       "       [-0.6130975 , -1.51080514, -2.18063218],\n",
       "       [-1.02818223, -0.57166813, -0.93348278],\n",
       "       [-0.6975281 , -1.63432209, -1.36274117]])"
      ]
     },
     "execution_count": 7,
     "metadata": {},
     "output_type": "execute_result"
    }
   ],
   "source": [
    "X"
   ]
  },
  {
   "cell_type": "code",
   "execution_count": 8,
   "id": "b54fb7ac-e406-47d4-8d80-cd2f806aa678",
   "metadata": {},
   "outputs": [
    {
     "data": {
      "text/plain": [
       "array([0, 0, 0, 0, 0, 0, 0, 0, 0, 0, 1, 1, 1, 1, 1, 1, 1, 1, 1, 1])"
      ]
     },
     "execution_count": 8,
     "metadata": {},
     "output_type": "execute_result"
    }
   ],
   "source": [
    "y"
   ]
  },
  {
   "cell_type": "code",
   "execution_count": 9,
   "id": "0434001d-f5ca-4963-9f2a-667590be0ffd",
   "metadata": {},
   "outputs": [
    {
     "data": {
      "text/plain": [
       "array([-1.8767181 , -0.15757929, -0.13985001])"
      ]
     },
     "execution_count": 9,
     "metadata": {},
     "output_type": "execute_result"
    }
   ],
   "source": [
    "w"
   ]
  },
  {
   "cell_type": "code",
   "execution_count": 10,
   "id": "bd525d25-7d86-4555-ab52-a544096cf49a",
   "metadata": {},
   "outputs": [
    {
     "data": {
      "text/plain": [
       "(-13.419506471221124, -1.1267735454576457)"
      ]
     },
     "execution_count": 10,
     "metadata": {},
     "output_type": "execute_result"
    }
   ],
   "source": [
    "a, b"
   ]
  },
  {
   "cell_type": "code",
   "execution_count": 11,
   "id": "7b2ecf96-5032-45d8-9194-46daf230dbda",
   "metadata": {},
   "outputs": [
    {
     "data": {
      "text/plain": [
       "array([[-3.        , -2.33333333, -1.66666667, -1.        , -0.33333333,\n",
       "         0.33333333,  1.        ,  1.66666667,  2.33333333,  3.        ],\n",
       "       [-3.        , -2.33333333, -1.66666667, -1.        , -0.33333333,\n",
       "         0.33333333,  1.        ,  1.66666667,  2.33333333,  3.        ],\n",
       "       [-3.        , -2.33333333, -1.66666667, -1.        , -0.33333333,\n",
       "         0.33333333,  1.        ,  1.66666667,  2.33333333,  3.        ],\n",
       "       [-3.        , -2.33333333, -1.66666667, -1.        , -0.33333333,\n",
       "         0.33333333,  1.        ,  1.66666667,  2.33333333,  3.        ],\n",
       "       [-3.        , -2.33333333, -1.66666667, -1.        , -0.33333333,\n",
       "         0.33333333,  1.        ,  1.66666667,  2.33333333,  3.        ],\n",
       "       [-3.        , -2.33333333, -1.66666667, -1.        , -0.33333333,\n",
       "         0.33333333,  1.        ,  1.66666667,  2.33333333,  3.        ],\n",
       "       [-3.        , -2.33333333, -1.66666667, -1.        , -0.33333333,\n",
       "         0.33333333,  1.        ,  1.66666667,  2.33333333,  3.        ],\n",
       "       [-3.        , -2.33333333, -1.66666667, -1.        , -0.33333333,\n",
       "         0.33333333,  1.        ,  1.66666667,  2.33333333,  3.        ],\n",
       "       [-3.        , -2.33333333, -1.66666667, -1.        , -0.33333333,\n",
       "         0.33333333,  1.        ,  1.66666667,  2.33333333,  3.        ],\n",
       "       [-3.        , -2.33333333, -1.66666667, -1.        , -0.33333333,\n",
       "         0.33333333,  1.        ,  1.66666667,  2.33333333,  3.        ]])"
      ]
     },
     "execution_count": 11,
     "metadata": {},
     "output_type": "execute_result"
    }
   ],
   "source": [
    "xx"
   ]
  },
  {
   "cell_type": "code",
   "execution_count": 12,
   "id": "7d52582e-5ff2-4811-8838-190784451ea5",
   "metadata": {},
   "outputs": [
    {
     "data": {
      "text/plain": [
       "array([[-3.        , -3.        , -3.        , -3.        , -3.        ,\n",
       "        -3.        , -3.        , -3.        , -3.        , -3.        ],\n",
       "       [-2.33333333, -2.33333333, -2.33333333, -2.33333333, -2.33333333,\n",
       "        -2.33333333, -2.33333333, -2.33333333, -2.33333333, -2.33333333],\n",
       "       [-1.66666667, -1.66666667, -1.66666667, -1.66666667, -1.66666667,\n",
       "        -1.66666667, -1.66666667, -1.66666667, -1.66666667, -1.66666667],\n",
       "       [-1.        , -1.        , -1.        , -1.        , -1.        ,\n",
       "        -1.        , -1.        , -1.        , -1.        , -1.        ],\n",
       "       [-0.33333333, -0.33333333, -0.33333333, -0.33333333, -0.33333333,\n",
       "        -0.33333333, -0.33333333, -0.33333333, -0.33333333, -0.33333333],\n",
       "       [ 0.33333333,  0.33333333,  0.33333333,  0.33333333,  0.33333333,\n",
       "         0.33333333,  0.33333333,  0.33333333,  0.33333333,  0.33333333],\n",
       "       [ 1.        ,  1.        ,  1.        ,  1.        ,  1.        ,\n",
       "         1.        ,  1.        ,  1.        ,  1.        ,  1.        ],\n",
       "       [ 1.66666667,  1.66666667,  1.66666667,  1.66666667,  1.66666667,\n",
       "         1.66666667,  1.66666667,  1.66666667,  1.66666667,  1.66666667],\n",
       "       [ 2.33333333,  2.33333333,  2.33333333,  2.33333333,  2.33333333,\n",
       "         2.33333333,  2.33333333,  2.33333333,  2.33333333,  2.33333333],\n",
       "       [ 3.        ,  3.        ,  3.        ,  3.        ,  3.        ,\n",
       "         3.        ,  3.        ,  3.        ,  3.        ,  3.        ]])"
      ]
     },
     "execution_count": 12,
     "metadata": {},
     "output_type": "execute_result"
    }
   ],
   "source": [
    "yy"
   ]
  },
  {
   "cell_type": "code",
   "execution_count": 13,
   "id": "08b2127b-807f-4d43-9321-f8081220fa0e",
   "metadata": {},
   "outputs": [
    {
     "data": {
      "text/plain": [
       "array([[ 52.72001665,  43.77367901,  34.82734136,  25.88100371,\n",
       "         16.93466606,   7.98832842,  -0.95800923,  -9.90434688,\n",
       "        -18.85068453, -27.79702217],\n",
       "       [ 51.96883429,  43.02249664,  34.076159  ,  25.12982135,\n",
       "         16.1834837 ,   7.23714605,  -1.70919159, -10.65552924,\n",
       "        -19.60186689, -28.54820454],\n",
       "       [ 51.21765193,  42.27131428,  33.32497663,  24.37863898,\n",
       "         15.43230134,   6.48596369,  -2.46037396, -11.40671161,\n",
       "        -20.35304925, -29.2993869 ],\n",
       "       [ 50.46646956,  41.52013192,  32.57379427,  23.62745662,\n",
       "         14.68111897,   5.73478133,  -3.21155632, -12.15789397,\n",
       "        -21.10423162, -30.05056926],\n",
       "       [ 49.7152872 ,  40.76894955,  31.8226119 ,  22.87627426,\n",
       "         13.92993661,   4.98359896,  -3.96273869, -12.90907633,\n",
       "        -21.85541398, -30.80175163],\n",
       "       [ 48.96410484,  40.01776719,  31.07142954,  22.12509189,\n",
       "         13.17875425,   4.2324166 ,  -4.71392105, -13.6602587 ,\n",
       "        -22.60659634, -31.55293399],\n",
       "       [ 48.21292247,  39.26658483,  30.32024718,  21.37390953,\n",
       "         12.42757188,   3.48123424,  -5.46510341, -14.41144106,\n",
       "        -23.35777871, -32.30411635],\n",
       "       [ 47.46174011,  38.51540246,  29.56906481,  20.62272717,\n",
       "         11.67638952,   2.73005187,  -6.21628578, -15.16262342,\n",
       "        -24.10896107, -33.05529872],\n",
       "       [ 46.71055775,  37.7642201 ,  28.81788245,  19.8715448 ,\n",
       "         10.92520716,   1.97886951,  -6.96746814, -15.91380579,\n",
       "        -24.86014343, -33.80648108],\n",
       "       [ 45.95937538,  37.01303773,  28.06670009,  19.12036244,\n",
       "         10.17402479,   1.22768714,  -7.7186505 , -16.66498815,\n",
       "        -25.6113258 , -34.55766345]])"
      ]
     },
     "execution_count": 13,
     "metadata": {},
     "output_type": "execute_result"
    }
   ],
   "source": [
    "zz"
   ]
  },
  {
   "cell_type": "code",
   "execution_count": 15,
   "id": "ae1b316f-4c98-4a34-850a-489dfccf4453",
   "metadata": {},
   "outputs": [],
   "source": [
    "numodel =svm.NuSVC()"
   ]
  },
  {
   "cell_type": "raw",
   "id": "23631c4e-4217-49db-b48c-922088298e26",
   "metadata": {},
   "source": [
    "svm.NuSVC(\n",
    "    *,\n",
    "    nu=0.5,\n",
    "    kernel='rbf',\n",
    "    degree=3,\n",
    "    gamma='scale',\n",
    "    coef0=0.0,\n",
    "    shrinking=True,\n",
    "    probability=False,\n",
    "    tol=0.001,\n",
    "    cache_size=200,\n",
    "    class_weight=None,\n",
    "    verbose=False,\n",
    "    max_iter=-1,\n",
    "    decision_function_shape='ovr',\n",
    "    break_ties=False,\n",
    "    random_state=None,"
   ]
  },
  {
   "cell_type": "code",
   "execution_count": null,
   "id": "48732f8b-20c2-46df-b80a-a97a9f8a5531",
   "metadata": {},
   "outputs": [],
   "source": [
    "Parameters\n",
    "----------\n",
    "nu : float, default=0.5\n",
    "    An upper bound on the fraction of margin errors (see :ref:`User Guide\n",
    "    <nu_svc>`) and a lower bound of the fraction of support vectors.\n",
    "    Should be in the interval (0, 1].\n",
    "\n",
    "kernel : {'linear', 'poly', 'rbf', 'sigmoid', 'precomputed'} or callable,          default='rbf'\n",
    "    Specifies the kernel type to be used in the algorithm.\n",
    "    If none is given, 'rbf' will be used. If a callable is given it is\n",
    "    used to precompute the kernel matrix. For an intuitive\n",
    "    visualization of different kernel types see\n",
    "    :ref:`sphx_glr_auto_examples_svm_plot_svm_kernels.py`.\n",
    "\n",
    "degree : int, default=3\n",
    "    Degree of the polynomial kernel function ('poly').\n",
    "    Must be non-negative. Ignored by all other kernels.\n",
    "\n",
    "gamma : {'scale', 'auto'} or float, default='scale'\n",
    "    Kernel coefficient for 'rbf', 'poly' and 'sigmoid'.\n",
    "\n",
    "    - if ``gamma='scale'`` (default) is passed then it uses\n",
    "      1 / (n_features * X.var()) as value of gamma,\n",
    "    - if 'auto', uses 1 / n_features\n",
    "    - if float, must be non-negative.\n",
    "\n",
    "    .. versionchanged:: 0.22\n",
    "       The default value of ``gamma`` changed from 'auto' to 'scale'.\n",
    "\n",
    "coef0 : float, default=0.0\n",
    "    Independent term in kernel function.\n",
    "    It is only significant in 'poly' and 'sigmoid'.\n",
    "\n",
    "shrinking : bool, default=True\n",
    "    Whether to use the shrinking heuristic.\n",
    "    See the :ref:`User Guide <shrinking_svm>`.\n",
    "\n",
    "probability : bool, default=False\n",
    "    Whether to enable probability estimates. This must be enabled prior\n",
    "    to calling `fit`, will slow down that method as it internally uses\n",
    "    5-fold cross-validation, and `predict_proba` may be inconsistent with\n",
    "    `predict`. Read more in the :ref:`User Guide <scores_probabilities>`.\n",
    "\n",
    "tol : float, default=1e-3\n",
    "    Tolerance for stopping criterion.\n",
    "\n",
    "cache_size : float, default=200\n",
    "    Specify the size of the kernel cache (in MB).\n",
    "\n",
    "class_weight : {dict, 'balanced'}, default=None\n",
    "    Set the parameter C of class i to class_weight[i]*C for\n",
    "    SVC. If not given, all classes are supposed to have\n",
    "    weight one. The \"balanced\" mode uses the values of y to automatically\n",
    "    adjust weights inversely proportional to class frequencies as\n",
    "    ``n_samples / (n_classes * np.bincount(y))``.\n",
    "\n",
    "verbose : bool, default=False\n",
    "    Enable verbose output. Note that this setting takes advantage of a\n",
    "    per-process runtime setting in libsvm that, if enabled, may not work\n",
    "    properly in a multithreaded context.\n",
    "\n",
    "max_iter : int, default=-1\n",
    "    Hard limit on iterations within solver, or -1 for no limit.\n",
    "\n",
    "decision_function_shape : {'ovo', 'ovr'}, default='ovr'\n",
    "    Whether to return a one-vs-rest ('ovr') decision function of shape\n",
    "    (n_samples, n_classes) as all other classifiers, or the original\n",
    "    one-vs-one ('ovo') decision function of libsvm which has shape\n",
    "    (n_samples, n_classes * (n_classes - 1) / 2). However, one-vs-one\n",
    "    ('ovo') is always used as multi-class strategy. The parameter is\n",
    "    ignored for binary classification.\n",
    "\n",
    "    \n",
    "break_ties : bool, default=False\n",
    "    If true, ``decision_function_shape='ovr'``, and number of classes > 2,\n",
    "    :term:`predict` will break ties according to the confidence values of\n",
    "    :term:`decision_function`; otherwise the first class among the tied\n",
    "    classes is returned. Please note that breaking ties comes at a\n",
    "    relatively high computational cost compared to a simple predict.\n",
    "\n",
    "    .. versionadded:: 0.22\n",
    "\n",
    "random_state : int, RandomState instance or None, default=None\n",
    "    Controls the pseudo random number generation for shuffling the data for\n",
    "    probability estimates. Ignored when `probability` is False.\n",
    "    Pass an int for reproducible output across multiple function calls.\n",
    "    See :term:`Glossary <random_state>`.\n"
   ]
  }
 ],
 "metadata": {
  "kernelspec": {
   "display_name": "Python 3 (ipykernel)",
   "language": "python",
   "name": "python3"
  },
  "language_info": {
   "codemirror_mode": {
    "name": "ipython",
    "version": 3
   },
   "file_extension": ".py",
   "mimetype": "text/x-python",
   "name": "python",
   "nbconvert_exporter": "python",
   "pygments_lexer": "ipython3",
   "version": "3.10.16"
  }
 },
 "nbformat": 4,
 "nbformat_minor": 5
}
