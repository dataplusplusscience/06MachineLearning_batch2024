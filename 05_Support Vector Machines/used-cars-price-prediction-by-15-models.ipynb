{
 "cells": [
  {
   "cell_type": "markdown",
   "metadata": {},
   "source": [
    "<a class=\"anchor\" id=\"0\"></a>\n",
    "\n",
    "# Used Cars Price Prediction by 15 different models"
   ]
  },
  {
   "cell_type": "markdown",
   "metadata": {},
   "source": [
    "Build of the 15 most popular models, the most complex models from them are tuned (optimized)\n",
    "\n",
    "Comparison of the optimal for each type models."
   ]
  },
  {
   "cell_type": "markdown",
   "metadata": {},
   "source": [
    "Check out other notebooks:\n",
    "* \"[BOD prediction in river - 15 regression models](https://www.kaggle.com/vbmokin/bod-prediction-in-river-15-regression-models)\"\n",
    "* [Automatic selection from 20 classifier models](https://www.kaggle.com/vbmokin/automatic-selection-from-20-classifier-models)"
   ]
  },
  {
   "cell_type": "markdown",
   "metadata": {},
   "source": [
    "<a class=\"anchor\" id=\"0.1\"></a>\n",
    "\n",
    "## Table of Contents\n",
    "\n",
    "1. [Import libraries](#1)\n",
    "1. [Download datasets](#2)\n",
    "1. [EDA](#3)\n",
    "1. [Preparing to modeling](#4)\n",
    "1. [Tuning models](#5)\n",
    "    -  [Linear Regression](#5.1)\n",
    "    -  [Support Vector Machines](#5.2)\n",
    "    -  [Linear SVR](#5.3)\n",
    "    -  [MLPRegressor](#5.4)\n",
    "    -  [Stochastic Gradient Descent](#5.5)\n",
    "    -  [Decision Tree Regressor](#5.6)\n",
    "    -  [Random Forest with GridSearchCV](#5.7)\n",
    "    -  [XGB](#5.8)\n",
    "    -  [LGBM](#5.9)\n",
    "    -  [GradientBoostingRegressor with HyperOpt](#5.10)\n",
    "    -  [RidgeRegressor](#5.11)\n",
    "    -  [BaggingRegressor](#5.12)\n",
    "    -  [ExtraTreesRegressor](#5.13)\n",
    "    -  [AdaBoost Regressor](#5.14)\n",
    "    -  [VotingRegressor](#5.15)\n",
    "1. [Models comparison](#6)\n",
    "1. [Prediction](#7)"
   ]
  },
  {
   "cell_type": "markdown",
   "metadata": {},
   "source": [
    "## 1. Import libraries <a class=\"anchor\" id=\"1\"></a>\n",
    "\n",
    "[Back to Table of Contents](#0.1)"
   ]
  },
  {
   "cell_type": "code",
   "execution_count": 2,
   "metadata": {},
   "outputs": [],
   "source": [
    "#!pip install pandas_profiling"
   ]
  },
  {
   "cell_type": "code",
   "execution_count": 3,
   "metadata": {},
   "outputs": [],
   "source": [
    "#!pip install hyperopt"
   ]
  },
  {
   "cell_type": "code",
   "execution_count": 4,
   "metadata": {},
   "outputs": [],
   "source": [
    "#!pip install lightgbm"
   ]
  },
  {
   "cell_type": "code",
   "execution_count": 5,
   "metadata": {
    "_cell_guid": "b1076dfc-b9ad-4769-8c92-a6c4dae69d19",
    "_uuid": "8f2839f25d086af736a60e9eeb907d3b93b6e0e5"
   },
   "outputs": [],
   "source": [
    "import numpy as np\n",
    "import pandas as pd\n",
    "import matplotlib.pyplot as plt\n",
    "%matplotlib inline\n",
    "\n",
    "# preprocessing\n",
    "from sklearn.preprocessing import LabelEncoder, StandardScaler\n",
    "from sklearn.model_selection import train_test_split, cross_val_score, GridSearchCV, StratifiedKFold\n",
    "#import pandas_profiling as pp\n",
    "\n",
    "# models\n",
    "from sklearn.linear_model import LinearRegression, SGDRegressor, RidgeCV\n",
    "from sklearn.svm import SVR, LinearSVR\n",
    "from sklearn.ensemble import RandomForestRegressor, GradientBoostingRegressor, ExtraTreesRegressor \n",
    "from sklearn.ensemble import BaggingRegressor, AdaBoostRegressor, VotingRegressor \n",
    "from sklearn.neural_network import MLPRegressor\n",
    "from sklearn.tree import DecisionTreeRegressor\n",
    "import sklearn.model_selection\n",
    "from sklearn.model_selection import cross_val_predict as cvp\n",
    "from sklearn import metrics\n",
    "from sklearn.metrics import r2_score, mean_absolute_error, mean_squared_error\n",
    "import xgboost as xgb\n",
    "import lightgbm as lgb\n",
    "\n",
    "# model tuning\n",
    "from hyperopt import STATUS_OK, Trials, fmin, hp, tpe, space_eval\n",
    "\n",
    "import warnings\n",
    "warnings.filterwarnings(\"ignore\")\n",
    "\n",
    "import os\n",
    "os.environ[\"OMP_NUM_THREADS\"] = \"20\""
   ]
  },
  {
   "cell_type": "markdown",
   "metadata": {},
   "source": [
    "## 2. Download datasets <a class=\"anchor\" id=\"2\"></a>\n",
    "\n",
    "[Back to Table of Contents](#0.1)"
   ]
  },
  {
   "cell_type": "code",
   "execution_count": 6,
   "metadata": {},
   "outputs": [],
   "source": [
    "valid_part = 0.3\n",
    "# pd.set_option('max_columns',100)"
   ]
  },
  {
   "cell_type": "code",
   "execution_count": 7,
   "metadata": {
    "scrolled": true
   },
   "outputs": [
    {
     "data": {
      "text/html": [
       "<div>\n",
       "<style scoped>\n",
       "    .dataframe tbody tr th:only-of-type {\n",
       "        vertical-align: middle;\n",
       "    }\n",
       "\n",
       "    .dataframe tbody tr th {\n",
       "        vertical-align: top;\n",
       "    }\n",
       "\n",
       "    .dataframe thead th {\n",
       "        text-align: right;\n",
       "    }\n",
       "</style>\n",
       "<table border=\"1\" class=\"dataframe\">\n",
       "  <thead>\n",
       "    <tr style=\"text-align: right;\">\n",
       "      <th></th>\n",
       "      <th>url</th>\n",
       "      <th>city</th>\n",
       "      <th>city_url</th>\n",
       "      <th>price</th>\n",
       "      <th>year</th>\n",
       "      <th>manufacturer</th>\n",
       "      <th>make</th>\n",
       "      <th>condition</th>\n",
       "      <th>cylinders</th>\n",
       "      <th>fuel</th>\n",
       "      <th>...</th>\n",
       "      <th>transmission</th>\n",
       "      <th>VIN</th>\n",
       "      <th>drive</th>\n",
       "      <th>size</th>\n",
       "      <th>type</th>\n",
       "      <th>paint_color</th>\n",
       "      <th>image_url</th>\n",
       "      <th>desc</th>\n",
       "      <th>lat</th>\n",
       "      <th>long</th>\n",
       "    </tr>\n",
       "  </thead>\n",
       "  <tbody>\n",
       "    <tr>\n",
       "      <th>0</th>\n",
       "      <td>https://grandrapids.craigslist.org/cto/d/hasti...</td>\n",
       "      <td>grand rapids, MI</td>\n",
       "      <td>https://grandrapids.craigslist.org</td>\n",
       "      <td>1500</td>\n",
       "      <td>2006.0</td>\n",
       "      <td>cadillac</td>\n",
       "      <td>cts</td>\n",
       "      <td>good</td>\n",
       "      <td>6 cylinders</td>\n",
       "      <td>gas</td>\n",
       "      <td>...</td>\n",
       "      <td>automatic</td>\n",
       "      <td>NaN</td>\n",
       "      <td>rwd</td>\n",
       "      <td>mid-size</td>\n",
       "      <td>coupe</td>\n",
       "      <td>blue</td>\n",
       "      <td>https://images.craigslist.org/00K0K_a9CZoZg2U8...</td>\n",
       "      <td>2006 CtS Leather, Runs and drives Good.236k mil</td>\n",
       "      <td>42.643000</td>\n",
       "      <td>-85.293700</td>\n",
       "    </tr>\n",
       "    <tr>\n",
       "      <th>1</th>\n",
       "      <td>https://grandrapids.craigslist.org/cto/d/grand...</td>\n",
       "      <td>grand rapids, MI</td>\n",
       "      <td>https://grandrapids.craigslist.org</td>\n",
       "      <td>8900</td>\n",
       "      <td>2009.0</td>\n",
       "      <td>lincoln</td>\n",
       "      <td>mkx</td>\n",
       "      <td>NaN</td>\n",
       "      <td>NaN</td>\n",
       "      <td>gas</td>\n",
       "      <td>...</td>\n",
       "      <td>automatic</td>\n",
       "      <td>NaN</td>\n",
       "      <td>NaN</td>\n",
       "      <td>NaN</td>\n",
       "      <td>NaN</td>\n",
       "      <td>NaN</td>\n",
       "      <td>https://images.craigslist.org/00a0a_9B4kPBDIWd...</td>\n",
       "      <td>Selling our loaded 2009 Lincoln MKX with 119,0...</td>\n",
       "      <td>42.973700</td>\n",
       "      <td>-85.726500</td>\n",
       "    </tr>\n",
       "    <tr>\n",
       "      <th>2</th>\n",
       "      <td>https://grandrapids.craigslist.org/ctd/d/chesa...</td>\n",
       "      <td>grand rapids, MI</td>\n",
       "      <td>https://grandrapids.craigslist.org</td>\n",
       "      <td>7995</td>\n",
       "      <td>2010.0</td>\n",
       "      <td>cadillac</td>\n",
       "      <td>srx premium collection</td>\n",
       "      <td>NaN</td>\n",
       "      <td>NaN</td>\n",
       "      <td>gas</td>\n",
       "      <td>...</td>\n",
       "      <td>automatic</td>\n",
       "      <td>3GYFNCEYXAS552363</td>\n",
       "      <td>NaN</td>\n",
       "      <td>NaN</td>\n",
       "      <td>NaN</td>\n",
       "      <td>NaN</td>\n",
       "      <td>https://images.craigslist.org/00X0X_8i0VRuk7Cv...</td>\n",
       "      <td>WE HAVE OVER 400 VEHICLES IN STOCK!\\n\\n View O...</td>\n",
       "      <td>43.186723</td>\n",
       "      <td>-84.163862</td>\n",
       "    </tr>\n",
       "    <tr>\n",
       "      <th>3</th>\n",
       "      <td>https://grandrapids.craigslist.org/ctd/d/chesa...</td>\n",
       "      <td>grand rapids, MI</td>\n",
       "      <td>https://grandrapids.craigslist.org</td>\n",
       "      <td>6995</td>\n",
       "      <td>2007.0</td>\n",
       "      <td>NaN</td>\n",
       "      <td>hummer h3 4dr 4wd suv</td>\n",
       "      <td>NaN</td>\n",
       "      <td>NaN</td>\n",
       "      <td>gas</td>\n",
       "      <td>...</td>\n",
       "      <td>automatic</td>\n",
       "      <td>5GTDN13E478107380</td>\n",
       "      <td>NaN</td>\n",
       "      <td>NaN</td>\n",
       "      <td>NaN</td>\n",
       "      <td>NaN</td>\n",
       "      <td>https://images.craigslist.org/00b0b_ahkmUzr4cE...</td>\n",
       "      <td>WE HAVE OVER 400 VEHICLES IN STOCK!\\n\\n View O...</td>\n",
       "      <td>43.186723</td>\n",
       "      <td>-84.163862</td>\n",
       "    </tr>\n",
       "    <tr>\n",
       "      <th>4</th>\n",
       "      <td>https://grandrapids.craigslist.org/ctd/d/caled...</td>\n",
       "      <td>grand rapids, MI</td>\n",
       "      <td>https://grandrapids.craigslist.org</td>\n",
       "      <td>20990</td>\n",
       "      <td>2010.0</td>\n",
       "      <td>ram</td>\n",
       "      <td>2500</td>\n",
       "      <td>excellent</td>\n",
       "      <td>6 cylinders</td>\n",
       "      <td>diesel</td>\n",
       "      <td>...</td>\n",
       "      <td>automatic</td>\n",
       "      <td>3D7UT2CL4AG113236</td>\n",
       "      <td>4wd</td>\n",
       "      <td>NaN</td>\n",
       "      <td>NaN</td>\n",
       "      <td>white</td>\n",
       "      <td>https://images.craigslist.org/00505_3DHY0kFrgb...</td>\n",
       "      <td>Great looking 2010 Ram 2500 ST w/6.7L 24V I6 4...</td>\n",
       "      <td>42.783714</td>\n",
       "      <td>-85.506777</td>\n",
       "    </tr>\n",
       "  </tbody>\n",
       "</table>\n",
       "<p>5 rows × 22 columns</p>\n",
       "</div>"
      ],
      "text/plain": [
       "                                                 url              city  \\\n",
       "0  https://grandrapids.craigslist.org/cto/d/hasti...  grand rapids, MI   \n",
       "1  https://grandrapids.craigslist.org/cto/d/grand...  grand rapids, MI   \n",
       "2  https://grandrapids.craigslist.org/ctd/d/chesa...  grand rapids, MI   \n",
       "3  https://grandrapids.craigslist.org/ctd/d/chesa...  grand rapids, MI   \n",
       "4  https://grandrapids.craigslist.org/ctd/d/caled...  grand rapids, MI   \n",
       "\n",
       "                             city_url  price    year manufacturer  \\\n",
       "0  https://grandrapids.craigslist.org   1500  2006.0     cadillac   \n",
       "1  https://grandrapids.craigslist.org   8900  2009.0      lincoln   \n",
       "2  https://grandrapids.craigslist.org   7995  2010.0     cadillac   \n",
       "3  https://grandrapids.craigslist.org   6995  2007.0          NaN   \n",
       "4  https://grandrapids.craigslist.org  20990  2010.0          ram   \n",
       "\n",
       "                     make  condition    cylinders    fuel  ...  transmission  \\\n",
       "0                     cts       good  6 cylinders     gas  ...     automatic   \n",
       "1                     mkx        NaN          NaN     gas  ...     automatic   \n",
       "2  srx premium collection        NaN          NaN     gas  ...     automatic   \n",
       "3   hummer h3 4dr 4wd suv        NaN          NaN     gas  ...     automatic   \n",
       "4                    2500  excellent  6 cylinders  diesel  ...     automatic   \n",
       "\n",
       "                 VIN drive      size   type paint_color  \\\n",
       "0                NaN   rwd  mid-size  coupe        blue   \n",
       "1                NaN   NaN       NaN    NaN         NaN   \n",
       "2  3GYFNCEYXAS552363   NaN       NaN    NaN         NaN   \n",
       "3  5GTDN13E478107380   NaN       NaN    NaN         NaN   \n",
       "4  3D7UT2CL4AG113236   4wd       NaN    NaN       white   \n",
       "\n",
       "                                           image_url  \\\n",
       "0  https://images.craigslist.org/00K0K_a9CZoZg2U8...   \n",
       "1  https://images.craigslist.org/00a0a_9B4kPBDIWd...   \n",
       "2  https://images.craigslist.org/00X0X_8i0VRuk7Cv...   \n",
       "3  https://images.craigslist.org/00b0b_ahkmUzr4cE...   \n",
       "4  https://images.craigslist.org/00505_3DHY0kFrgb...   \n",
       "\n",
       "                                                desc        lat       long  \n",
       "0    2006 CtS Leather, Runs and drives Good.236k mil  42.643000 -85.293700  \n",
       "1  Selling our loaded 2009 Lincoln MKX with 119,0...  42.973700 -85.726500  \n",
       "2  WE HAVE OVER 400 VEHICLES IN STOCK!\\n\\n View O...  43.186723 -84.163862  \n",
       "3  WE HAVE OVER 400 VEHICLES IN STOCK!\\n\\n View O...  43.186723 -84.163862  \n",
       "4  Great looking 2010 Ram 2500 ST w/6.7L 24V I6 4...  42.783714 -85.506777  \n",
       "\n",
       "[5 rows x 22 columns]"
      ]
     },
     "execution_count": 7,
     "metadata": {},
     "output_type": "execute_result"
    }
   ],
   "source": [
    "train0 = pd.read_csv('./craigslist-carstrucks-data/craigslistVehicles.csv')\n",
    "train0.head(5)"
   ]
  },
  {
   "cell_type": "code",
   "execution_count": 8,
   "metadata": {},
   "outputs": [],
   "source": [
    "drop_columns = ['url', 'city', 'city_url', 'make', 'title_status', 'VIN', 'size', 'image_url', 'desc', 'lat','long']\n",
    "train0 = train0.drop(columns = drop_columns)"
   ]
  },
  {
   "cell_type": "code",
   "execution_count": 9,
   "metadata": {},
   "outputs": [
    {
     "name": "stdout",
     "output_type": "stream",
     "text": [
      "<class 'pandas.core.frame.DataFrame'>\n",
      "RangeIndex: 525839 entries, 0 to 525838\n",
      "Data columns (total 11 columns):\n",
      " #   Column        Non-Null Count   Dtype  \n",
      "---  ------        --------------   -----  \n",
      " 0   price         525839 non-null  int64  \n",
      " 1   year          524399 non-null  float64\n",
      " 2   manufacturer  501260 non-null  object \n",
      " 3   condition     279881 non-null  object \n",
      " 4   cylinders     315439 non-null  object \n",
      " 5   fuel          521544 non-null  object \n",
      " 6   odometer      427248 non-null  float64\n",
      " 7   transmission  521572 non-null  object \n",
      " 8   drive         374475 non-null  object \n",
      " 9   type          376906 non-null  object \n",
      " 10  paint_color   354306 non-null  object \n",
      "dtypes: float64(2), int64(1), object(8)\n",
      "memory usage: 44.1+ MB\n"
     ]
    }
   ],
   "source": [
    "train0.info()"
   ]
  },
  {
   "cell_type": "code",
   "execution_count": 10,
   "metadata": {},
   "outputs": [
    {
     "data": {
      "text/html": [
       "<div>\n",
       "<style scoped>\n",
       "    .dataframe tbody tr th:only-of-type {\n",
       "        vertical-align: middle;\n",
       "    }\n",
       "\n",
       "    .dataframe tbody tr th {\n",
       "        vertical-align: top;\n",
       "    }\n",
       "\n",
       "    .dataframe thead th {\n",
       "        text-align: right;\n",
       "    }\n",
       "</style>\n",
       "<table border=\"1\" class=\"dataframe\">\n",
       "  <thead>\n",
       "    <tr style=\"text-align: right;\">\n",
       "      <th></th>\n",
       "      <th>price</th>\n",
       "      <th>year</th>\n",
       "      <th>manufacturer</th>\n",
       "      <th>condition</th>\n",
       "      <th>cylinders</th>\n",
       "      <th>fuel</th>\n",
       "      <th>odometer</th>\n",
       "      <th>transmission</th>\n",
       "      <th>drive</th>\n",
       "      <th>type</th>\n",
       "      <th>paint_color</th>\n",
       "    </tr>\n",
       "  </thead>\n",
       "  <tbody>\n",
       "    <tr>\n",
       "      <th>0</th>\n",
       "      <td>1500</td>\n",
       "      <td>2006.0</td>\n",
       "      <td>cadillac</td>\n",
       "      <td>good</td>\n",
       "      <td>6 cylinders</td>\n",
       "      <td>gas</td>\n",
       "      <td>236000.0</td>\n",
       "      <td>automatic</td>\n",
       "      <td>rwd</td>\n",
       "      <td>coupe</td>\n",
       "      <td>blue</td>\n",
       "    </tr>\n",
       "    <tr>\n",
       "      <th>5</th>\n",
       "      <td>4950</td>\n",
       "      <td>2010.0</td>\n",
       "      <td>subaru</td>\n",
       "      <td>good</td>\n",
       "      <td>4 cylinders</td>\n",
       "      <td>gas</td>\n",
       "      <td>253000.0</td>\n",
       "      <td>automatic</td>\n",
       "      <td>4wd</td>\n",
       "      <td>sedan</td>\n",
       "      <td>white</td>\n",
       "    </tr>\n",
       "    <tr>\n",
       "      <th>6</th>\n",
       "      <td>6850</td>\n",
       "      <td>2007.0</td>\n",
       "      <td>gmc</td>\n",
       "      <td>good</td>\n",
       "      <td>8 cylinders</td>\n",
       "      <td>gas</td>\n",
       "      <td>254000.0</td>\n",
       "      <td>automatic</td>\n",
       "      <td>4wd</td>\n",
       "      <td>wagon</td>\n",
       "      <td>black</td>\n",
       "    </tr>\n",
       "    <tr>\n",
       "      <th>7</th>\n",
       "      <td>7995</td>\n",
       "      <td>2007.0</td>\n",
       "      <td>lexus</td>\n",
       "      <td>excellent</td>\n",
       "      <td>6 cylinders</td>\n",
       "      <td>gas</td>\n",
       "      <td>146111.0</td>\n",
       "      <td>automatic</td>\n",
       "      <td>fwd</td>\n",
       "      <td>sedan</td>\n",
       "      <td>white</td>\n",
       "    </tr>\n",
       "    <tr>\n",
       "      <th>8</th>\n",
       "      <td>4995</td>\n",
       "      <td>2011.0</td>\n",
       "      <td>hyundai</td>\n",
       "      <td>excellent</td>\n",
       "      <td>4 cylinders</td>\n",
       "      <td>gas</td>\n",
       "      <td>115048.0</td>\n",
       "      <td>automatic</td>\n",
       "      <td>fwd</td>\n",
       "      <td>sedan</td>\n",
       "      <td>blue</td>\n",
       "    </tr>\n",
       "  </tbody>\n",
       "</table>\n",
       "</div>"
      ],
      "text/plain": [
       "   price    year manufacturer  condition    cylinders fuel  odometer  \\\n",
       "0   1500  2006.0     cadillac       good  6 cylinders  gas  236000.0   \n",
       "5   4950  2010.0       subaru       good  4 cylinders  gas  253000.0   \n",
       "6   6850  2007.0          gmc       good  8 cylinders  gas  254000.0   \n",
       "7   7995  2007.0        lexus  excellent  6 cylinders  gas  146111.0   \n",
       "8   4995  2011.0      hyundai  excellent  4 cylinders  gas  115048.0   \n",
       "\n",
       "  transmission drive   type paint_color  \n",
       "0    automatic   rwd  coupe        blue  \n",
       "5    automatic   4wd  sedan       white  \n",
       "6    automatic   4wd  wagon       black  \n",
       "7    automatic   fwd  sedan       white  \n",
       "8    automatic   fwd  sedan        blue  "
      ]
     },
     "execution_count": 10,
     "metadata": {},
     "output_type": "execute_result"
    }
   ],
   "source": [
    "train0 = train0.dropna()\n",
    "train0.head(5)"
   ]
  },
  {
   "cell_type": "code",
   "execution_count": 11,
   "metadata": {},
   "outputs": [],
   "source": [
    "# from the my kernel: https://www.kaggle.com/vbmokin/automatic-selection-from-20-classifier-models\n",
    "# Determination categorical features\n",
    "numerics = ['int8', 'int16', 'int32', 'int64', 'float16', 'float32', 'float64']\n",
    "categorical_columns = []\n",
    "features = train0.columns.values.tolist()\n",
    "for col in features:\n",
    "    if train0[col].dtype in numerics: continue\n",
    "    categorical_columns.append(col)\n",
    "# Encoding categorical features\n",
    "for col in categorical_columns:\n",
    "    if col in train0.columns:\n",
    "        le = LabelEncoder()\n",
    "        le.fit(list(train0[col].astype(str).values))\n",
    "        train0[col] = le.transform(list(train0[col].astype(str).values))"
   ]
  },
  {
   "cell_type": "code",
   "execution_count": 12,
   "metadata": {},
   "outputs": [],
   "source": [
    "train0['year'] = (train0['year']-1900).astype(int)\n",
    "train0['odometer'] = train0['odometer'].astype(int)"
   ]
  },
  {
   "cell_type": "code",
   "execution_count": 13,
   "metadata": {},
   "outputs": [
    {
     "data": {
      "text/html": [
       "<div>\n",
       "<style scoped>\n",
       "    .dataframe tbody tr th:only-of-type {\n",
       "        vertical-align: middle;\n",
       "    }\n",
       "\n",
       "    .dataframe tbody tr th {\n",
       "        vertical-align: top;\n",
       "    }\n",
       "\n",
       "    .dataframe thead th {\n",
       "        text-align: right;\n",
       "    }\n",
       "</style>\n",
       "<table border=\"1\" class=\"dataframe\">\n",
       "  <thead>\n",
       "    <tr style=\"text-align: right;\">\n",
       "      <th></th>\n",
       "      <th>price</th>\n",
       "      <th>year</th>\n",
       "      <th>manufacturer</th>\n",
       "      <th>condition</th>\n",
       "      <th>cylinders</th>\n",
       "      <th>fuel</th>\n",
       "      <th>odometer</th>\n",
       "      <th>transmission</th>\n",
       "      <th>drive</th>\n",
       "      <th>type</th>\n",
       "      <th>paint_color</th>\n",
       "    </tr>\n",
       "  </thead>\n",
       "  <tbody>\n",
       "    <tr>\n",
       "      <th>0</th>\n",
       "      <td>1500</td>\n",
       "      <td>106</td>\n",
       "      <td>6</td>\n",
       "      <td>2</td>\n",
       "      <td>5</td>\n",
       "      <td>2</td>\n",
       "      <td>236000</td>\n",
       "      <td>0</td>\n",
       "      <td>2</td>\n",
       "      <td>3</td>\n",
       "      <td>1</td>\n",
       "    </tr>\n",
       "    <tr>\n",
       "      <th>5</th>\n",
       "      <td>4950</td>\n",
       "      <td>110</td>\n",
       "      <td>36</td>\n",
       "      <td>2</td>\n",
       "      <td>3</td>\n",
       "      <td>2</td>\n",
       "      <td>253000</td>\n",
       "      <td>0</td>\n",
       "      <td>0</td>\n",
       "      <td>9</td>\n",
       "      <td>10</td>\n",
       "    </tr>\n",
       "    <tr>\n",
       "      <th>6</th>\n",
       "      <td>6850</td>\n",
       "      <td>107</td>\n",
       "      <td>14</td>\n",
       "      <td>2</td>\n",
       "      <td>6</td>\n",
       "      <td>2</td>\n",
       "      <td>254000</td>\n",
       "      <td>0</td>\n",
       "      <td>0</td>\n",
       "      <td>12</td>\n",
       "      <td>0</td>\n",
       "    </tr>\n",
       "    <tr>\n",
       "      <th>7</th>\n",
       "      <td>7995</td>\n",
       "      <td>107</td>\n",
       "      <td>23</td>\n",
       "      <td>0</td>\n",
       "      <td>5</td>\n",
       "      <td>2</td>\n",
       "      <td>146111</td>\n",
       "      <td>0</td>\n",
       "      <td>1</td>\n",
       "      <td>9</td>\n",
       "      <td>10</td>\n",
       "    </tr>\n",
       "    <tr>\n",
       "      <th>8</th>\n",
       "      <td>4995</td>\n",
       "      <td>111</td>\n",
       "      <td>17</td>\n",
       "      <td>0</td>\n",
       "      <td>3</td>\n",
       "      <td>2</td>\n",
       "      <td>115048</td>\n",
       "      <td>0</td>\n",
       "      <td>1</td>\n",
       "      <td>9</td>\n",
       "      <td>1</td>\n",
       "    </tr>\n",
       "    <tr>\n",
       "      <th>9</th>\n",
       "      <td>12995</td>\n",
       "      <td>113</td>\n",
       "      <td>37</td>\n",
       "      <td>0</td>\n",
       "      <td>3</td>\n",
       "      <td>2</td>\n",
       "      <td>72936</td>\n",
       "      <td>0</td>\n",
       "      <td>1</td>\n",
       "      <td>4</td>\n",
       "      <td>10</td>\n",
       "    </tr>\n",
       "    <tr>\n",
       "      <th>12</th>\n",
       "      <td>8000</td>\n",
       "      <td>110</td>\n",
       "      <td>3</td>\n",
       "      <td>2</td>\n",
       "      <td>5</td>\n",
       "      <td>2</td>\n",
       "      <td>150000</td>\n",
       "      <td>0</td>\n",
       "      <td>0</td>\n",
       "      <td>9</td>\n",
       "      <td>5</td>\n",
       "    </tr>\n",
       "    <tr>\n",
       "      <th>18</th>\n",
       "      <td>6995</td>\n",
       "      <td>111</td>\n",
       "      <td>7</td>\n",
       "      <td>0</td>\n",
       "      <td>5</td>\n",
       "      <td>2</td>\n",
       "      <td>102000</td>\n",
       "      <td>0</td>\n",
       "      <td>1</td>\n",
       "      <td>9</td>\n",
       "      <td>1</td>\n",
       "    </tr>\n",
       "    <tr>\n",
       "      <th>21</th>\n",
       "      <td>39000</td>\n",
       "      <td>117</td>\n",
       "      <td>7</td>\n",
       "      <td>0</td>\n",
       "      <td>6</td>\n",
       "      <td>2</td>\n",
       "      <td>43300</td>\n",
       "      <td>0</td>\n",
       "      <td>2</td>\n",
       "      <td>9</td>\n",
       "      <td>5</td>\n",
       "    </tr>\n",
       "    <tr>\n",
       "      <th>24</th>\n",
       "      <td>8900</td>\n",
       "      <td>112</td>\n",
       "      <td>33</td>\n",
       "      <td>2</td>\n",
       "      <td>6</td>\n",
       "      <td>2</td>\n",
       "      <td>112000</td>\n",
       "      <td>0</td>\n",
       "      <td>2</td>\n",
       "      <td>8</td>\n",
       "      <td>10</td>\n",
       "    </tr>\n",
       "  </tbody>\n",
       "</table>\n",
       "</div>"
      ],
      "text/plain": [
       "    price  year  manufacturer  condition  cylinders  fuel  odometer  \\\n",
       "0    1500   106             6          2          5     2    236000   \n",
       "5    4950   110            36          2          3     2    253000   \n",
       "6    6850   107            14          2          6     2    254000   \n",
       "7    7995   107            23          0          5     2    146111   \n",
       "8    4995   111            17          0          3     2    115048   \n",
       "9   12995   113            37          0          3     2     72936   \n",
       "12   8000   110             3          2          5     2    150000   \n",
       "18   6995   111             7          0          5     2    102000   \n",
       "21  39000   117             7          0          6     2     43300   \n",
       "24   8900   112            33          2          6     2    112000   \n",
       "\n",
       "    transmission  drive  type  paint_color  \n",
       "0              0      2     3            1  \n",
       "5              0      0     9           10  \n",
       "6              0      0    12            0  \n",
       "7              0      1     9           10  \n",
       "8              0      1     9            1  \n",
       "9              0      1     4           10  \n",
       "12             0      0     9            5  \n",
       "18             0      1     9            1  \n",
       "21             0      2     9            5  \n",
       "24             0      2     8           10  "
      ]
     },
     "execution_count": 13,
     "metadata": {},
     "output_type": "execute_result"
    }
   ],
   "source": [
    "train0.head(10)"
   ]
  },
  {
   "cell_type": "code",
   "execution_count": 14,
   "metadata": {},
   "outputs": [
    {
     "name": "stdout",
     "output_type": "stream",
     "text": [
      "<class 'pandas.core.frame.DataFrame'>\n",
      "Index: 144903 entries, 0 to 525836\n",
      "Data columns (total 11 columns):\n",
      " #   Column        Non-Null Count   Dtype\n",
      "---  ------        --------------   -----\n",
      " 0   price         144903 non-null  int64\n",
      " 1   year          144903 non-null  int32\n",
      " 2   manufacturer  144903 non-null  int32\n",
      " 3   condition     144903 non-null  int32\n",
      " 4   cylinders     144903 non-null  int32\n",
      " 5   fuel          144903 non-null  int32\n",
      " 6   odometer      144903 non-null  int32\n",
      " 7   transmission  144903 non-null  int32\n",
      " 8   drive         144903 non-null  int32\n",
      " 9   type          144903 non-null  int32\n",
      " 10  paint_color   144903 non-null  int32\n",
      "dtypes: int32(10), int64(1)\n",
      "memory usage: 7.7 MB\n"
     ]
    }
   ],
   "source": [
    "train0.info()"
   ]
  },
  {
   "cell_type": "markdown",
   "metadata": {},
   "source": [
    "## 3. EDA <a class=\"anchor\" id=\"3\"></a>\n",
    "\n",
    "[Back to Table of Contents](#0.1)"
   ]
  },
  {
   "cell_type": "markdown",
   "metadata": {},
   "source": [
    "This code is based on my kernel \"[FE & EDA with Pandas Profiling](https://www.kaggle.com/vbmokin/fe-eda-with-pandas-profiling)\""
   ]
  },
  {
   "cell_type": "code",
   "execution_count": 15,
   "metadata": {},
   "outputs": [
    {
     "data": {
      "text/plain": [
       "price\n",
       "0        6755\n",
       "1        1743\n",
       "4500     1603\n",
       "3500     1593\n",
       "2500     1528\n",
       "         ... \n",
       "12761       1\n",
       "5445        1\n",
       "25470       1\n",
       "26810       1\n",
       "3297        1\n",
       "Name: count, Length: 6578, dtype: int64"
      ]
     },
     "execution_count": 15,
     "metadata": {},
     "output_type": "execute_result"
    }
   ],
   "source": [
    "train0['price'].value_counts()"
   ]
  },
  {
   "cell_type": "code",
   "execution_count": 16,
   "metadata": {},
   "outputs": [],
   "source": [
    "train0 = train0[train0['price'] > 1000]\n",
    "train0 = train0[train0['price'] < 40000]\n",
    "# Rounded ['odometer'] to 5000\n",
    "train0['odometer'] = train0['odometer'] // 5000\n",
    "train0 = train0[train0['year'] > 110]"
   ]
  },
  {
   "cell_type": "code",
   "execution_count": 17,
   "metadata": {},
   "outputs": [
    {
     "name": "stdout",
     "output_type": "stream",
     "text": [
      "<class 'pandas.core.frame.DataFrame'>\n",
      "Index: 61500 entries, 8 to 525835\n",
      "Data columns (total 11 columns):\n",
      " #   Column        Non-Null Count  Dtype\n",
      "---  ------        --------------  -----\n",
      " 0   price         61500 non-null  int64\n",
      " 1   year          61500 non-null  int32\n",
      " 2   manufacturer  61500 non-null  int32\n",
      " 3   condition     61500 non-null  int32\n",
      " 4   cylinders     61500 non-null  int32\n",
      " 5   fuel          61500 non-null  int32\n",
      " 6   odometer      61500 non-null  int32\n",
      " 7   transmission  61500 non-null  int32\n",
      " 8   drive         61500 non-null  int32\n",
      " 9   type          61500 non-null  int32\n",
      " 10  paint_color   61500 non-null  int32\n",
      "dtypes: int32(10), int64(1)\n",
      "memory usage: 3.3 MB\n"
     ]
    }
   ],
   "source": [
    "train0.info()"
   ]
  },
  {
   "cell_type": "code",
   "execution_count": 18,
   "metadata": {},
   "outputs": [
    {
     "data": {
      "text/html": [
       "<div>\n",
       "<style scoped>\n",
       "    .dataframe tbody tr th:only-of-type {\n",
       "        vertical-align: middle;\n",
       "    }\n",
       "\n",
       "    .dataframe tbody tr th {\n",
       "        vertical-align: top;\n",
       "    }\n",
       "\n",
       "    .dataframe thead th {\n",
       "        text-align: right;\n",
       "    }\n",
       "</style>\n",
       "<table border=\"1\" class=\"dataframe\">\n",
       "  <thead>\n",
       "    <tr style=\"text-align: right;\">\n",
       "      <th></th>\n",
       "      <th>price</th>\n",
       "      <th>year</th>\n",
       "      <th>manufacturer</th>\n",
       "      <th>condition</th>\n",
       "      <th>cylinders</th>\n",
       "      <th>fuel</th>\n",
       "      <th>odometer</th>\n",
       "      <th>transmission</th>\n",
       "      <th>drive</th>\n",
       "      <th>type</th>\n",
       "      <th>paint_color</th>\n",
       "    </tr>\n",
       "  </thead>\n",
       "  <tbody>\n",
       "    <tr>\n",
       "      <th>price</th>\n",
       "      <td>1.000000</td>\n",
       "      <td>0.458124</td>\n",
       "      <td>-0.024179</td>\n",
       "      <td>0.061167</td>\n",
       "      <td>0.531244</td>\n",
       "      <td>-0.208566</td>\n",
       "      <td>-0.184752</td>\n",
       "      <td>0.105238</td>\n",
       "      <td>-0.267012</td>\n",
       "      <td>0.061335</td>\n",
       "      <td>0.030263</td>\n",
       "    </tr>\n",
       "    <tr>\n",
       "      <th>year</th>\n",
       "      <td>0.458124</td>\n",
       "      <td>1.000000</td>\n",
       "      <td>0.045498</td>\n",
       "      <td>0.111609</td>\n",
       "      <td>-0.078526</td>\n",
       "      <td>0.069939</td>\n",
       "      <td>-0.296953</td>\n",
       "      <td>0.036089</td>\n",
       "      <td>0.010158</td>\n",
       "      <td>0.026916</td>\n",
       "      <td>0.040059</td>\n",
       "    </tr>\n",
       "    <tr>\n",
       "      <th>manufacturer</th>\n",
       "      <td>-0.024179</td>\n",
       "      <td>0.045498</td>\n",
       "      <td>1.000000</td>\n",
       "      <td>-0.009447</td>\n",
       "      <td>-0.201032</td>\n",
       "      <td>-0.065246</td>\n",
       "      <td>-0.021403</td>\n",
       "      <td>0.026844</td>\n",
       "      <td>-0.101821</td>\n",
       "      <td>0.026859</td>\n",
       "      <td>-0.003125</td>\n",
       "    </tr>\n",
       "    <tr>\n",
       "      <th>condition</th>\n",
       "      <td>0.061167</td>\n",
       "      <td>0.111609</td>\n",
       "      <td>-0.009447</td>\n",
       "      <td>1.000000</td>\n",
       "      <td>0.016719</td>\n",
       "      <td>0.038039</td>\n",
       "      <td>-0.054486</td>\n",
       "      <td>0.121792</td>\n",
       "      <td>0.061101</td>\n",
       "      <td>0.028917</td>\n",
       "      <td>0.022872</td>\n",
       "    </tr>\n",
       "    <tr>\n",
       "      <th>cylinders</th>\n",
       "      <td>0.531244</td>\n",
       "      <td>-0.078526</td>\n",
       "      <td>-0.201032</td>\n",
       "      <td>0.016719</td>\n",
       "      <td>1.000000</td>\n",
       "      <td>-0.109350</td>\n",
       "      <td>0.066435</td>\n",
       "      <td>0.052527</td>\n",
       "      <td>-0.153713</td>\n",
       "      <td>0.096659</td>\n",
       "      <td>0.037153</td>\n",
       "    </tr>\n",
       "    <tr>\n",
       "      <th>fuel</th>\n",
       "      <td>-0.208566</td>\n",
       "      <td>0.069939</td>\n",
       "      <td>-0.065246</td>\n",
       "      <td>0.038039</td>\n",
       "      <td>-0.109350</td>\n",
       "      <td>1.000000</td>\n",
       "      <td>-0.089144</td>\n",
       "      <td>0.068673</td>\n",
       "      <td>0.096037</td>\n",
       "      <td>-0.132572</td>\n",
       "      <td>-0.042783</td>\n",
       "    </tr>\n",
       "    <tr>\n",
       "      <th>odometer</th>\n",
       "      <td>-0.184752</td>\n",
       "      <td>-0.296953</td>\n",
       "      <td>-0.021403</td>\n",
       "      <td>-0.054486</td>\n",
       "      <td>0.066435</td>\n",
       "      <td>-0.089144</td>\n",
       "      <td>1.000000</td>\n",
       "      <td>-0.074429</td>\n",
       "      <td>-0.046763</td>\n",
       "      <td>0.020417</td>\n",
       "      <td>0.022202</td>\n",
       "    </tr>\n",
       "    <tr>\n",
       "      <th>transmission</th>\n",
       "      <td>0.105238</td>\n",
       "      <td>0.036089</td>\n",
       "      <td>0.026844</td>\n",
       "      <td>0.121792</td>\n",
       "      <td>0.052527</td>\n",
       "      <td>0.068673</td>\n",
       "      <td>-0.074429</td>\n",
       "      <td>1.000000</td>\n",
       "      <td>0.064781</td>\n",
       "      <td>-0.007124</td>\n",
       "      <td>-0.026939</td>\n",
       "    </tr>\n",
       "    <tr>\n",
       "      <th>drive</th>\n",
       "      <td>-0.267012</td>\n",
       "      <td>0.010158</td>\n",
       "      <td>-0.101821</td>\n",
       "      <td>0.061101</td>\n",
       "      <td>-0.153713</td>\n",
       "      <td>0.096037</td>\n",
       "      <td>-0.046763</td>\n",
       "      <td>0.064781</td>\n",
       "      <td>1.000000</td>\n",
       "      <td>0.118371</td>\n",
       "      <td>0.073252</td>\n",
       "    </tr>\n",
       "    <tr>\n",
       "      <th>type</th>\n",
       "      <td>0.061335</td>\n",
       "      <td>0.026916</td>\n",
       "      <td>0.026859</td>\n",
       "      <td>0.028917</td>\n",
       "      <td>0.096659</td>\n",
       "      <td>-0.132572</td>\n",
       "      <td>0.020417</td>\n",
       "      <td>-0.007124</td>\n",
       "      <td>0.118371</td>\n",
       "      <td>1.000000</td>\n",
       "      <td>0.069675</td>\n",
       "    </tr>\n",
       "    <tr>\n",
       "      <th>paint_color</th>\n",
       "      <td>0.030263</td>\n",
       "      <td>0.040059</td>\n",
       "      <td>-0.003125</td>\n",
       "      <td>0.022872</td>\n",
       "      <td>0.037153</td>\n",
       "      <td>-0.042783</td>\n",
       "      <td>0.022202</td>\n",
       "      <td>-0.026939</td>\n",
       "      <td>0.073252</td>\n",
       "      <td>0.069675</td>\n",
       "      <td>1.000000</td>\n",
       "    </tr>\n",
       "  </tbody>\n",
       "</table>\n",
       "</div>"
      ],
      "text/plain": [
       "                 price      year  manufacturer  condition  cylinders  \\\n",
       "price         1.000000  0.458124     -0.024179   0.061167   0.531244   \n",
       "year          0.458124  1.000000      0.045498   0.111609  -0.078526   \n",
       "manufacturer -0.024179  0.045498      1.000000  -0.009447  -0.201032   \n",
       "condition     0.061167  0.111609     -0.009447   1.000000   0.016719   \n",
       "cylinders     0.531244 -0.078526     -0.201032   0.016719   1.000000   \n",
       "fuel         -0.208566  0.069939     -0.065246   0.038039  -0.109350   \n",
       "odometer     -0.184752 -0.296953     -0.021403  -0.054486   0.066435   \n",
       "transmission  0.105238  0.036089      0.026844   0.121792   0.052527   \n",
       "drive        -0.267012  0.010158     -0.101821   0.061101  -0.153713   \n",
       "type          0.061335  0.026916      0.026859   0.028917   0.096659   \n",
       "paint_color   0.030263  0.040059     -0.003125   0.022872   0.037153   \n",
       "\n",
       "                  fuel  odometer  transmission     drive      type  \\\n",
       "price        -0.208566 -0.184752      0.105238 -0.267012  0.061335   \n",
       "year          0.069939 -0.296953      0.036089  0.010158  0.026916   \n",
       "manufacturer -0.065246 -0.021403      0.026844 -0.101821  0.026859   \n",
       "condition     0.038039 -0.054486      0.121792  0.061101  0.028917   \n",
       "cylinders    -0.109350  0.066435      0.052527 -0.153713  0.096659   \n",
       "fuel          1.000000 -0.089144      0.068673  0.096037 -0.132572   \n",
       "odometer     -0.089144  1.000000     -0.074429 -0.046763  0.020417   \n",
       "transmission  0.068673 -0.074429      1.000000  0.064781 -0.007124   \n",
       "drive         0.096037 -0.046763      0.064781  1.000000  0.118371   \n",
       "type         -0.132572  0.020417     -0.007124  0.118371  1.000000   \n",
       "paint_color  -0.042783  0.022202     -0.026939  0.073252  0.069675   \n",
       "\n",
       "              paint_color  \n",
       "price            0.030263  \n",
       "year             0.040059  \n",
       "manufacturer    -0.003125  \n",
       "condition        0.022872  \n",
       "cylinders        0.037153  \n",
       "fuel            -0.042783  \n",
       "odometer         0.022202  \n",
       "transmission    -0.026939  \n",
       "drive            0.073252  \n",
       "type             0.069675  \n",
       "paint_color      1.000000  "
      ]
     },
     "execution_count": 18,
     "metadata": {},
     "output_type": "execute_result"
    }
   ],
   "source": [
    "train0.corr()"
   ]
  },
  {
   "cell_type": "code",
   "execution_count": 19,
   "metadata": {},
   "outputs": [
    {
     "data": {
      "text/html": [
       "<div>\n",
       "<style scoped>\n",
       "    .dataframe tbody tr th:only-of-type {\n",
       "        vertical-align: middle;\n",
       "    }\n",
       "\n",
       "    .dataframe tbody tr th {\n",
       "        vertical-align: top;\n",
       "    }\n",
       "\n",
       "    .dataframe thead th {\n",
       "        text-align: right;\n",
       "    }\n",
       "</style>\n",
       "<table border=\"1\" class=\"dataframe\">\n",
       "  <thead>\n",
       "    <tr style=\"text-align: right;\">\n",
       "      <th></th>\n",
       "      <th>price</th>\n",
       "      <th>year</th>\n",
       "      <th>manufacturer</th>\n",
       "      <th>condition</th>\n",
       "      <th>cylinders</th>\n",
       "      <th>fuel</th>\n",
       "      <th>odometer</th>\n",
       "      <th>transmission</th>\n",
       "      <th>drive</th>\n",
       "      <th>type</th>\n",
       "      <th>paint_color</th>\n",
       "    </tr>\n",
       "  </thead>\n",
       "  <tbody>\n",
       "    <tr>\n",
       "      <th>count</th>\n",
       "      <td>61500.000000</td>\n",
       "      <td>61500.000000</td>\n",
       "      <td>61500.000000</td>\n",
       "      <td>61500.000000</td>\n",
       "      <td>61500.000000</td>\n",
       "      <td>61500.000000</td>\n",
       "      <td>61500.000000</td>\n",
       "      <td>61500.000000</td>\n",
       "      <td>61500.000000</td>\n",
       "      <td>61500.000000</td>\n",
       "      <td>61500.000000</td>\n",
       "    </tr>\n",
       "    <tr>\n",
       "      <th>mean</th>\n",
       "      <td>16753.402407</td>\n",
       "      <td>114.093057</td>\n",
       "      <td>18.171024</td>\n",
       "      <td>1.037512</td>\n",
       "      <td>4.452244</td>\n",
       "      <td>1.915122</td>\n",
       "      <td>16.275382</td>\n",
       "      <td>0.117220</td>\n",
       "      <td>0.687545</td>\n",
       "      <td>6.161366</td>\n",
       "      <td>5.612894</td>\n",
       "    </tr>\n",
       "    <tr>\n",
       "      <th>std</th>\n",
       "      <td>8634.636138</td>\n",
       "      <td>2.198127</td>\n",
       "      <td>10.783879</td>\n",
       "      <td>1.227185</td>\n",
       "      <td>1.273357</td>\n",
       "      <td>0.509889</td>\n",
       "      <td>18.522399</td>\n",
       "      <td>0.423922</td>\n",
       "      <td>0.726215</td>\n",
       "      <td>4.185255</td>\n",
       "      <td>4.075558</td>\n",
       "    </tr>\n",
       "    <tr>\n",
       "      <th>min</th>\n",
       "      <td>1025.000000</td>\n",
       "      <td>111.000000</td>\n",
       "      <td>0.000000</td>\n",
       "      <td>0.000000</td>\n",
       "      <td>0.000000</td>\n",
       "      <td>0.000000</td>\n",
       "      <td>0.000000</td>\n",
       "      <td>0.000000</td>\n",
       "      <td>0.000000</td>\n",
       "      <td>0.000000</td>\n",
       "      <td>0.000000</td>\n",
       "    </tr>\n",
       "    <tr>\n",
       "      <th>25%</th>\n",
       "      <td>9900.000000</td>\n",
       "      <td>112.000000</td>\n",
       "      <td>10.000000</td>\n",
       "      <td>0.000000</td>\n",
       "      <td>3.000000</td>\n",
       "      <td>2.000000</td>\n",
       "      <td>9.000000</td>\n",
       "      <td>0.000000</td>\n",
       "      <td>0.000000</td>\n",
       "      <td>0.000000</td>\n",
       "      <td>1.000000</td>\n",
       "    </tr>\n",
       "    <tr>\n",
       "      <th>50%</th>\n",
       "      <td>14997.000000</td>\n",
       "      <td>114.000000</td>\n",
       "      <td>14.000000</td>\n",
       "      <td>0.000000</td>\n",
       "      <td>5.000000</td>\n",
       "      <td>2.000000</td>\n",
       "      <td>15.000000</td>\n",
       "      <td>0.000000</td>\n",
       "      <td>1.000000</td>\n",
       "      <td>8.000000</td>\n",
       "      <td>7.000000</td>\n",
       "    </tr>\n",
       "    <tr>\n",
       "      <th>75%</th>\n",
       "      <td>22500.000000</td>\n",
       "      <td>116.000000</td>\n",
       "      <td>30.000000</td>\n",
       "      <td>2.000000</td>\n",
       "      <td>6.000000</td>\n",
       "      <td>2.000000</td>\n",
       "      <td>22.000000</td>\n",
       "      <td>0.000000</td>\n",
       "      <td>1.000000</td>\n",
       "      <td>9.000000</td>\n",
       "      <td>10.000000</td>\n",
       "    </tr>\n",
       "    <tr>\n",
       "      <th>max</th>\n",
       "      <td>39999.000000</td>\n",
       "      <td>120.000000</td>\n",
       "      <td>39.000000</td>\n",
       "      <td>5.000000</td>\n",
       "      <td>7.000000</td>\n",
       "      <td>4.000000</td>\n",
       "      <td>1926.000000</td>\n",
       "      <td>2.000000</td>\n",
       "      <td>2.000000</td>\n",
       "      <td>12.000000</td>\n",
       "      <td>11.000000</td>\n",
       "    </tr>\n",
       "  </tbody>\n",
       "</table>\n",
       "</div>"
      ],
      "text/plain": [
       "              price          year  manufacturer     condition     cylinders  \\\n",
       "count  61500.000000  61500.000000  61500.000000  61500.000000  61500.000000   \n",
       "mean   16753.402407    114.093057     18.171024      1.037512      4.452244   \n",
       "std     8634.636138      2.198127     10.783879      1.227185      1.273357   \n",
       "min     1025.000000    111.000000      0.000000      0.000000      0.000000   \n",
       "25%     9900.000000    112.000000     10.000000      0.000000      3.000000   \n",
       "50%    14997.000000    114.000000     14.000000      0.000000      5.000000   \n",
       "75%    22500.000000    116.000000     30.000000      2.000000      6.000000   \n",
       "max    39999.000000    120.000000     39.000000      5.000000      7.000000   \n",
       "\n",
       "               fuel      odometer  transmission         drive          type  \\\n",
       "count  61500.000000  61500.000000  61500.000000  61500.000000  61500.000000   \n",
       "mean       1.915122     16.275382      0.117220      0.687545      6.161366   \n",
       "std        0.509889     18.522399      0.423922      0.726215      4.185255   \n",
       "min        0.000000      0.000000      0.000000      0.000000      0.000000   \n",
       "25%        2.000000      9.000000      0.000000      0.000000      0.000000   \n",
       "50%        2.000000     15.000000      0.000000      1.000000      8.000000   \n",
       "75%        2.000000     22.000000      0.000000      1.000000      9.000000   \n",
       "max        4.000000   1926.000000      2.000000      2.000000     12.000000   \n",
       "\n",
       "        paint_color  \n",
       "count  61500.000000  \n",
       "mean       5.612894  \n",
       "std        4.075558  \n",
       "min        0.000000  \n",
       "25%        1.000000  \n",
       "50%        7.000000  \n",
       "75%       10.000000  \n",
       "max       11.000000  "
      ]
     },
     "execution_count": 19,
     "metadata": {},
     "output_type": "execute_result"
    }
   ],
   "source": [
    "train0.describe()"
   ]
  },
  {
   "cell_type": "code",
   "execution_count": 20,
   "metadata": {},
   "outputs": [],
   "source": [
    "#pp.ProfileReport(train0)"
   ]
  },
  {
   "cell_type": "markdown",
   "metadata": {},
   "source": [
    "## 4. Preparing to modeling <a class=\"anchor\" id=\"4\"></a>\n",
    "\n",
    "[Back to Table of Contents](#0.1)"
   ]
  },
  {
   "cell_type": "code",
   "execution_count": 21,
   "metadata": {},
   "outputs": [],
   "source": [
    "target_name = 'price'\n",
    "train_target0 = train0[target_name]\n",
    "train0 = train0.drop([target_name], axis=1)"
   ]
  },
  {
   "cell_type": "code",
   "execution_count": 22,
   "metadata": {},
   "outputs": [],
   "source": [
    "# Synthesis test0 from train0\n",
    "train0, test0, train_target0, test_target0 = train_test_split(train0, train_target0, test_size=0.2, random_state=0)"
   ]
  },
  {
   "cell_type": "code",
   "execution_count": 23,
   "metadata": {},
   "outputs": [],
   "source": [
    "# For boosting model\n",
    "train0b = train0\n",
    "train_target0b = train_target0\n",
    "# Synthesis valid as test for selection models\n",
    "trainb, testb, targetb, target_testb = train_test_split(train0b, train_target0b, test_size=valid_part, random_state=0)"
   ]
  },
  {
   "cell_type": "code",
   "execution_count": 24,
   "metadata": {},
   "outputs": [],
   "source": [
    "#For models from Sklearn\n",
    "scaler = StandardScaler()\n",
    "train0 = pd.DataFrame(scaler.fit_transform(train0), columns = train0.columns)"
   ]
  },
  {
   "cell_type": "code",
   "execution_count": 25,
   "metadata": {},
   "outputs": [
    {
     "data": {
      "text/html": [
       "<div>\n",
       "<style scoped>\n",
       "    .dataframe tbody tr th:only-of-type {\n",
       "        vertical-align: middle;\n",
       "    }\n",
       "\n",
       "    .dataframe tbody tr th {\n",
       "        vertical-align: top;\n",
       "    }\n",
       "\n",
       "    .dataframe thead th {\n",
       "        text-align: right;\n",
       "    }\n",
       "</style>\n",
       "<table border=\"1\" class=\"dataframe\">\n",
       "  <thead>\n",
       "    <tr style=\"text-align: right;\">\n",
       "      <th></th>\n",
       "      <th>year</th>\n",
       "      <th>manufacturer</th>\n",
       "      <th>condition</th>\n",
       "      <th>cylinders</th>\n",
       "      <th>fuel</th>\n",
       "      <th>odometer</th>\n",
       "      <th>transmission</th>\n",
       "      <th>drive</th>\n",
       "      <th>type</th>\n",
       "      <th>paint_color</th>\n",
       "    </tr>\n",
       "  </thead>\n",
       "  <tbody>\n",
       "    <tr>\n",
       "      <th>0</th>\n",
       "      <td>0.863012</td>\n",
       "      <td>1.738647</td>\n",
       "      <td>-0.847094</td>\n",
       "      <td>0.427812</td>\n",
       "      <td>0.165521</td>\n",
       "      <td>-0.469822</td>\n",
       "      <td>-0.277197</td>\n",
       "      <td>-0.946534</td>\n",
       "      <td>0.914222</td>\n",
       "      <td>0.830914</td>\n",
       "    </tr>\n",
       "    <tr>\n",
       "      <th>1</th>\n",
       "      <td>0.408926</td>\n",
       "      <td>0.627842</td>\n",
       "      <td>1.595253</td>\n",
       "      <td>-1.141380</td>\n",
       "      <td>0.165521</td>\n",
       "      <td>-0.266986</td>\n",
       "      <td>-0.277197</td>\n",
       "      <td>-0.946534</td>\n",
       "      <td>-1.478710</td>\n",
       "      <td>0.585384</td>\n",
       "    </tr>\n",
       "    <tr>\n",
       "      <th>2</th>\n",
       "      <td>-1.407417</td>\n",
       "      <td>1.923781</td>\n",
       "      <td>-0.847094</td>\n",
       "      <td>-0.356784</td>\n",
       "      <td>0.165521</td>\n",
       "      <td>0.392231</td>\n",
       "      <td>-0.277197</td>\n",
       "      <td>0.429470</td>\n",
       "      <td>-1.000124</td>\n",
       "      <td>0.585384</td>\n",
       "    </tr>\n",
       "  </tbody>\n",
       "</table>\n",
       "</div>"
      ],
      "text/plain": [
       "       year  manufacturer  condition  cylinders      fuel  odometer  \\\n",
       "0  0.863012      1.738647  -0.847094   0.427812  0.165521 -0.469822   \n",
       "1  0.408926      0.627842   1.595253  -1.141380  0.165521 -0.266986   \n",
       "2 -1.407417      1.923781  -0.847094  -0.356784  0.165521  0.392231   \n",
       "\n",
       "   transmission     drive      type  paint_color  \n",
       "0     -0.277197 -0.946534  0.914222     0.830914  \n",
       "1     -0.277197 -0.946534 -1.478710     0.585384  \n",
       "2     -0.277197  0.429470 -1.000124     0.585384  "
      ]
     },
     "execution_count": 25,
     "metadata": {},
     "output_type": "execute_result"
    }
   ],
   "source": [
    "train0.head(3)"
   ]
  },
  {
   "cell_type": "code",
   "execution_count": 26,
   "metadata": {},
   "outputs": [
    {
     "data": {
      "text/plain": [
       "49200"
      ]
     },
     "execution_count": 26,
     "metadata": {},
     "output_type": "execute_result"
    }
   ],
   "source": [
    "len(train0)"
   ]
  },
  {
   "cell_type": "code",
   "execution_count": 27,
   "metadata": {},
   "outputs": [],
   "source": [
    "# Synthesis valid as test for selection models\n",
    "train, test, target, target_test = train_test_split(train0, train_target0, test_size=valid_part, random_state=0)"
   ]
  },
  {
   "cell_type": "code",
   "execution_count": 28,
   "metadata": {},
   "outputs": [
    {
     "data": {
      "text/html": [
       "<div>\n",
       "<style scoped>\n",
       "    .dataframe tbody tr th:only-of-type {\n",
       "        vertical-align: middle;\n",
       "    }\n",
       "\n",
       "    .dataframe tbody tr th {\n",
       "        vertical-align: top;\n",
       "    }\n",
       "\n",
       "    .dataframe thead th {\n",
       "        text-align: right;\n",
       "    }\n",
       "</style>\n",
       "<table border=\"1\" class=\"dataframe\">\n",
       "  <thead>\n",
       "    <tr style=\"text-align: right;\">\n",
       "      <th></th>\n",
       "      <th>year</th>\n",
       "      <th>manufacturer</th>\n",
       "      <th>condition</th>\n",
       "      <th>cylinders</th>\n",
       "      <th>fuel</th>\n",
       "      <th>odometer</th>\n",
       "      <th>transmission</th>\n",
       "      <th>drive</th>\n",
       "      <th>type</th>\n",
       "      <th>paint_color</th>\n",
       "    </tr>\n",
       "  </thead>\n",
       "  <tbody>\n",
       "    <tr>\n",
       "      <th>27131</th>\n",
       "      <td>-0.499245</td>\n",
       "      <td>-0.482963</td>\n",
       "      <td>0.781138</td>\n",
       "      <td>0.427812</td>\n",
       "      <td>0.165521</td>\n",
       "      <td>0.341522</td>\n",
       "      <td>-0.277197</td>\n",
       "      <td>-0.946534</td>\n",
       "      <td>-1.478710</td>\n",
       "      <td>-1.378855</td>\n",
       "    </tr>\n",
       "    <tr>\n",
       "      <th>26736</th>\n",
       "      <td>-0.499245</td>\n",
       "      <td>-0.112695</td>\n",
       "      <td>-0.847094</td>\n",
       "      <td>-1.141380</td>\n",
       "      <td>0.165521</td>\n",
       "      <td>-0.064150</td>\n",
       "      <td>-0.277197</td>\n",
       "      <td>0.429470</td>\n",
       "      <td>0.674928</td>\n",
       "      <td>-1.378855</td>\n",
       "    </tr>\n",
       "    <tr>\n",
       "      <th>45445</th>\n",
       "      <td>-1.407417</td>\n",
       "      <td>1.368378</td>\n",
       "      <td>-0.847094</td>\n",
       "      <td>1.212408</td>\n",
       "      <td>0.165521</td>\n",
       "      <td>0.189395</td>\n",
       "      <td>-0.277197</td>\n",
       "      <td>-0.946534</td>\n",
       "      <td>0.914222</td>\n",
       "      <td>-1.378855</td>\n",
       "    </tr>\n",
       "  </tbody>\n",
       "</table>\n",
       "</div>"
      ],
      "text/plain": [
       "           year  manufacturer  condition  cylinders      fuel  odometer  \\\n",
       "27131 -0.499245     -0.482963   0.781138   0.427812  0.165521  0.341522   \n",
       "26736 -0.499245     -0.112695  -0.847094  -1.141380  0.165521 -0.064150   \n",
       "45445 -1.407417      1.368378  -0.847094   1.212408  0.165521  0.189395   \n",
       "\n",
       "       transmission     drive      type  paint_color  \n",
       "27131     -0.277197 -0.946534 -1.478710    -1.378855  \n",
       "26736     -0.277197  0.429470  0.674928    -1.378855  \n",
       "45445     -0.277197 -0.946534  0.914222    -1.378855  "
      ]
     },
     "execution_count": 28,
     "metadata": {},
     "output_type": "execute_result"
    }
   ],
   "source": [
    "train.head(3)"
   ]
  },
  {
   "cell_type": "code",
   "execution_count": 29,
   "metadata": {},
   "outputs": [
    {
     "data": {
      "text/html": [
       "<div>\n",
       "<style scoped>\n",
       "    .dataframe tbody tr th:only-of-type {\n",
       "        vertical-align: middle;\n",
       "    }\n",
       "\n",
       "    .dataframe tbody tr th {\n",
       "        vertical-align: top;\n",
       "    }\n",
       "\n",
       "    .dataframe thead th {\n",
       "        text-align: right;\n",
       "    }\n",
       "</style>\n",
       "<table border=\"1\" class=\"dataframe\">\n",
       "  <thead>\n",
       "    <tr style=\"text-align: right;\">\n",
       "      <th></th>\n",
       "      <th>year</th>\n",
       "      <th>manufacturer</th>\n",
       "      <th>condition</th>\n",
       "      <th>cylinders</th>\n",
       "      <th>fuel</th>\n",
       "      <th>odometer</th>\n",
       "      <th>transmission</th>\n",
       "      <th>drive</th>\n",
       "      <th>type</th>\n",
       "      <th>paint_color</th>\n",
       "    </tr>\n",
       "  </thead>\n",
       "  <tbody>\n",
       "    <tr>\n",
       "      <th>44567</th>\n",
       "      <td>-0.045159</td>\n",
       "      <td>0.165006</td>\n",
       "      <td>1.595253</td>\n",
       "      <td>0.427812</td>\n",
       "      <td>0.165521</td>\n",
       "      <td>-0.469822</td>\n",
       "      <td>-0.277197</td>\n",
       "      <td>-0.946534</td>\n",
       "      <td>-0.042951</td>\n",
       "      <td>1.076444</td>\n",
       "    </tr>\n",
       "    <tr>\n",
       "      <th>7230</th>\n",
       "      <td>2.225269</td>\n",
       "      <td>-0.205262</td>\n",
       "      <td>-0.847094</td>\n",
       "      <td>0.427812</td>\n",
       "      <td>0.165521</td>\n",
       "      <td>-0.672658</td>\n",
       "      <td>-0.277197</td>\n",
       "      <td>0.429470</td>\n",
       "      <td>-0.282244</td>\n",
       "      <td>-1.133325</td>\n",
       "    </tr>\n",
       "    <tr>\n",
       "      <th>6341</th>\n",
       "      <td>-1.407417</td>\n",
       "      <td>-0.112695</td>\n",
       "      <td>-0.847094</td>\n",
       "      <td>-1.141380</td>\n",
       "      <td>0.165521</td>\n",
       "      <td>0.240104</td>\n",
       "      <td>-0.277197</td>\n",
       "      <td>0.429470</td>\n",
       "      <td>0.674928</td>\n",
       "      <td>0.830914</td>\n",
       "    </tr>\n",
       "  </tbody>\n",
       "</table>\n",
       "</div>"
      ],
      "text/plain": [
       "           year  manufacturer  condition  cylinders      fuel  odometer  \\\n",
       "44567 -0.045159      0.165006   1.595253   0.427812  0.165521 -0.469822   \n",
       "7230   2.225269     -0.205262  -0.847094   0.427812  0.165521 -0.672658   \n",
       "6341  -1.407417     -0.112695  -0.847094  -1.141380  0.165521  0.240104   \n",
       "\n",
       "       transmission     drive      type  paint_color  \n",
       "44567     -0.277197 -0.946534 -0.042951     1.076444  \n",
       "7230      -0.277197  0.429470 -0.282244    -1.133325  \n",
       "6341      -0.277197  0.429470  0.674928     0.830914  "
      ]
     },
     "execution_count": 29,
     "metadata": {},
     "output_type": "execute_result"
    }
   ],
   "source": [
    "test.head(3)"
   ]
  },
  {
   "cell_type": "code",
   "execution_count": 30,
   "metadata": {},
   "outputs": [
    {
     "name": "stdout",
     "output_type": "stream",
     "text": [
      "<class 'pandas.core.frame.DataFrame'>\n",
      "Index: 34440 entries, 27131 to 2732\n",
      "Data columns (total 10 columns):\n",
      " #   Column        Non-Null Count  Dtype  \n",
      "---  ------        --------------  -----  \n",
      " 0   year          34440 non-null  float64\n",
      " 1   manufacturer  34440 non-null  float64\n",
      " 2   condition     34440 non-null  float64\n",
      " 3   cylinders     34440 non-null  float64\n",
      " 4   fuel          34440 non-null  float64\n",
      " 5   odometer      34440 non-null  float64\n",
      " 6   transmission  34440 non-null  float64\n",
      " 7   drive         34440 non-null  float64\n",
      " 8   type          34440 non-null  float64\n",
      " 9   paint_color   34440 non-null  float64\n",
      "dtypes: float64(10)\n",
      "memory usage: 2.9 MB\n"
     ]
    }
   ],
   "source": [
    "train.info()"
   ]
  },
  {
   "cell_type": "code",
   "execution_count": 31,
   "metadata": {},
   "outputs": [
    {
     "name": "stdout",
     "output_type": "stream",
     "text": [
      "<class 'pandas.core.frame.DataFrame'>\n",
      "Index: 14760 entries, 44567 to 19061\n",
      "Data columns (total 10 columns):\n",
      " #   Column        Non-Null Count  Dtype  \n",
      "---  ------        --------------  -----  \n",
      " 0   year          14760 non-null  float64\n",
      " 1   manufacturer  14760 non-null  float64\n",
      " 2   condition     14760 non-null  float64\n",
      " 3   cylinders     14760 non-null  float64\n",
      " 4   fuel          14760 non-null  float64\n",
      " 5   odometer      14760 non-null  float64\n",
      " 6   transmission  14760 non-null  float64\n",
      " 7   drive         14760 non-null  float64\n",
      " 8   type          14760 non-null  float64\n",
      " 9   paint_color   14760 non-null  float64\n",
      "dtypes: float64(10)\n",
      "memory usage: 1.2 MB\n"
     ]
    }
   ],
   "source": [
    "test.info()"
   ]
  },
  {
   "cell_type": "code",
   "execution_count": 32,
   "metadata": {},
   "outputs": [],
   "source": [
    "acc_train_r2 = []\n",
    "acc_test_r2 = []\n",
    "acc_train_d = []\n",
    "acc_test_d = []\n",
    "acc_train_rmse = []\n",
    "acc_test_rmse = []"
   ]
  },
  {
   "cell_type": "code",
   "execution_count": 33,
   "metadata": {},
   "outputs": [],
   "source": [
    "def acc_d(y_meas, y_pred):\n",
    "    # Relative error between predicted y_pred and measured y_meas values\n",
    "    return mean_absolute_error(y_meas, y_pred)*len(y_meas)/sum(abs(y_meas))\n",
    "\n",
    "def acc_rmse(y_meas, y_pred):\n",
    "    # RMSE between predicted y_pred and measured y_meas values\n",
    "    return (mean_squared_error(y_meas, y_pred))**0.5"
   ]
  },
  {
   "cell_type": "code",
   "execution_count": 34,
   "metadata": {},
   "outputs": [],
   "source": [
    "def acc_boosting_model(num,model,train,test,num_iteration=0):\n",
    "    # Calculation of accuracy of boosting model by different metrics\n",
    "    \n",
    "    global acc_train_r2, acc_test_r2, acc_train_d, acc_test_d, acc_train_rmse, acc_test_rmse\n",
    "    \n",
    "    if num_iteration > 0:\n",
    "        ytrain = model.predict(train, num_iteration = num_iteration)  \n",
    "        ytest = model.predict(test, num_iteration = num_iteration)\n",
    "    else:\n",
    "        ytrain = model.predict(train)  \n",
    "        ytest = model.predict(test)\n",
    "\n",
    "    print('target = ', targetb[:5].values)\n",
    "    print('ytrain = ', ytrain[:5])\n",
    "\n",
    "    acc_train_r2_num = round(r2_score(targetb, ytrain) * 100, 2)\n",
    "    print('acc(r2_score) for train =', acc_train_r2_num)   \n",
    "    acc_train_r2.insert(num, acc_train_r2_num)\n",
    "\n",
    "    acc_train_d_num = round(acc_d(targetb, ytrain) * 100, 2)\n",
    "    print('acc(relative error) for train =', acc_train_d_num)   \n",
    "    acc_train_d.insert(num, acc_train_d_num)\n",
    "\n",
    "    acc_train_rmse_num = round(acc_rmse(targetb, ytrain) * 100, 2)\n",
    "    print('acc(rmse) for train =', acc_train_rmse_num)   \n",
    "    acc_train_rmse.insert(num, acc_train_rmse_num)\n",
    "\n",
    "    print('target_test =', target_testb[:5].values)\n",
    "    print('ytest =', ytest[:5])\n",
    "    \n",
    "    acc_test_r2_num = round(r2_score(target_testb, ytest) * 100, 2)\n",
    "    print('acc(r2_score) for test =', acc_test_r2_num)\n",
    "    acc_test_r2.insert(num, acc_test_r2_num)\n",
    "    \n",
    "    acc_test_d_num = round(acc_d(target_testb, ytest) * 100, 2)\n",
    "    print('acc(relative error) for test =', acc_test_d_num)\n",
    "    acc_test_d.insert(num, acc_test_d_num)\n",
    "    \n",
    "    acc_test_rmse_num = round(acc_rmse(target_testb, ytest) * 100, 2)\n",
    "    print('acc(rmse) for test =', acc_test_rmse_num)\n",
    "    acc_test_rmse.insert(num, acc_test_rmse_num)"
   ]
  },
  {
   "cell_type": "code",
   "execution_count": 35,
   "metadata": {},
   "outputs": [],
   "source": [
    "def acc_model(num,model,train,test):\n",
    "    # Calculation of accuracy of model акщь Sklearn by different metrics   \n",
    "  \n",
    "    global acc_train_r2, acc_test_r2, acc_train_d, acc_test_d, acc_train_rmse, acc_test_rmse\n",
    "    \n",
    "    ytrain = model.predict(train)  \n",
    "    ytest = model.predict(test)\n",
    "\n",
    "    print('target = ', target[:5].values)\n",
    "    print('ytrain = ', ytrain[:5])\n",
    "\n",
    "    acc_train_r2_num = round(r2_score(target, ytrain) * 100, 2)\n",
    "    print('acc(r2_score) for train =', acc_train_r2_num)   \n",
    "    acc_train_r2.insert(num, acc_train_r2_num)\n",
    "\n",
    "    acc_train_d_num = round(acc_d(target, ytrain) * 100, 2)\n",
    "    print('acc(relative error) for train =', acc_train_d_num)   \n",
    "    acc_train_d.insert(num, acc_train_d_num)\n",
    "\n",
    "    acc_train_rmse_num = round(acc_rmse(target, ytrain) * 100, 2)\n",
    "    print('acc(rmse) for train =', acc_train_rmse_num)   \n",
    "    acc_train_rmse.insert(num, acc_train_rmse_num)\n",
    "\n",
    "    print('target_test =', target_test[:5].values)\n",
    "    print('ytest =', ytest[:5])\n",
    "    \n",
    "    acc_test_r2_num = round(r2_score(target_test, ytest) * 100, 2)\n",
    "    print('acc(r2_score) for test =', acc_test_r2_num)\n",
    "    acc_test_r2.insert(num, acc_test_r2_num)\n",
    "    \n",
    "    acc_test_d_num = round(acc_d(target_test, ytest) * 100, 2)\n",
    "    print('acc(relative error) for test =', acc_test_d_num)\n",
    "    acc_test_d.insert(num, acc_test_d_num)\n",
    "    \n",
    "    acc_test_rmse_num = round(acc_rmse(target_test, ytest) * 100, 2)\n",
    "    print('acc(rmse) for test =', acc_test_rmse_num)\n",
    "    acc_test_rmse.insert(num, acc_test_rmse_num)"
   ]
  },
  {
   "cell_type": "markdown",
   "metadata": {},
   "source": [
    "## 5. Tuning models and test for all features <a class=\"anchor\" id=\"5\"></a>\n",
    "\n",
    "[Back to Table of Contents](#0.1)"
   ]
  },
  {
   "cell_type": "markdown",
   "metadata": {},
   "source": [
    "Thanks to https://www.kaggle.com/startupsci/titanic-data-science-solutions\n",
    "\n",
    "Now we are ready to train a model and predict the required solution. There are 60+ predictive modelling algorithms to choose from. We must understand the type of problem and solution requirement to narrow down to a select few models which we can evaluate. Our problem is a regression problem. We want to identify relationship between output (Survived or not) with other variables or features (Gender, Age, Port...). We are also perfoming a category of machine learning which is called supervised learning as we are training our model with a given dataset. With these two criteria - Supervised Learning, we can narrow down our choice of models to a few. These include:\n",
    "\n",
    "- Linear Regression\n",
    "- Support Vector Machines and Linear SVR\n",
    "- Stochastic Gradient Descent, GradientBoostingRegressor, RidgeCV, BaggingRegressor\n",
    "- Decision Tree Regression, Random Forest, XGBRegressor, LGBM, ExtraTreesRegressor\n",
    "- MLPRegressor (Deep Learning)\n",
    "- VotingRegressor"
   ]
  },
  {
   "cell_type": "markdown",
   "metadata": {},
   "source": [
    "### 5.1 Linear Regression <a class=\"anchor\" id=\"5.1\"></a>\n",
    "\n",
    "[Back to Table of Contents](#0.1)"
   ]
  },
  {
   "cell_type": "markdown",
   "metadata": {},
   "source": [
    "**Linear Regression** is a linear approach to modeling the relationship between a scalar response (or dependent variable) and one or more explanatory variables (or independent variables). The case of one explanatory variable is called simple linear regression. For more than one explanatory variable, the process is called multiple linear regression. Reference [Wikipedia](https://en.wikipedia.org/wiki/Linear_regression).\n",
    "\n",
    "Note the confidence score generated by the model based on our training dataset."
   ]
  },
  {
   "cell_type": "code",
   "execution_count": 36,
   "metadata": {},
   "outputs": [
    {
     "name": "stdout",
     "output_type": "stream",
     "text": [
      "target =  [14888  8995 16990  5600  5490]\n",
      "ytrain =  [17220.8844431   8397.2939732  17733.57593104 10134.9269719\n",
      "  6283.88038457]\n",
      "acc(r2_score) for train = 61.64\n",
      "acc(relative error) for train = 23.91\n",
      "acc(rmse) for train = 534865.15\n",
      "target_test = [38000 31550  5900 13500 35000]\n",
      "ytest = [20341.93475801 27356.28728167  4431.23183339 19550.04053874\n",
      " 24919.25787533]\n",
      "acc(r2_score) for test = 58.44\n",
      "acc(relative error) for test = 23.89\n",
      "acc(rmse) for test = 555802.12\n"
     ]
    }
   ],
   "source": [
    "# Linear Regression\n",
    "\n",
    "linreg = LinearRegression()\n",
    "linreg.fit(train, target)\n",
    "acc_model(0,linreg,train,test)"
   ]
  },
  {
   "cell_type": "markdown",
   "metadata": {},
   "source": [
    "### 5.2 Support Vector Machines <a class=\"anchor\" id=\"5.2\"></a>\n",
    "\n",
    "[Back to Table of Contents](#0.1)"
   ]
  },
  {
   "cell_type": "markdown",
   "metadata": {},
   "source": [
    "**Support Vector Machines** are supervised learning models with associated learning algorithms that analyze data used for classification and regression analysis. Given a set of training samples, each marked as belonging to one or the other of two categories, an SVM training algorithm builds a model that assigns new test samples to one category or the other, making it a non-probabilistic binary linear classifier. Reference [Wikipedia](https://en.wikipedia.org/wiki/Support_vector_machine)."
   ]
  },
  {
   "cell_type": "code",
   "execution_count": 37,
   "metadata": {},
   "outputs": [
    {
     "name": "stdout",
     "output_type": "stream",
     "text": [
      "target =  [14888  8995 16990  5600  5490]\n",
      "ytrain =  [15217.26259365 13081.93378758 15591.30587964 13563.74970446\n",
      " 12526.56611499]\n",
      "acc(r2_score) for train = 14.88\n",
      "acc(relative error) for train = 37.14\n",
      "acc(rmse) for train = 796758.93\n",
      "target_test = [38000 31550  5900 13500 35000]\n",
      "ytest = [15987.95742866 16598.27499562 12663.40871752 15593.55138322\n",
      " 16346.69567724]\n",
      "acc(r2_score) for test = 14.56\n",
      "acc(relative error) for test = 36.92\n",
      "acc(rmse) for test = 796920.98\n"
     ]
    }
   ],
   "source": [
    "# Support Vector Machines\n",
    "\n",
    "svr = SVR()\n",
    "svr.fit(train, target)\n",
    "acc_model(1,svr,train,test)"
   ]
  },
  {
   "cell_type": "markdown",
   "metadata": {},
   "source": [
    "### 5.3 Linear SVR <a class=\"anchor\" id=\"5.3\"></a>\n",
    "\n",
    "[Back to Table of Contents](#0.1)"
   ]
  },
  {
   "cell_type": "markdown",
   "metadata": {},
   "source": [
    "**Linear SVR** is a similar to SVM method. Its also builds on kernel functions but is appropriate for unsupervised learning. Reference [Wikipedia](https://en.wikipedia.org/wiki/Support-vector_machine#Support-vector_clustering_(svr)."
   ]
  },
  {
   "cell_type": "code",
   "execution_count": 38,
   "metadata": {},
   "outputs": [
    {
     "name": "stdout",
     "output_type": "stream",
     "text": [
      "target =  [14888  8995 16990  5600  5490]\n",
      "ytrain =  [13797.22085965  7640.52595828 14600.06413272  8806.23784859\n",
      "  5995.40263468]\n",
      "acc(r2_score) for train = 43.9\n",
      "acc(relative error) for train = 27.62\n",
      "acc(rmse) for train = 646799.0\n",
      "target_test = [38000 31550  5900 13500 35000]\n",
      "ytest = [16969.9579115  21696.78436499  4640.56888009 15839.15763639\n",
      " 20537.38903202]\n",
      "acc(r2_score) for test = 35.53\n",
      "acc(relative error) for test = 27.7\n",
      "acc(rmse) for test = 692258.21\n"
     ]
    }
   ],
   "source": [
    "# Linear SVR\n",
    "\n",
    "linear_svr = LinearSVR()\n",
    "linear_svr.fit(train, target)\n",
    "acc_model(2,linear_svr,train,test)"
   ]
  },
  {
   "cell_type": "markdown",
   "metadata": {},
   "source": [
    "### 5.4 MLPRegressor <a class=\"anchor\" id=\"5.4\"></a>\n",
    "\n",
    "[Back to Table of Contents](#0.1)"
   ]
  },
  {
   "cell_type": "markdown",
   "metadata": {},
   "source": [
    "The **MLPRegressor** optimizes the squared-loss using LBFGS or stochastic gradient descent by the Multi-layer Perceptron regressor. Reference [Sklearn documentation](https://scikit-learn.org/stable/modules/generated/sklearn.neural_network.MLPRegressor.html#sklearn.neural_network.MLPRegressor)."
   ]
  },
  {
   "cell_type": "markdown",
   "metadata": {},
   "source": [
    "Thanks to:\n",
    "* https://scikit-learn.org/stable/modules/generated/sklearn.neural_network.MLPRegressor.html#sklearn.neural_network.MLPRegressor\n",
    "* https://stackoverflow.com/questions/44803596/scikit-learn-mlpregressor-performance-cap"
   ]
  },
  {
   "cell_type": "code",
   "execution_count": 39,
   "metadata": {},
   "outputs": [
    {
     "name": "stdout",
     "output_type": "stream",
     "text": [
      "Fitting 10 folds for each of 3 candidates, totalling 30 fits\n",
      "target =  [14888  8995 16990  5600  5490]\n",
      "ytrain =  [15017.1013835   7232.49812665 18208.83113613 10785.33197971\n",
      "  8711.80745408]\n",
      "acc(r2_score) for train = 69.71\n",
      "acc(relative error) for train = 20.97\n",
      "acc(rmse) for train = 475277.84\n",
      "target_test = [38000 31550  5900 13500 35000]\n",
      "ytest = [22133.77373833 28743.96184141  5953.34197932 20156.41658348\n",
      " 27832.99899827]\n",
      "acc(r2_score) for test = 69.93\n",
      "acc(relative error) for test = 20.79\n",
      "acc(rmse) for test = 472787.44\n"
     ]
    }
   ],
   "source": [
    "# MLPRegressor\n",
    "\n",
    "mlp = MLPRegressor()\n",
    "param_grid = {'hidden_layer_sizes': [i for i in range(2,5)],\n",
    "              'activation': ['relu'],\n",
    "              'solver': ['adam'],\n",
    "              'learning_rate': ['constant'],\n",
    "              'learning_rate_init': [0.01],\n",
    "              'power_t': [0.5],\n",
    "              'alpha': [0.0001],\n",
    "              'max_iter': [1000],\n",
    "              'early_stopping': [True],\n",
    "              'warm_start': [False]}\n",
    "mlp_GS = GridSearchCV(mlp, param_grid=param_grid, \n",
    "                   cv=10, verbose=True, pre_dispatch='2*n_jobs')\n",
    "mlp_GS.fit(train, target)\n",
    "acc_model(3,mlp_GS,train,test)"
   ]
  },
  {
   "cell_type": "markdown",
   "metadata": {},
   "source": [
    "### 5.5 Stochastic Gradient Descent <a class=\"anchor\" id=\"5.5\"></a>\n",
    "\n",
    "[Back to Table of Contents](#0.1)"
   ]
  },
  {
   "cell_type": "markdown",
   "metadata": {},
   "source": [
    "**Stochastic gradient descent** (often abbreviated **SGD**) is an iterative method for optimizing an objective function with suitable smoothness properties (e.g. differentiable or subdifferentiable). It can be regarded as a stochastic approximation of gradient descent optimization, since it replaces the actual gradient (calculated from the entire data set) by an estimate thereof (calculated from a randomly selected subset of the data). Especially in big data applications this reduces the computational burden, achieving faster iterations in trade for a slightly lower convergence rate. Reference [Wikipedia](https://en.wikipedia.org/wiki/Stochastic_gradient_descent)."
   ]
  },
  {
   "cell_type": "code",
   "execution_count": 40,
   "metadata": {},
   "outputs": [
    {
     "name": "stdout",
     "output_type": "stream",
     "text": [
      "target =  [14888  8995 16990  5600  5490]\n",
      "ytrain =  [17631.77636799  8411.90198321 17321.30856764 10307.09678728\n",
      "  6378.97155324]\n",
      "acc(r2_score) for train = 61.21\n",
      "acc(relative error) for train = 24.27\n",
      "acc(rmse) for train = 537826.2\n",
      "target_test = [38000 31550  5900 13500 35000]\n",
      "ytest = [19886.69156695 27453.80237281  4289.47829021 19572.82617259\n",
      " 24739.39873277]\n",
      "acc(r2_score) for test = 60.4\n",
      "acc(relative error) for test = 24.15\n",
      "acc(rmse) for test = 542515.94\n"
     ]
    }
   ],
   "source": [
    "# Stochastic Gradient Descent\n",
    "\n",
    "sgd = SGDRegressor()\n",
    "sgd.fit(train, target)\n",
    "acc_model(4,sgd,train,test)"
   ]
  },
  {
   "cell_type": "markdown",
   "metadata": {},
   "source": [
    "### 5.6 Decision Tree Regressor <a class=\"anchor\" id=\"5.6\"></a>\n",
    "\n",
    "[Back to Table of Contents](#0.1)"
   ]
  },
  {
   "cell_type": "markdown",
   "metadata": {},
   "source": [
    "This model uses a **Decision Tree** as a predictive model which maps features (tree branches) to conclusions about the target value (tree leaves). Tree models where the target variable can take a finite set of values are called classification trees; in these tree structures, leaves represent class labels and branches represent conjunctions of features that lead to those class labels. Decision trees where the target variable can take continuous values (typically real numbers) are called regression trees. Reference [Wikipedia](https://en.wikipedia.org/wiki/Decision_tree_learning)."
   ]
  },
  {
   "cell_type": "code",
   "execution_count": 41,
   "metadata": {},
   "outputs": [
    {
     "name": "stdout",
     "output_type": "stream",
     "text": [
      "target =  [14888  8995 16990  5600  5490]\n",
      "ytrain =  [11944.    8869.75 15996.25  5600.    5490.  ]\n",
      "acc(r2_score) for train = 99.31\n",
      "acc(relative error) for train = 0.96\n",
      "acc(rmse) for train = 71730.45\n",
      "target_test = [38000 31550  5900 13500 35000]\n",
      "ytest = [38000.         33500.          7131.66666667 11500.\n",
      " 20999.        ]\n",
      "acc(r2_score) for test = 76.53\n",
      "acc(relative error) for test = 14.46\n",
      "acc(rmse) for test = 417662.44\n"
     ]
    }
   ],
   "source": [
    "# Decision Tree Regression\n",
    "\n",
    "decision_tree = DecisionTreeRegressor()\n",
    "decision_tree.fit(train, target)\n",
    "acc_model(5,decision_tree,train,test)"
   ]
  },
  {
   "cell_type": "markdown",
   "metadata": {},
   "source": [
    "### 5.7 Random Forest <a class=\"anchor\" id=\"5.7\"></a>\n",
    "\n",
    "[Back to Table of Contents](#0.1)"
   ]
  },
  {
   "cell_type": "markdown",
   "metadata": {},
   "source": [
    "**Random Forest** is one of the most popular model. Random forests or random decision forests are an ensemble learning method for classification, regression and other tasks, that operate by constructing a multitude of decision trees (n_estimators= [100, 300]) at training time and outputting the class that is the mode of the classes (classification) or mean prediction (regression) of the individual trees. Reference [Wikipedia](https://en.wikipedia.org/wiki/Random_forest)."
   ]
  },
  {
   "cell_type": "code",
   "execution_count": 42,
   "metadata": {},
   "outputs": [
    {
     "ename": "AttributeError",
     "evalue": "'RandomForestRegressor' object has no attribute 'best_params_'",
     "output_type": "error",
     "traceback": [
      "\u001b[1;31m---------------------------------------------------------------------------\u001b[0m",
      "\u001b[1;31mAttributeError\u001b[0m                            Traceback (most recent call last)",
      "\u001b[1;32m~\\AppData\\Local\\Temp\\ipykernel_8952\\2912784021.py\u001b[0m in \u001b[0;36m<module>\u001b[1;34m\u001b[0m\n\u001b[0;32m      4\u001b[0m \u001b[0mrandom_forest\u001b[0m \u001b[1;33m=\u001b[0m \u001b[0mRandomForestRegressor\u001b[0m\u001b[1;33m(\u001b[0m\u001b[1;33m)\u001b[0m\u001b[1;33m\u001b[0m\u001b[1;33m\u001b[0m\u001b[0m\n\u001b[0;32m      5\u001b[0m \u001b[0mrandom_forest\u001b[0m\u001b[1;33m.\u001b[0m\u001b[0mfit\u001b[0m\u001b[1;33m(\u001b[0m\u001b[0mtrain\u001b[0m\u001b[1;33m,\u001b[0m \u001b[0mtarget\u001b[0m\u001b[1;33m)\u001b[0m\u001b[1;33m\u001b[0m\u001b[1;33m\u001b[0m\u001b[0m\n\u001b[1;32m----> 6\u001b[1;33m \u001b[0mprint\u001b[0m\u001b[1;33m(\u001b[0m\u001b[0mrandom_forest\u001b[0m\u001b[1;33m.\u001b[0m\u001b[0mbest_params_\u001b[0m\u001b[1;33m)\u001b[0m\u001b[1;33m\u001b[0m\u001b[1;33m\u001b[0m\u001b[0m\n\u001b[0m\u001b[0;32m      7\u001b[0m \u001b[0macc_model\u001b[0m\u001b[1;33m(\u001b[0m\u001b[1;36m6\u001b[0m\u001b[1;33m,\u001b[0m\u001b[0mrandom_forest\u001b[0m\u001b[1;33m,\u001b[0m\u001b[0mtrain\u001b[0m\u001b[1;33m,\u001b[0m\u001b[0mtest\u001b[0m\u001b[1;33m)\u001b[0m\u001b[1;33m\u001b[0m\u001b[1;33m\u001b[0m\u001b[0m\n",
      "\u001b[1;31mAttributeError\u001b[0m: 'RandomForestRegressor' object has no attribute 'best_params_'"
     ]
    }
   ],
   "source": [
    "# Random Forest\n",
    "\n",
    "#random_forest = GridSearchCV(estimator=RandomForestRegressor(), param_grid={'n_estimators': [100, 1000]}, cv=5)\n",
    "random_forest = RandomForestRegressor()\n",
    "random_forest.fit(train, target)\n",
    "#print(random_forest.best_params_)\n",
    "acc_model(6,random_forest,train,test)"
   ]
  },
  {
   "cell_type": "code",
   "execution_count": null,
   "metadata": {},
   "outputs": [],
   "source": [
    "acc_model(6,random_forest,train,test)"
   ]
  },
  {
   "cell_type": "markdown",
   "metadata": {},
   "source": [
    "### 5.8 XGB<a class=\"anchor\" id=\"5.8\"></a>\n",
    "\n",
    "[Back to Table of Contents](#0.1)"
   ]
  },
  {
   "cell_type": "markdown",
   "metadata": {},
   "source": [
    "**XGBoost** is an ensemble tree method that apply the principle of boosting weak learners (CARTs generally) using the gradient descent architecture. XGBoost improves upon the base Gradient Boosting Machines (GBM) framework through systems optimization and algorithmic enhancements. Reference [Towards Data Science.](https://towardsdatascience.com/https-medium-com-vishalmorde-xgboost-algorithm-long-she-may-rein-edd9f99be63d)"
   ]
  },
  {
   "cell_type": "code",
   "execution_count": null,
   "metadata": {},
   "outputs": [],
   "source": [
    "xgb_clf = xgb.XGBRegressor({'objective': 'reg:squarederror'}) \n",
    "parameters = {'n_estimators': [60, 100, 120, 140], \n",
    "              'learning_rate': [0.01, 0.1],\n",
    "              'max_depth': [5, 7],\n",
    "              'reg_lambda': [0.5]}\n",
    "xgb_reg = GridSearchCV(estimator=xgb_clf, param_grid=parameters, cv=5, n_jobs=-1).fit(trainb, targetb)\n",
    "print(\"Best score: %0.3f\" % xgb_reg.best_score_)\n",
    "print(\"Best parameters set:\", xgb_reg.best_params_)\n",
    "acc_boosting_model(7,xgb_reg,trainb,testb)"
   ]
  },
  {
   "cell_type": "markdown",
   "metadata": {},
   "source": [
    "### 5.9 LGBM <a class=\"anchor\" id=\"5.9\"></a>\n",
    "\n",
    "[Back to Table of Contents](#0.1)"
   ]
  },
  {
   "cell_type": "markdown",
   "metadata": {},
   "source": [
    "**Light GBM** is a fast, distributed, high-performance gradient boosting framework based on decision tree algorithms. It splits the tree leaf wise with the best fit whereas other boosting algorithms split the tree depth wise or level wise rather than leaf-wise. So when growing on the same leaf in Light GBM, the leaf-wise algorithm can reduce more loss than the level-wise algorithm and hence results in much better accuracy which can rarely be achieved by any of the existing boosting algorithms. Also, it is surprisingly very fast, hence the word ‘Light’. Reference [Analytics Vidhya](https://www.analyticsvidhya.com/blog/2017/06/which-algorithm-takes-the-crown-light-gbm-vs-xgboost/)."
   ]
  },
  {
   "cell_type": "code",
   "execution_count": null,
   "metadata": {},
   "outputs": [],
   "source": [
    "#%% split training set to validation set\n",
    "Xtrain, Xval, Ztrain, Zval = train_test_split(trainb, targetb, test_size=0.2, random_state=0)\n",
    "train_set = lgb.Dataset(Xtrain, Ztrain, silent=False)\n",
    "valid_set = lgb.Dataset(Xval, Zval, silent=False)"
   ]
  },
  {
   "cell_type": "code",
   "execution_count": null,
   "metadata": {},
   "outputs": [],
   "source": [
    "params = {\n",
    "        'boosting_type':'gbdt',\n",
    "        'objective': 'regression',\n",
    "        'num_leaves': 31,\n",
    "        'learning_rate': 0.01,\n",
    "        'max_depth': -1,\n",
    "        'subsample': 0.8,\n",
    "        'bagging_fraction' : 1,\n",
    "        'max_bin' : 5000 ,\n",
    "        'bagging_freq': 20,\n",
    "        'colsample_bytree': 0.6,\n",
    "        'metric': 'rmse',\n",
    "        'min_split_gain': 0.5,\n",
    "        'min_child_weight': 1,\n",
    "        'min_child_samples': 10,\n",
    "        'scale_pos_weight':1,\n",
    "        'zero_as_missing': False,\n",
    "        'seed':0,        \n",
    "    }\n",
    "modelL = lgb.train(params, train_set = train_set, num_boost_round=10000,\n",
    "                   early_stopping_rounds=8000,verbose_eval=500, valid_sets=valid_set)"
   ]
  },
  {
   "cell_type": "code",
   "execution_count": null,
   "metadata": {},
   "outputs": [],
   "source": [
    "acc_boosting_model(8,modelL,trainb,testb,modelL.best_iteration)"
   ]
  },
  {
   "cell_type": "code",
   "execution_count": null,
   "metadata": {},
   "outputs": [],
   "source": [
    "fig =  plt.figure(figsize = (5,5))\n",
    "axes = fig.add_subplot(111)\n",
    "lgb.plot_importance(modelL,ax = axes,height = 0.5)\n",
    "plt.show();\n",
    "plt.close()"
   ]
  },
  {
   "cell_type": "markdown",
   "metadata": {},
   "source": [
    "### 5.10 GradientBoostingRegressor with HyperOpt<a class=\"anchor\" id=\"5.10\"></a>\n",
    "\n",
    "[Back to Table of Contents](#0.1)"
   ]
  },
  {
   "cell_type": "markdown",
   "metadata": {},
   "source": [
    "Thanks to https://www.kaggle.com/kabure/titanic-eda-model-pipeline-keras-nn"
   ]
  },
  {
   "cell_type": "markdown",
   "metadata": {},
   "source": [
    "**Gradient Boosting** builds an additive model in a forward stage-wise fashion; it allows for the optimization of arbitrary differentiable loss functions. In each stage n_classes_ regression trees are fit on the negative gradient of the binomial or multinomial deviance loss function. Binary classification is a special case where only a single regression tree is induced. The features are always randomly permuted at each split. Therefore, the best found split may vary, even with the same training data and max_features=n_features, if the improvement of the criterion is identical for several splits enumerated during the search of the best split. To obtain a deterministic behaviour during fitting, random_state has to be fixed. Reference [sklearn documentation](https://scikit-learn.org/stable/modules/generated/sklearn.ensemble.GradientBoostingClassifier.html)."
   ]
  },
  {
   "cell_type": "code",
   "execution_count": null,
   "metadata": {},
   "outputs": [],
   "source": [
    "def hyperopt_gb_score(params):\n",
    "    clf = GradientBoostingRegressor(**params)\n",
    "    current_score = cross_val_score(clf, train, target, cv=10).mean()\n",
    "    print(current_score, params)\n",
    "    return current_score \n",
    " \n",
    "space_gb = {\n",
    "            'n_estimators': hp.choice('n_estimators', range(100, 1000)),\n",
    "            'max_depth': hp.choice('max_depth', np.arange(2, 10, dtype=int))            \n",
    "        }\n",
    " \n",
    "best = fmin(fn=hyperopt_gb_score, space=space_gb, algo=tpe.suggest, max_evals=10)\n",
    "print('best:')\n",
    "print(best)"
   ]
  },
  {
   "cell_type": "code",
   "execution_count": null,
   "metadata": {},
   "outputs": [],
   "source": [
    "params = space_eval(space_gb, best)\n",
    "params"
   ]
  },
  {
   "cell_type": "code",
   "execution_count": null,
   "metadata": {},
   "outputs": [],
   "source": [
    "# Gradient Boosting Regression\n",
    "\n",
    "gradient_boosting = GradientBoostingRegressor(**params)\n",
    "gradient_boosting.fit(train, target)\n",
    "acc_model(9,gradient_boosting,train,test)"
   ]
  },
  {
   "cell_type": "markdown",
   "metadata": {},
   "source": [
    "### 5.11 RidgeRegressor <a class=\"anchor\" id=\"5.11\"></a>\n",
    "\n",
    "[Back to Table of Contents](#0.1)"
   ]
  },
  {
   "cell_type": "markdown",
   "metadata": {},
   "source": [
    "Tikhonov Regularization, colloquially known as **Ridge Regression**, is the most commonly used regression algorithm to approximate an answer for an equation with no unique solution. This type of problem is very common in machine learning tasks, where the \"best\" solution must be chosen using limited data. If a unique solution exists, algorithm will return the optimal value. However, if multiple solutions exist, it may choose any of them. Reference [Brilliant.org](https://brilliant.org/wiki/ridge-regression/)."
   ]
  },
  {
   "cell_type": "code",
   "execution_count": null,
   "metadata": {},
   "outputs": [],
   "source": [
    "# Ridge Regressor\n",
    "\n",
    "ridge = RidgeCV(cv=5)\n",
    "ridge.fit(train, target)\n",
    "acc_model(10,ridge,train,test)"
   ]
  },
  {
   "cell_type": "markdown",
   "metadata": {},
   "source": [
    "### 5.12 BaggingRegressor <a class=\"anchor\" id=\"5.12\"></a>\n",
    "\n",
    "[Back to Table of Contents](#0.1)"
   ]
  },
  {
   "cell_type": "markdown",
   "metadata": {},
   "source": [
    "Bootstrap aggregating, also called **Bagging**, is a machine learning ensemble meta-algorithm designed to improve the stability and accuracy of machine learning algorithms used in statistical classification and regression. It also reduces variance and helps to avoid overfitting. Although it is usually applied to decision tree methods, it can be used with any type of method. Bagging is a special case of the model averaging approach. Bagging leads to \"improvements for unstable procedures\", which include, for example, artificial neural networks, classification and regression trees, and subset selection in linear regression. On the other hand, it can mildly degrade the performance of stable methods such as K-nearest neighbors. Reference [Wikipedia](https://en.wikipedia.org/wiki/Bootstrap_aggregating)."
   ]
  },
  {
   "cell_type": "code",
   "execution_count": null,
   "metadata": {},
   "outputs": [],
   "source": [
    "# Bagging Regressor\n",
    "\n",
    "bagging = BaggingRegressor()\n",
    "bagging.fit(train, target)\n",
    "acc_model(11,bagging,train,test)"
   ]
  },
  {
   "cell_type": "markdown",
   "metadata": {},
   "source": [
    "### 5.13 ExtraTreesRegressor <a class=\"anchor\" id=\"5.13\"></a>\n",
    "\n",
    "[Back to Table of Contents](#0.1)"
   ]
  },
  {
   "cell_type": "markdown",
   "metadata": {},
   "source": [
    "**ExtraTreesRegressor** implements a meta estimator that fits a number of randomized decision trees (a.k.a. extra-trees) on various sub-samples of the dataset and uses averaging to improve the predictive accuracy and control over-fitting. The default values for the parameters controlling the size of the trees (e.g. max_depth, min_samples_leaf, etc.) lead to fully grown and unpruned trees which can potentially be very large on some data sets. To reduce memory consumption, the complexity and size of the trees should be controlled by setting those parameter values. Reference [sklearn documentation](https://scikit-learn.org/stable/modules/generated/sklearn.ensemble.ExtraTreesClassifier.html). \n",
    "\n",
    "In extremely randomized trees, randomness goes one step further in the way splits are computed. As in random forests, a random subset of candidate features is used, but instead of looking for the most discriminative thresholds, thresholds are drawn at random for each candidate feature and the best of these randomly-generated thresholds is picked as the splitting rule. This usually allows to reduce the variance of the model a bit more, at the expense of a slightly greater increase in bias. Reference [sklearn documentation](https://scikit-learn.org/stable/modules/ensemble.html#Extremely%20Randomized%20Trees)."
   ]
  },
  {
   "cell_type": "code",
   "execution_count": null,
   "metadata": {},
   "outputs": [],
   "source": [
    "# Extra Trees Regressor\n",
    "\n",
    "etr = ExtraTreesRegressor()\n",
    "etr.fit(train, target)\n",
    "acc_model(12,etr,train,test)"
   ]
  },
  {
   "cell_type": "markdown",
   "metadata": {},
   "source": [
    "### 5.14 AdaBoost Regressor <a class=\"anchor\" id=\"5.14\"></a>\n",
    "\n",
    "[Back to Table of Contents](#0.1)"
   ]
  },
  {
   "cell_type": "markdown",
   "metadata": {},
   "source": [
    "The core principle of **AdaBoost** is to fit a sequence of weak learners (i.e., models that are only slightly better than random guessing, such as small decision trees) on repeatedly modified versions of the data. The predictions from all of them are then combined through a weighted majority vote (or sum) to produce the final prediction. The data modifications at each so-called boosting iteration consist of applying N weights to each of the training samples. Initially, those weights are all set to 1/N, so that the first step simply trains a weak learner on the original data. For each successive iteration, the sample weights are individually modified and the learning algorithm is reapplied to the reweighted data. At a given step, those training examples that were incorrectly predicted by the boosted model induced at the previous step have their weights increased, whereas the weights are decreased for those that were predicted correctly. As iterations proceed, examples that are difficult to predict receive ever-increasing influence. Each subsequent weak learner is thereby forced to concentrate on the examples that are missed by the previous ones in the sequence. Reference [sklearn documentation](https://scikit-learn.org/stable/modules/ensemble.html#adaboost)."
   ]
  },
  {
   "cell_type": "code",
   "execution_count": null,
   "metadata": {},
   "outputs": [],
   "source": [
    "# AdaBoost Regression\n",
    "\n",
    "Ada_Boost = AdaBoostRegressor()\n",
    "Ada_Boost.fit(train, target)\n",
    "acc_model(13,Ada_Boost,train,test)"
   ]
  },
  {
   "cell_type": "markdown",
   "metadata": {},
   "source": [
    "### 5.15 VotingRegressor <a class=\"anchor\" id=\"5.15\"></a>\n",
    "\n",
    "[Back to Table of Contents](#0.1)"
   ]
  },
  {
   "cell_type": "markdown",
   "metadata": {},
   "source": [
    "A **Voting Regressor** is an ensemble meta-estimator that fits base regressors each on the whole dataset. It, then, averages the individual predictions to form a final prediction. Reference [sklearn documentation](https://scikit-learn.org/stable/modules/generated/sklearn.ensemble.VotingRegressor.html#sklearn.ensemble.VotingRegressor)."
   ]
  },
  {
   "cell_type": "markdown",
   "metadata": {},
   "source": [
    "Thanks for the example of ensemling different models from \n",
    "\n",
    "https://scikit-learn.org/stable/modules/generated/sklearn.ensemble.VotingRegressor.html#sklearn.ensemble.VotingRegressor"
   ]
  },
  {
   "cell_type": "code",
   "execution_count": null,
   "metadata": {},
   "outputs": [],
   "source": [
    "Voting_Reg = VotingRegressor(estimators=[('lin', linreg), ('ridge', ridge), ('sgd', sgd)])\n",
    "Voting_Reg.fit(train, target)\n",
    "acc_model(14,Voting_Reg,train,test)"
   ]
  },
  {
   "cell_type": "markdown",
   "metadata": {},
   "source": [
    "## 6. Models comparison <a class=\"anchor\" id=\"6\"></a>\n",
    "\n",
    "[Back to Table of Contents](#0.1)"
   ]
  },
  {
   "cell_type": "markdown",
   "metadata": {},
   "source": [
    "We can now compare our models and to choose the best one for our problem."
   ]
  },
  {
   "cell_type": "code",
   "execution_count": null,
   "metadata": {},
   "outputs": [],
   "source": [
    "models = pd.DataFrame({\n",
    "    'Model': ['Linear Regression', 'Support Vector Machines', 'Linear SVR', \n",
    "              'MLPRegressor', 'Stochastic Gradient Decent', \n",
    "              'Decision Tree Regressor', 'Random Forest',  'XGB', 'LGBM',\n",
    "              'GradientBoostingRegressor', 'RidgeRegressor', 'BaggingRegressor', 'ExtraTreesRegressor', \n",
    "              'AdaBoostRegressor', 'VotingRegressor'],\n",
    "    \n",
    "    'r2_train': acc_train_r2,\n",
    "    'r2_test': acc_test_r2,\n",
    "    'd_train': acc_train_d,\n",
    "    'd_test': acc_test_d,\n",
    "    'rmse_train': acc_train_rmse,\n",
    "    'rmse_test': acc_test_rmse\n",
    "                     })"
   ]
  },
  {
   "cell_type": "code",
   "execution_count": null,
   "metadata": {},
   "outputs": [],
   "source": [
    "pd.options.display.float_format = '{:,.2f}'.format"
   ]
  },
  {
   "cell_type": "code",
   "execution_count": null,
   "metadata": {},
   "outputs": [],
   "source": [
    "print('Prediction accuracy for models by R2 criterion - r2_test')\n",
    "models.sort_values(by=['r2_test', 'r2_train'], ascending=False)"
   ]
  },
  {
   "cell_type": "code",
   "execution_count": null,
   "metadata": {},
   "outputs": [],
   "source": [
    "print('Prediction accuracy for models by relative error - d_test')\n",
    "models.sort_values(by=['d_test', 'd_train'], ascending=True)"
   ]
  },
  {
   "cell_type": "code",
   "execution_count": null,
   "metadata": {},
   "outputs": [],
   "source": [
    "print('Prediction accuracy for models by RMSE - rmse_test')\n",
    "models.sort_values(by=['rmse_test', 'rmse_train'], ascending=True)"
   ]
  },
  {
   "cell_type": "code",
   "execution_count": null,
   "metadata": {},
   "outputs": [],
   "source": [
    "# Plot\n",
    "plt.figure(figsize=[25,6])\n",
    "xx = models['Model']\n",
    "plt.tick_params(labelsize=14)\n",
    "plt.plot(xx, models['r2_train'], label = 'r2_train')\n",
    "plt.plot(xx, models['r2_test'], label = 'r2_test')\n",
    "plt.legend()\n",
    "plt.title('R2-criterion for 15 popular models for train and test datasets')\n",
    "plt.xlabel('Models')\n",
    "plt.ylabel('R2-criterion, %')\n",
    "plt.xticks(xx, rotation='vertical')\n",
    "plt.savefig('graph.png')\n",
    "plt.show()"
   ]
  },
  {
   "cell_type": "code",
   "execution_count": null,
   "metadata": {},
   "outputs": [],
   "source": [
    "# Plot\n",
    "plt.figure(figsize=[25,6])\n",
    "xx = models['Model']\n",
    "plt.tick_params(labelsize=14)\n",
    "plt.plot(xx, models['d_train'], label = 'd_train')\n",
    "plt.plot(xx, models['d_test'], label = 'd_test')\n",
    "plt.legend()\n",
    "plt.title('Relative errors for 15 popular models for train and test datasets')\n",
    "plt.xlabel('Models')\n",
    "plt.ylabel('Relative error, %')\n",
    "plt.xticks(xx, rotation='vertical')\n",
    "plt.savefig('graph.png')\n",
    "plt.show()"
   ]
  },
  {
   "cell_type": "code",
   "execution_count": null,
   "metadata": {},
   "outputs": [],
   "source": [
    "# Plot\n",
    "plt.figure(figsize=[25,6])\n",
    "xx = models['Model']\n",
    "plt.tick_params(labelsize=14)\n",
    "plt.plot(xx, models['rmse_train'], label = 'rmse_train')\n",
    "plt.plot(xx, models['rmse_test'], label = 'rmse_test')\n",
    "plt.legend()\n",
    "plt.title('RMSE for 15 popular models for train and test datasets')\n",
    "plt.xlabel('Models')\n",
    "plt.ylabel('RMSE, %')\n",
    "plt.xticks(xx, rotation='vertical')\n",
    "plt.savefig('graph.png')\n",
    "plt.show()"
   ]
  },
  {
   "cell_type": "markdown",
   "metadata": {},
   "source": [
    "Thus, the best models by the RMSE are Linear Regression and Ridge Regressor."
   ]
  },
  {
   "cell_type": "markdown",
   "metadata": {},
   "source": [
    "## 7. Prediction <a class=\"anchor\" id=\"7\"></a>\n",
    "\n",
    "[Back to Table of Contents](#0.1)"
   ]
  },
  {
   "cell_type": "code",
   "execution_count": null,
   "metadata": {},
   "outputs": [],
   "source": [
    "test0.info()"
   ]
  },
  {
   "cell_type": "code",
   "execution_count": null,
   "metadata": {},
   "outputs": [],
   "source": [
    "test0.head(3)"
   ]
  },
  {
   "cell_type": "code",
   "execution_count": null,
   "metadata": {},
   "outputs": [],
   "source": [
    "#For models from Sklearn\n",
    "testn = pd.DataFrame(scaler.transform(test0), columns = test0.columns)"
   ]
  },
  {
   "cell_type": "code",
   "execution_count": null,
   "metadata": {},
   "outputs": [],
   "source": [
    "#Linear Regression model for basic train\n",
    "linreg.fit(train0, train_target0)\n",
    "linreg.predict(testn)[:3]"
   ]
  },
  {
   "cell_type": "code",
   "execution_count": null,
   "metadata": {},
   "outputs": [],
   "source": [
    "#Ridge Regressor model for basic train\n",
    "ridge.fit(train0, train_target0)\n",
    "ridge.predict(testn)[:3]"
   ]
  },
  {
   "cell_type": "markdown",
   "metadata": {},
   "source": [
    "[Go to Top](#0)"
   ]
  },
  {
   "cell_type": "code",
   "execution_count": null,
   "metadata": {},
   "outputs": [],
   "source": []
  },
  {
   "cell_type": "code",
   "execution_count": null,
   "metadata": {},
   "outputs": [],
   "source": []
  }
 ],
 "metadata": {
  "kernelspec": {
   "display_name": "Python 3 (ipykernel)",
   "language": "python",
   "name": "python3"
  },
  "language_info": {
   "codemirror_mode": {
    "name": "ipython",
    "version": 3
   },
   "file_extension": ".py",
   "mimetype": "text/x-python",
   "name": "python",
   "nbconvert_exporter": "python",
   "pygments_lexer": "ipython3",
   "version": "3.10.16"
  }
 },
 "nbformat": 4,
 "nbformat_minor": 4
}
