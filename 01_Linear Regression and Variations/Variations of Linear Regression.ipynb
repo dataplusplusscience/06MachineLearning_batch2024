{
 "cells": [
  {
   "cell_type": "markdown",
   "id": "06471e78-02f4-4df6-89c3-b77985baadc1",
   "metadata": {},
   "source": [
    "## Regression Analysis"
   ]
  },
  {
   "cell_type": "markdown",
   "id": "b2034044-11e9-448f-af99-c05e2b41e812",
   "metadata": {},
   "source": [
    "Regression Analysis is a statistical process for estimating the relationships between the dependent variables or criterion variables and one or more independent variables or predictors."
   ]
  },
  {
   "cell_type": "markdown",
   "id": "eb091116-40cf-4ddc-94a8-67e4425fbc02",
   "metadata": {},
   "source": [
    "#### Types of Regressions"
   ]
  },
  {
   "cell_type": "markdown",
   "id": "09ec51dc-69f8-464a-8b3b-8012d19e50c5",
   "metadata": {},
   "source": [
    "    Linear Regression\n",
    "    Lasso Regression\n",
    "    ElasticNet Regression\n",
    "    Ridge Regression\n",
    "    \n",
    "    Logistic Regression -> Classification\n",
    "    \n",
    "    Polynomial Regression -> Non-linear Relationship -> polynomial\n",
    "    Poisson Regression -> y -> multiple class values\n",
    "    Stepwise Regression -> \n",
    "    Quantile Regression -> \n",
    "    Huber regression -> Robust regression -> Outlier treatment"
   ]
  },
  {
   "cell_type": "markdown",
   "id": "f433bbce-7e9e-4bfd-b8c9-8f2c7982156f",
   "metadata": {},
   "source": [
    "##### 1. Linear Regression\n",
    "   \n",
    "Linear regression is used to fit a regression model that describes the relationship between one or more predictor variables and a numeric response variable.\n",
    "\n",
    "Use when:\n",
    "\n",
    "- The relationship between the predictor variable(s) and the response variable is reasonably linear.\n",
    "- The response variable is a continuous numeric variable.\n",
    "\n",
    "Example: A retail company may fit a linear regression model using advertising spend to predict total sales.\n",
    "\n",
    "Since the relationship between these two variables is likely linear (more money spent on advertising generally leads to an increase in sales) and the response variable (total sales) is a continuous numeric variable, it makes sense to fit a linear regression model."
   ]
  },
  {
   "cell_type": "markdown",
   "id": "bc4d2a33-ff88-47e2-ad41-d5b71349b215",
   "metadata": {},
   "source": [
    "![Linear Regression](Linear-Regression.jpg)"
   ]
  },
  {
   "cell_type": "markdown",
   "id": "a542b4f4-8e5b-498f-9422-afcb79adef31",
   "metadata": {},
   "source": [
    "##### 2. Logistic Regression\n",
    "\n",
    "Logistic regression is used to fit a regression model that describes the relationship between one or more predictor variables and a binary response variable.\n",
    "\n",
    "Use when:\n",
    "\n",
    "- The response variable is binary – it can only take on two values.\n",
    "    \n",
    "Example: Medical researchers may fit a logistic regression model using exercise and smoking habits to predict the likelihood that an individual experiences a heart attack.\n",
    "\n",
    "Since the response variable (heart attack) is binary – an individual either does or does not have a heart attack – it’s appropriate to fit a logistic regression model."
   ]
  },
  {
   "cell_type": "markdown",
   "id": "06ed31ff-5440-4941-b733-082d929ce6e6",
   "metadata": {},
   "source": [
    "![Logistic Regression](logistic_regression.png)"
   ]
  },
  {
   "cell_type": "markdown",
   "id": "d94947ee-5976-4852-a3b6-7053dd1d4fe7",
   "metadata": {},
   "source": [
    "Ref: https://www.statology.org/logistic-regression/"
   ]
  },
  {
   "cell_type": "markdown",
   "id": "903c04f6-82d7-4d17-9c44-11b6b9490217",
   "metadata": {},
   "source": [
    "##### 3. Polynomial Regression\n",
    "\n",
    "Polynomial regression is used to fit a regression model that describes the relationship between one or more predictor variables and a numeric response variable.\n",
    "\n",
    "Use when:\n",
    "\n",
    "- The relationship between the predictor variable(s) and the response variable is non-linear.\n",
    "- The response variable is a continuous numeric variable.\n",
    "    \n",
    "Example: Psychologists may fit a polynomial regression using ‘hours worked’ to predict ‘overall happiness’ of employees in a certain industry.\n",
    "\n",
    "The relationship between these two variables is likely to be nonlinear. That is, as hours increases an individual may report higher happiness but beyond a certain number of hours worked, overall happiness is likely to decrease. Since this relationship between the predictor variable and response variable is nonlinear, it makes sense to fit a polynomial regression model."
   ]
  },
  {
   "cell_type": "markdown",
   "id": "03daa231-bb9b-4150-a0b1-7eaea7e7d638",
   "metadata": {},
   "source": [
    "![Polynomial Regression](polynomial-regression.jpg)"
   ]
  },
  {
   "cell_type": "markdown",
   "id": "1bcff3a6-468f-4063-ae82-7a521c432ac5",
   "metadata": {},
   "source": [
    "Ref: https://www.statology.org/polynomial-regression/"
   ]
  },
  {
   "cell_type": "markdown",
   "id": "8e3ea81d-7c8c-44cc-be37-491fe34388ba",
   "metadata": {},
   "source": [
    "##### 4. Ridge Regression\n",
    "   \n",
    "Ridge regression is used to fit a regression model that describes the relationship between one or more predictor variables and a numeric response variable.\n",
    "\n",
    "Use when:\n",
    "\n",
    "- The predictor variables are highly correlated and multicollinearity becomes a problem.\n",
    "- The response variable is a continuous numeric variable.\n",
    "    \n",
    "Example: A basketball data scientist may fit a ridge regression model using predictor variables like points, assists, and rebounds to predict player salary.\n",
    "\n",
    "The predictor variables are likely to be highly correlated since better players tend to get more points, assists, and rebounds. Thus, multicollinearity is likely to be a problem so we can minimize this problem by using ridge regression."
   ]
  },
  {
   "cell_type": "markdown",
   "id": "3ca8f1b4-1b58-4702-b60b-cf5b284ae511",
   "metadata": {},
   "source": [
    "![Ridge Regression](Lasso-Ridge-Elastic-Regression.png)"
   ]
  },
  {
   "cell_type": "markdown",
   "id": "481e2232-c019-46f5-8326-ccd72a98cf04",
   "metadata": {},
   "source": [
    "Ref: https://www.ejable.com/tech-corner/ai-machine-learning-and-deep-learning/logistic-and-linear-regression/#1_L2_%E2%80%93_Ridge_Regression"
   ]
  },
  {
   "cell_type": "markdown",
   "id": "c0b182f1-bcab-4b63-a904-4c5c271c417a",
   "metadata": {},
   "source": [
    "Ref: https://www.statology.org/ridge-regression/"
   ]
  },
  {
   "cell_type": "markdown",
   "id": "9fc4953c-0249-4b0c-aea4-9ef981441a78",
   "metadata": {},
   "source": [
    "##### 5. Lasso Regression\n",
    "\n",
    "Lasso regression is very similar to ridge regression and is used to fit a regression model that describes the relationship between one or more predictor variables and a numeric response variable.\n",
    "\n",
    "Lasso Regression, short for **Least Absolute Shrinkage and Selection Operator** Regression, is a type of linear regression that includes a penalty term to enforce sparsity. The penalty term is the L1 norm of the coefficients, which leads to the shrinking of some coefficients to zero, effectively performing variable selection.\n",
    "\n",
    "Use when:\n",
    "\n",
    "- High Dimensionality: When you have a large number of features, Lasso can help reduce the model complexity by selecting only the most important features.\n",
    "\n",
    "- Feature Selection: When you want to identify and keep only the relevant features while discarding the less important ones.\n",
    "\n",
    "- Multicollinearity: When predictor variables are highly correlated, Lasso can help reduce the impact of multicollinearity by shrinking coefficients.\n",
    "\n",
    "- Overfitting: When you aim to prevent overfitting by adding a regularization term that penalizes large coefficients.\n",
    "\n",
    "Example: An economist may fit a lasso regression model using predictor variables like total years of schooling, hours worked, and cost of living to predict household income.\n",
    "\n",
    "The predictor variables are likely to be highly correlated since individuals who receive more schooling also tend to live in cities with higher costs of living and work more hours. Thus, multicollinearity is likely to be a problem so we can minimize this problem by using lasso regression.\n",
    "\n",
    "Note that Lasso regression and ridge regression are quite similar. When multicollinearity is a problem in a dataset, i’s recommended to fit both a Lasso and Ridge regression model to see which model performs best."
   ]
  },
  {
   "cell_type": "markdown",
   "id": "cfb89b09-8528-476b-a8ec-7f552bdb72e1",
   "metadata": {},
   "source": [
    "Ref: https://www.ejable.com/tech-corner/ai-machine-learning-and-deep-learning/logistic-and-linear-regression/#1_L2_%E2%80%93_Ridge_Regression"
   ]
  },
  {
   "cell_type": "markdown",
   "id": "643c2ef4-e776-4ce8-a143-b64c0b59ef71",
   "metadata": {},
   "source": [
    "Ref: https://www.statology.org/lasso-regression/"
   ]
  },
  {
   "cell_type": "markdown",
   "id": "4b670b44-4eec-489a-8e91-d4c12fcd08d5",
   "metadata": {},
   "source": [
    "##### 6. Elastic Regression\n",
    "\n",
    "Elastic Net Regression is a regularized regression method that combines both L1 (Lasso) and L2 (Ridge) penalties. It's particularly useful when dealing with multicollinearity (high correlation between predictor variables) and when you have more predictors than observations.\n",
    "\n",
    "When to Use Elastic Net Regression\n",
    "- Multicollinearity: When predictor variables are highly correlated, Elastic Net can help by combining the strengths of Lasso and Ridge regression.\n",
    "- High Dimensionality: When you have a large number of features (p) compared to the number of observations (n), Elastic Net can help in feature selection and regularization.\n",
    "- Model Stability: When you want to ensure that the model is not overly sensitive to small changes in the data.\n",
    "\n",
    "Example: \n",
    "\n",
    "Let's say you're working on a dataset predicting house prices based on various features like square footage, number of bedrooms, number of bathrooms, and location. You have a large number of features, and some of them are highly correlated (e.g., square footage and number of bedrooms)."
   ]
  },
  {
   "cell_type": "code",
   "execution_count": 30,
   "id": "28fe565e-dd6a-4983-910a-4e893a2ddc24",
   "metadata": {},
   "outputs": [
    {
     "name": "stdout",
     "output_type": "stream",
     "text": [
      "Mean Squared Error: 593119249.8085248\n",
      "Coefficients: [   57.32818263 15301.42389562 15301.43169413 15301.44217954]\n",
      "Intercept: 123276.72001201351\n"
     ]
    }
   ],
   "source": [
    "import pandas as pd \n",
    "from sklearn.model_selection import train_test_split \n",
    "from sklearn.linear_model import ( ElasticNet, Lasso, Ridge, PoissonRegressor, \n",
    "                                    LogisticRegression, LinearRegression, QuantileRegressor )\n",
    "from sklearn.metrics import mean_squared_error \n",
    "\n",
    "# Sample data \n",
    "data = { 'Square_Footage': [1500, 2000, 2500, 3000, 3500], \n",
    "        'Bedrooms': [3, 4, 3, 5, 4], \n",
    "        'Bathrooms': [2, 3, 2, 4, 3], \n",
    "        'Location': [1, 2, 1, 3, 2], \n",
    "        'Price': [300000, 400000, 350000, 500000, 450000] \n",
    "       } \n",
    "\n",
    "df = pd.DataFrame(data) \n",
    "\n",
    "# Define features and target \n",
    "\n",
    "X = df[['Square_Footage', 'Bedrooms', 'Bathrooms', 'Location']] \n",
    "y = df['Price'] \n",
    "\n",
    "# Split the data into training and testing sets \n",
    "X_train, X_test, y_train, y_test = train_test_split(X, y, test_size=0.2, random_state=42) \n",
    "\n",
    "# Initialize and fit the Elastic Net model \n",
    "elastic_net = ElasticNet(alpha=1.0, l1_ratio=0.5) \n",
    "elastic_net.fit(X_train, y_train) \n",
    "\n",
    "# Make predictions \n",
    "y_pred = elastic_net.predict(X_test) \n",
    "\n",
    "# Evaluate the model \n",
    "mse = mean_squared_error(y_test, y_pred) \n",
    "print(f'Mean Squared Error: {mse}') \n",
    "\n",
    "# Coefficients \n",
    "print(f'Coefficients: {elastic_net.coef_}') \n",
    "print(f'Intercept: {elastic_net.intercept_}')"
   ]
  },
  {
   "cell_type": "markdown",
   "id": "bd3fce5a-4909-4904-858d-fda707e560b2",
   "metadata": {},
   "source": [
    "In this example:\n",
    "\n",
    "- alpha is the regularization strength.\n",
    "- l1_ratio is the mix of L1 and L2 penalties (0 = Ridge, 1 = Lasso).\n",
    "\n",
    "By adjusting these parameters, you can control the balance between feature selection (Lasso) and regularization (Ridge), making Elastic Net a versatile and powerful tool for regression tasks."
   ]
  },
  {
   "cell_type": "markdown",
   "id": "88254e88-6665-4763-a971-b54e057bae72",
   "metadata": {},
   "source": [
    "##### 7. Poisson Regression\n",
    "Poisson Regression is a type of generalized linear model (GLM) that is used for modeling count data and contingency tables. It assumes that the dependent variable follows a Poisson distribution, which is suitable for count data where the values are non-negative integers (0, 1, 2, ...).\n",
    "\n",
    "When to Use Poisson Regression:\n",
    "\n",
    "- Count Data: When the dependent variable represents counts, such as the number of events occurring in a fixed period of time (e.g., number of car accidents per week, number of customers visiting a store per day).\n",
    "\n",
    "- Event Rate Data: When you want to model the rate of occurrence of an event, especially when the exposure time varies across observations (e.g., number of infections per 100 person-years).\n",
    "\n",
    "- Non-Negative Outcomes: When the outcome variable cannot take negative values and the data is over-dispersed (variance is greater than the mean)..\n",
    " \n",
    "Example: A university may use Poisson regression to examine the number of students who graduate from a specific college program based on their GPA upon entering the program and their gender.\n",
    "\n",
    "In this case, since the response variable consists of count data (we can “count” the number of students who graduate – 200, 250, 300, 413, etc.) it’s appropriate to use Poisson regression."
   ]
  },
  {
   "cell_type": "markdown",
   "id": "23ec9083-c349-46e5-8e66-5bbc12591520",
   "metadata": {},
   "source": [
    "Ref: https://www.statology.org/poisson-regression/"
   ]
  },
  {
   "cell_type": "markdown",
   "id": "7efbce85-fadc-4c60-b015-3ee773379397",
   "metadata": {},
   "source": [
    "![Poisson Regression](poissonRegression.jpg)"
   ]
  },
  {
   "cell_type": "markdown",
   "id": "58daea93-e37b-4185-9ac1-f64a2ba4f850",
   "metadata": {},
   "source": [
    "Example\n",
    "\n",
    "Suppose you are analyzing the number of insurance claims filed by policyholders in a given year. The dataset includes features like the number of years the policyholder has been insured, age of the policyholder, and whether they have had prior claims.\n",
    "\n",
    "Here's how you can apply Poisson Regression in Python using the statsmodels library:"
   ]
  },
  {
   "cell_type": "code",
   "execution_count": 31,
   "id": "53bb13a8-3d9c-40fa-8f79-0955ea80c976",
   "metadata": {},
   "outputs": [
    {
     "name": "stdout",
     "output_type": "stream",
     "text": [
      "Optimization terminated successfully.\n",
      "         Current function value: 1.316703\n",
      "         Iterations 6\n",
      "                          Poisson Regression Results                          \n",
      "==============================================================================\n",
      "Dep. Variable:                 claims   No. Observations:                    5\n",
      "Model:                        Poisson   Df Residuals:                        1\n",
      "Method:                           MLE   Df Model:                            3\n",
      "Date:                Sun, 15 Dec 2024   Pseudo R-squ.:                  0.2460\n",
      "Time:                        13:51:19   Log-Likelihood:                -6.5835\n",
      "converged:                       True   LL-Null:                       -8.7315\n",
      "Covariance Type:            nonrobust   LLR p-value:                    0.2312\n",
      "=================================================================================\n",
      "                    coef    std err          z      P>|z|      [0.025      0.975]\n",
      "---------------------------------------------------------------------------------\n",
      "Intercept        -3.6580      4.393     -0.833      0.405     -12.268       4.952\n",
      "years_insured    -0.8898      1.777     -0.501      0.616      -4.372       2.592\n",
      "age               0.1947      0.233      0.835      0.404      -0.262       0.652\n",
      "prior_claims     -2.3356      2.429     -0.961      0.336      -7.097       2.426\n",
      "=================================================================================\n",
      "   claims  years_insured  age  prior_claims  predicted_claims\n",
      "0       2              1   25             0          1.377342\n",
      "1       3              2   45             1          2.688671\n",
      "2       0              1   35             1          0.933987\n",
      "3       1              2   50             2          0.688671\n",
      "4       4              3   40             0          4.311329\n"
     ]
    }
   ],
   "source": [
    "import pandas as pd\n",
    "import statsmodels.api as sm\n",
    "import statsmodels.formula.api as smf\n",
    "\n",
    "# Sample data\n",
    "data = {\n",
    "    'claims': [2, 3, 0, 1, 4],\n",
    "    'years_insured': [1, 2, 1, 2, 3],\n",
    "    'age': [25, 45, 35, 50, 40],\n",
    "    'prior_claims': [0, 1, 1, 2, 0]\n",
    "}\n",
    "df = pd.DataFrame(data)\n",
    "\n",
    "# Define the model formula\n",
    "formula = 'claims ~ years_insured + age + prior_claims'\n",
    "\n",
    "# Fit the Poisson Regression model\n",
    "poisson_model = smf.poisson(formula=formula, data=df).fit()\n",
    "\n",
    "# Print the summary of the model\n",
    "print(poisson_model.summary())\n",
    "\n",
    "# Predictions\n",
    "df['predicted_claims'] = poisson_model.predict(df)\n",
    "print(df)\n"
   ]
  },
  {
   "cell_type": "markdown",
   "id": "37bbd743-d854-45c0-8b5d-167edd41d6d3",
   "metadata": {},
   "source": [
    "In this example:\n",
    "\n",
    "- claims is the dependent variable representing the number of insurance claims.\n",
    "\n",
    "- years_insured, age, and prior_claims are the independent variables.\n",
    "\n",
    "The Poisson Regression model is fitted to the data, and the summary of the model provides insights into the significance of the predictors and model performance.\n",
    "\n",
    "Predictions are made for the number of claims based on the fitted model."
   ]
  },
  {
   "cell_type": "code",
   "execution_count": 32,
   "id": "7d7e47c6-f582-4cf2-8b02-0a211ba233dd",
   "metadata": {},
   "outputs": [
    {
     "name": "stdout",
     "output_type": "stream",
     "text": [
      "Mean Squared Error: 2.258324520521337\n",
      "Coefficients: [ 0.39886213 -0.00998451 -0.30337091]\n",
      "Intercept: 0.3585647232969494\n",
      "[2.]\n"
     ]
    }
   ],
   "source": [
    "import pandas as pd \n",
    "from sklearn.model_selection import train_test_split \n",
    "from sklearn.linear_model import ( ElasticNet, Lasso, Ridge, PoissonRegressor, \n",
    "                                    LogisticRegression, LinearRegression, QuantileRegressor )\n",
    "from sklearn.metrics import mean_squared_error \n",
    "\n",
    "# Sample data\n",
    "data = {\n",
    "    'claims': [2, 3, 0, 1, 4],\n",
    "    'years_insured': [1, 2, 1, 2, 3],\n",
    "    'age': [25, 45, 35, 50, 40],\n",
    "    'prior_claims': [0, 1, 1, 2, 0]\n",
    "}\n",
    "df = pd.DataFrame(data)\n",
    "\n",
    "# Define features and target \n",
    "\n",
    "X = df[['years_insured', 'age', 'prior_claims']] \n",
    "y = df['claims'] \n",
    "\n",
    "# Split the data into training and testing sets \n",
    "X_train, X_test, y_train, y_test = train_test_split(X, y, test_size=0.2, random_state=42) \n",
    "\n",
    "# Initialize and fit the Elastic Net model \n",
    "poisson_reg = PoissonRegressor() \n",
    "poisson_reg.fit(X_train, y_train) \n",
    "\n",
    "# Make predictions \n",
    "y_pred = poisson_reg.predict(X_test) \n",
    "\n",
    "# Evaluate the model \n",
    "mse = mean_squared_error(y_test, y_pred) \n",
    "print(f'Mean Squared Error: {mse}') \n",
    "\n",
    "# Coefficients \n",
    "print(f'Coefficients: {poisson_reg.coef_}') \n",
    "print(f'Intercept: {poisson_reg.intercept_}')\n",
    "\n",
    "print(np.ceil(y_pred))"
   ]
  },
  {
   "cell_type": "markdown",
   "id": "d7a59e1a-a102-47c4-bd6a-ff05d8f5126a",
   "metadata": {},
   "source": [
    "##### 8. Quantile Regression"
   ]
  },
  {
   "cell_type": "markdown",
   "id": "75a9da7b-59f3-4fee-a4d6-e55f16630614",
   "metadata": {},
   "source": [
    "Quantile Regression is a type of regression analysis used to estimate the conditional quantiles of a response variable's distribution. Unlike traditional linear regression which estimates the mean of the dependent variable, quantile regression aims to estimate the median or other quantiles (e.g., 25th, 75th percentiles) of the dependent variable, providing a more comprehensive view of the relationship between variables.\n",
    "\n",
    "When to Use Quantile Regression:\n",
    "\n",
    "- Non-Normal Distributions: When the data does not meet the assumptions of normality and homoscedasticity.\n",
    "\n",
    "- Heteroscedasticity: When the variability of the response variable changes across levels of an independent variable.\n",
    "\n",
    "- Robustness: When the data contains outliers or is skewed, quantile regression provides a more robust estimation of the central tendency.\n",
    "\n",
    "Detailed Analysis: When you want to understand the relationship between variables at different points in the distribution of the dependent variable (e.g., understanding how factors affect the lower, median, and upper quantiles of income).\n",
    "\n",
    "Example:\n",
    "\n",
    "Suppose you have a dataset of test scores from students along with their study hours, and you want to understand how study hours impact different quantiles of the test scores distribution (e.g., the 25th, 50th, and 75th percentiles)."
   ]
  },
  {
   "cell_type": "markdown",
   "id": "47b20cf9-32d3-4dee-bb5c-a7aa4427d155",
   "metadata": {},
   "source": [
    "Ref: https://www.statology.org/quantile-regression-in-r/ and https://freedium.cfd/https://towardsdatascience.com/quantile-loss-and-quantile-regression-b0689c13f54d"
   ]
  },
  {
   "cell_type": "code",
   "execution_count": 33,
   "id": "fa7e9275-6114-4284-b95a-1dfc55a95adf",
   "metadata": {},
   "outputs": [
    {
     "name": "stdout",
     "output_type": "stream",
     "text": [
      "Quantile 0.25\n",
      "                         QuantReg Regression Results                          \n",
      "==============================================================================\n",
      "Dep. Variable:             test_score   Pseudo R-squared:               0.9377\n",
      "Model:                       QuantReg   Bandwidth:                         nan\n",
      "Method:                 Least Squares   Sparsity:                          nan\n",
      "Date:                Sun, 15 Dec 2024   No. Observations:                   10\n",
      "Time:                        13:51:19   Df Residuals:                        8\n",
      "                                        Df Model:                            1\n",
      "===============================================================================\n",
      "                  coef    std err          t      P>|t|      [0.025      0.975]\n",
      "-------------------------------------------------------------------------------\n",
      "Intercept      51.7143        nan        nan        nan         nan         nan\n",
      "study_hours     3.2857        nan        nan        nan         nan         nan\n",
      "===============================================================================\n",
      "Quantile 0.5\n",
      "                         QuantReg Regression Results                          \n",
      "==============================================================================\n",
      "Dep. Variable:             test_score   Pseudo R-squared:               0.9406\n",
      "Model:                       QuantReg   Bandwidth:                       2.160\n",
      "Method:                 Least Squares   Sparsity:                        3.137\n",
      "Date:                Sun, 15 Dec 2024   No. Observations:                   10\n",
      "Time:                        13:51:19   Df Residuals:                        8\n",
      "                                        Df Model:                            1\n",
      "===============================================================================\n",
      "                  coef    std err          t      P>|t|      [0.025      0.975]\n",
      "-------------------------------------------------------------------------------\n",
      "Intercept      52.5000      1.071     49.002      0.000      50.029      54.971\n",
      "study_hours     3.2500      0.173     18.822      0.000       2.852       3.648\n",
      "===============================================================================\n",
      "Quantile 0.75\n",
      "                         QuantReg Regression Results                          \n",
      "==============================================================================\n",
      "Dep. Variable:             test_score   Pseudo R-squared:               0.9452\n",
      "Model:                       QuantReg   Bandwidth:                         nan\n",
      "Method:                 Least Squares   Sparsity:                          nan\n",
      "Date:                Sun, 15 Dec 2024   No. Observations:                   10\n",
      "Time:                        13:51:19   Df Residuals:                        8\n",
      "                                        Df Model:                            1\n",
      "===============================================================================\n",
      "                  coef    std err          t      P>|t|      [0.025      0.975]\n",
      "-------------------------------------------------------------------------------\n",
      "Intercept      53.2000        nan        nan        nan         nan         nan\n",
      "study_hours     3.2000        nan        nan        nan         nan         nan\n",
      "===============================================================================\n",
      "   study_hours  test_score  predicted_median\n",
      "0            1          55         55.749999\n",
      "1            2          59         58.999999\n",
      "2            3          63         62.249999\n",
      "3            4          66         65.500000\n",
      "4            5          68         68.750000\n",
      "5            6          72         72.000000\n",
      "6            7          74         75.250000\n",
      "7            8          78         78.500000\n",
      "8            9          82         81.750000\n",
      "9           10          85         85.000000\n"
     ]
    }
   ],
   "source": [
    "import pandas as pd\n",
    "import statsmodels.formula.api as smf\n",
    "\n",
    "# Sample data\n",
    "data = {\n",
    "    'study_hours': [1, 2, 3, 4, 5, 6, 7, 8, 9, 10],\n",
    "    'test_score': [55, 59, 63, 66, 68, 72, 74, 78, 82, 85]\n",
    "}\n",
    "df = pd.DataFrame(data)\n",
    "\n",
    "# Define the quantiles\n",
    "quantiles = [0.25, 0.5, 0.75]\n",
    "\n",
    "# Perform Quantile Regression for each quantile\n",
    "models = [smf.quantreg(f'test_score ~ study_hours', df).fit(q=q) for q in quantiles]\n",
    "\n",
    "# Print the summaries\n",
    "for i, model in enumerate(models):\n",
    "    print(f'Quantile {quantiles[i]}')\n",
    "    print(model.summary())\n",
    "\n",
    "# Make predictions (example for the median quantile)\n",
    "predicted_median = models[1].predict(df['study_hours'])\n",
    "df['predicted_median'] = predicted_median\n",
    "print(df)\n"
   ]
  },
  {
   "cell_type": "markdown",
   "id": "3a1d00be-54ac-47c3-aacc-1d3f7afcc61c",
   "metadata": {},
   "source": [
    "In this example:\n",
    "\n",
    "- study_hours is the independent variable.\n",
    "- test_score is the dependent variable.\n",
    "\n",
    "Quantile regression is performed for the 25th, 50th (median), and 75th percentiles.\n",
    "\n",
    "The summaries provide insights into how study hours impact different quantiles of test scores.\n",
    "Predictions are made for the median quantile (50th percentile).\n",
    "\n",
    "Quantile Regression allows you to understand the impact of independent variables across different points in the distribution of the dependent variable"
   ]
  },
  {
   "cell_type": "markdown",
   "id": "c764916e-5d94-4299-8ff8-8eaac33422be",
   "metadata": {},
   "source": [
    "![Quantile Regression](Quantile-regression.png)"
   ]
  },
  {
   "cell_type": "markdown",
   "id": "3dd90bf6-d677-4acd-b941-408678be12fb",
   "metadata": {},
   "source": [
    "##### 9. Stepwise Regression"
   ]
  },
  {
   "cell_type": "markdown",
   "id": "6e30999d-f4ff-49e5-9fad-ef59a2a87ef0",
   "metadata": {},
   "source": [
    "Stepwise Regression is a method of fitting regression models in which the choice of predictive variables is carried out by an automatic procedure. The procedure can involve either adding or removing potential variables one-by-one, depending on a chosen criterion like the Akaike Information Criterion (AIC), Bayesian Information Criterion (BIC), or R-squared.\n",
    "\n",
    "Types of Stepwise Regression:\n",
    "\n",
    "- Forward Selection: Starts with no variables in the model, and adds one variable at a time based on the chosen criterion until no significant improvement can be made.\n",
    "\n",
    "- Backward Elimination: Starts with all candidate variables, and removes the least significant variable one at a time until no further variables can be removed without worsening the model.\n",
    "\n",
    "- Bidirectional Elimination (Stepwise Selection): A combination of forward selection and backward elimination. It adds and removes variables at each step based on the chosen criterion.\n",
    "\n",
    "When to Use Stepwise Regression:\n",
    "\n",
    "- Large Set of Variables: When you have a large number of potential predictor variables and want to identify the most important ones.\n",
    "\n",
    "- Model Simplification: When you aim to simplify the model by selecting a subset of variables that provide a good fit.\n",
    "\n",
    "- Preliminary Model Building: When you need to quickly identify significant predictors and get an initial model which can be refined later."
   ]
  },
  {
   "cell_type": "markdown",
   "id": "933a5734-ab9a-4f96-8ba3-33ca2ca0edaa",
   "metadata": {},
   "source": [
    "Example:\n",
    "\n",
    "Suppose you have a dataset predicting Diabetes based on various features like 'age', 'sex', 'bmi', 'bp' etc, then we can apply stepwise regression as below:"
   ]
  },
  {
   "cell_type": "code",
   "execution_count": 3,
   "id": "410b0e82-8d9f-41f4-b8f3-aa88b066ffef",
   "metadata": {},
   "outputs": [],
   "source": [
    "from sklearn import linear_model"
   ]
  },
  {
   "cell_type": "code",
   "execution_count": 4,
   "id": "71b6a0d6-9c3c-4e33-852d-c9d318c66677",
   "metadata": {},
   "outputs": [
    {
     "data": {
      "text/plain": [
       "['ARDRegression',\n",
       " 'BayesianRidge',\n",
       " 'ElasticNet',\n",
       " 'ElasticNetCV',\n",
       " 'GammaRegressor',\n",
       " 'Hinge',\n",
       " 'Huber',\n",
       " 'HuberRegressor',\n",
       " 'Lars',\n",
       " 'LarsCV',\n",
       " 'Lasso',\n",
       " 'LassoCV',\n",
       " 'LassoLars',\n",
       " 'LassoLarsCV',\n",
       " 'LassoLarsIC',\n",
       " 'LinearRegression',\n",
       " 'Log',\n",
       " 'LogisticRegression',\n",
       " 'LogisticRegressionCV',\n",
       " 'ModifiedHuber',\n",
       " 'MultiTaskElasticNet',\n",
       " 'MultiTaskElasticNetCV',\n",
       " 'MultiTaskLasso',\n",
       " 'MultiTaskLassoCV',\n",
       " 'OrthogonalMatchingPursuit',\n",
       " 'OrthogonalMatchingPursuitCV',\n",
       " 'PassiveAggressiveClassifier',\n",
       " 'PassiveAggressiveRegressor',\n",
       " 'Perceptron',\n",
       " 'PoissonRegressor',\n",
       " 'QuantileRegressor',\n",
       " 'RANSACRegressor',\n",
       " 'Ridge',\n",
       " 'RidgeCV',\n",
       " 'RidgeClassifier',\n",
       " 'RidgeClassifierCV',\n",
       " 'SGDClassifier',\n",
       " 'SGDOneClassSVM',\n",
       " 'SGDRegressor',\n",
       " 'SquaredLoss',\n",
       " 'TheilSenRegressor',\n",
       " 'TweedieRegressor',\n",
       " '__all__',\n",
       " '__builtins__',\n",
       " '__cached__',\n",
       " '__doc__',\n",
       " '__file__',\n",
       " '__loader__',\n",
       " '__name__',\n",
       " '__package__',\n",
       " '__path__',\n",
       " '__spec__',\n",
       " '_base',\n",
       " '_bayes',\n",
       " '_cd_fast',\n",
       " '_coordinate_descent',\n",
       " '_glm',\n",
       " '_huber',\n",
       " '_least_angle',\n",
       " '_linear_loss',\n",
       " '_logistic',\n",
       " '_omp',\n",
       " '_passive_aggressive',\n",
       " '_perceptron',\n",
       " '_quantile',\n",
       " '_ransac',\n",
       " '_ridge',\n",
       " '_sag',\n",
       " '_sag_fast',\n",
       " '_sgd_fast',\n",
       " '_stochastic_gradient',\n",
       " '_theil_sen',\n",
       " 'enet_path',\n",
       " 'lars_path',\n",
       " 'lars_path_gram',\n",
       " 'lasso_path',\n",
       " 'orthogonal_mp',\n",
       " 'orthogonal_mp_gram',\n",
       " 'ridge_regression']"
      ]
     },
     "execution_count": 4,
     "metadata": {},
     "output_type": "execute_result"
    }
   ],
   "source": [
    "dir(linear_model)"
   ]
  },
  {
   "cell_type": "code",
   "execution_count": 34,
   "id": "93101e9a-8d70-48cc-b103-03ef8db28d98",
   "metadata": {},
   "outputs": [
    {
     "name": "stdout",
     "output_type": "stream",
     "text": [
      "Features in the dataset:  ['age', 'sex', 'bmi', 'bp', 's1', 's2', 's3', 's4', 's5', 's6']\n",
      "Selected features: ['const', 'bmi', 's5', 'bp', 's1', 'sex', 's2']\n",
      "                            OLS Regression Results                            \n",
      "==============================================================================\n",
      "Dep. Variable:                 target   R-squared:                       0.515\n",
      "Model:                            OLS   Adj. R-squared:                  0.508\n",
      "Method:                 Least Squares   F-statistic:                     76.95\n",
      "Date:                Sun, 15 Dec 2024   Prob (F-statistic):           3.01e-65\n",
      "Time:                        13:51:19   Log-Likelihood:                -2387.3\n",
      "No. Observations:                 442   AIC:                             4789.\n",
      "Df Residuals:                     435   BIC:                             4817.\n",
      "Df Model:                           6                                         \n",
      "Covariance Type:            nonrobust                                         \n",
      "==============================================================================\n",
      "                 coef    std err          t      P>|t|      [0.025      0.975]\n",
      "------------------------------------------------------------------------------\n",
      "const        152.1335      2.572     59.159      0.000     147.079     157.188\n",
      "bmi          529.8796     65.620      8.075      0.000     400.908     658.852\n",
      "s5           804.1874     80.173     10.031      0.000     646.613     961.762\n",
      "bp           327.2150     62.693      5.219      0.000     203.996     450.434\n",
      "s1          -757.9303    160.435     -4.724      0.000   -1073.254    -442.606\n",
      "sex         -226.5066     59.857     -3.784      0.000    -344.151    -108.863\n",
      "s2           538.5797    146.738      3.670      0.000     250.176     826.983\n",
      "==============================================================================\n",
      "Omnibus:                        1.187   Durbin-Watson:                   2.043\n",
      "Prob(Omnibus):                  0.552   Jarque-Bera (JB):                1.172\n",
      "Skew:                           0.016   Prob(JB):                        0.557\n",
      "Kurtosis:                       2.750   Cond. No.                         85.7\n",
      "==============================================================================\n",
      "\n",
      "Notes:\n",
      "[1] Standard Errors assume that the covariance matrix of the errors is correctly specified.\n"
     ]
    }
   ],
   "source": [
    "import pandas as pd\n",
    "import statsmodels.api as sm\n",
    "from sklearn.datasets import load_diabetes\n",
    "from sklearn.model_selection import train_test_split\n",
    "\n",
    "# Load the Diabetes dataset\n",
    "diabetes = load_diabetes()\n",
    "\n",
    "print(\"Features in the dataset: \", diabetes.feature_names)\n",
    "df = pd.DataFrame(diabetes.data, columns=diabetes.feature_names)\n",
    "df['target'] = diabetes.target\n",
    "\n",
    "# Define features and target\n",
    "X = df.drop(columns=['target'])\n",
    "y = df['target']\n",
    "\n",
    "# Add a constant to the model (intercept)\n",
    "X = sm.add_constant(X)\n",
    "\n",
    "# Stepwise Regression using Forward Selection\n",
    "def forward_selection(X, y, significance_level=0.05):\n",
    "    initial_features = ['const']\n",
    "    remaining_features = list(X.columns)\n",
    "    remaining_features.remove('const')\n",
    "    selected_features = initial_features.copy()\n",
    "    \n",
    "    while remaining_features:\n",
    "        p_values = []\n",
    "        for feature in remaining_features:\n",
    "            selected_features.append(feature)\n",
    "            model = sm.OLS(y, X[selected_features]).fit()\n",
    "            p_values.append((feature, model.pvalues[feature]))\n",
    "            selected_features.remove(feature)\n",
    "        \n",
    "        p_values.sort(key=lambda x: x[1])\n",
    "        best_feature, best_p_value = p_values[0]\n",
    "        \n",
    "        if best_p_value < significance_level:\n",
    "            selected_features.append(best_feature)\n",
    "            remaining_features.remove(best_feature)\n",
    "        else:\n",
    "            break\n",
    "    \n",
    "    return selected_features\n",
    "\n",
    "# Perform forward selection\n",
    "selected_features = forward_selection(X, y)\n",
    "print(f'Selected features: {selected_features}')\n",
    "\n",
    "# Fit the final model\n",
    "final_model = sm.OLS(y, X[selected_features]).fit()\n",
    "print(final_model.summary())\n"
   ]
  },
  {
   "cell_type": "markdown",
   "id": "74ee2b53-63f6-4de9-b8ab-fb159919e832",
   "metadata": {},
   "source": [
    "In this example:\n",
    "\n",
    "Forward selection is used to add significant variables one by one based on the p-values.\n",
    "\n",
    "The final model is fitted using the optimized set of features."
   ]
  },
  {
   "cell_type": "markdown",
   "id": "5a0a1116-6ee1-403e-9c18-98e173be87f5",
   "metadata": {},
   "source": [
    "## Robust or Huber Regression"
   ]
  },
  {
   "cell_type": "markdown",
   "id": "ccb7a5cd-f230-487f-98ca-3c84d16c518d",
   "metadata": {},
   "source": [
    "Huber Regression, also known as Huber loss or Huber estimator, is a type of robust regression method that is used to minimize the effect of outliers in regression models. It combines the features of both ordinary least squares regression and robust regression techniques, providing a balance between the two.\n",
    "\n",
    "When to Use Huber Regression:\n",
    "\n",
    "- Presence of Outliers: When your data contains outliers that can significantly affect the performance of ordinary least squares regression.\n",
    "\n",
    "- Robustness: When you need a regression model that is less sensitive to outliers but not as aggressive as other robust methods like quantile regression.\n",
    "\n",
    "- Moderate Data Contamination: When the data contamination by outliers is moderate and you still want to retain some sensitivity to small deviations in the data"
   ]
  },
  {
   "cell_type": "markdown",
   "id": "d541c4d7-8117-4d1e-befc-53ebd9ce3439",
   "metadata": {},
   "source": [
    "How It Works\n",
    "\n",
    "Huber Regression uses a loss function that is quadratic for small errors and linear for large errors. This means it treats small residuals (errors) like ordinary least squares, while treating large residuals (outliers) with a linear loss, reducing their influence on the model."
   ]
  },
  {
   "cell_type": "markdown",
   "id": "dc7f19f1-adf7-4be5-8c1b-d02cd1fc474d",
   "metadata": {},
   "source": [
    "![Huber loss](huberloss.png)"
   ]
  },
  {
   "cell_type": "markdown",
   "id": "27501bd4-8ead-447f-ad8b-705da0d78964",
   "metadata": {},
   "source": [
    "![Robust Regression](Comparison-of-Robust-Regression-Algorithms-Line-of-Best-Fit.png)"
   ]
  },
  {
   "cell_type": "code",
   "execution_count": 35,
   "id": "879ea939-510b-4375-acc9-e9c3e3d17134",
   "metadata": {},
   "outputs": [
    {
     "name": "stdout",
     "output_type": "stream",
     "text": [
      "Huber Regressor MSE: 420.5710997687439\n",
      "Huber Regressor MAE: 16.41950410212\n",
      "Ridge Regression MSE: 426.2711324274989\n",
      "Ridge Regression MAE: 16.49616267886174\n"
     ]
    },
    {
     "data": {
      "image/png": "[encoded data removed]",
      "text/plain": [
       "<Figure size 640x480 with 1 Axes>"
      ]
     },
     "metadata": {},
     "output_type": "display_data"
    }
   ],
   "source": [
    "# import modules \n",
    "import numpy as np \n",
    "import matplotlib.pyplot as plt \n",
    "from sklearn.datasets import make_regression \n",
    "from sklearn.linear_model import HuberRegressor, Ridge \n",
    "from sklearn.metrics import mean_squared_error, mean_absolute_error \n",
    "\n",
    "# Generate a sample dataset with strong outliers \n",
    "X, y = make_regression(n_samples=500, n_features=1, noise=20, random_state=1) \n",
    "y[y > 220] = 250\n",
    "\n",
    "# Split the data into training and testing sets \n",
    "X_train, X_test = X[:80], X[80:] \n",
    "y_train, y_test = y[:80], y[80:] \n",
    "\n",
    "# Fit a HuberRegressor to the training data \n",
    "huber_regressor = HuberRegressor(epsilon=1.35) \n",
    "huber_regressor.fit(X_train, y_train) \n",
    "\n",
    "# Fit a Ridge Regression to the training data \n",
    "ridge_regressor = Ridge(alpha=0.1) \n",
    "ridge_regressor.fit(X_train, y_train) \n",
    "\n",
    "# Make predictions on the test data \n",
    "y_pred_huber = huber_regressor.predict(X_test) \n",
    "y_pred_ridge = ridge_regressor.predict(X_test) \n",
    "\n",
    "# Calculate the mean squared error and mean absolute error \n",
    "mse_huber = mean_squared_error(y_test, y_pred_huber) \n",
    "mae_huber = mean_absolute_error(y_test, y_pred_huber) \n",
    "mse_ridge = mean_squared_error(y_test, y_pred_ridge) \n",
    "mae_ridge = mean_absolute_error(y_test, y_pred_ridge) \n",
    "\n",
    "print(\"Huber Regressor MSE:\", mse_huber) \n",
    "print(\"Huber Regressor MAE:\", mae_huber) \n",
    "print(\"Ridge Regression MSE:\", mse_ridge) \n",
    "print(\"Ridge Regression MAE:\", mae_ridge) \n",
    "\n",
    "# Plot the actual values and predictions \n",
    "plt.scatter(X_test, y_test, color='black') \n",
    "plt.plot(X_test, y_pred_huber, color='blue', label='Huber Regressor') \n",
    "plt.plot(X_test, y_pred_ridge, color='green', label='Ridge Regression') \n",
    "plt.legend() \n",
    "plt.show() \n"
   ]
  },
  {
   "cell_type": "markdown",
   "id": "09dbeeb6-81f8-4c91-8691-395485c9d064",
   "metadata": {},
   "source": [
    "Ref: https://www.listendata.com/2018/03/regression-analysis.html and \n",
    "\n",
    "https://www.analyticsvidhya.com/blog/2022/01/different-types-of-regression-models/ and \n",
    "\n",
    "https://www.statology.org/types-of-regression/"
   ]
  },
  {
   "cell_type": "code",
   "execution_count": null,
   "id": "7ecc8df0-1e3b-442d-868b-6c1f1b691076",
   "metadata": {},
   "outputs": [],
   "source": []
  }
 ],
 "metadata": {
  "kernelspec": {
   "display_name": "Python 3 (ipykernel)",
   "language": "python",
   "name": "python3"
  },
  "language_info": {
   "codemirror_mode": {
    "name": "ipython",
    "version": 3
   },
   "file_extension": ".py",
   "mimetype": "text/x-python",
   "name": "python",
   "nbconvert_exporter": "python",
   "pygments_lexer": "ipython3",
   "version": "3.10.16"
  }
 },
 "nbformat": 4,
 "nbformat_minor": 5
}
