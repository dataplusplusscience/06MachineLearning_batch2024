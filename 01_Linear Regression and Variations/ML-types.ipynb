{
 "cells": [
  {
   "cell_type": "markdown",
   "id": "d3b227e3-06e4-4e77-82f9-5583d0b3c20e",
   "metadata": {},
   "source": [
    "# Types of ML"
   ]
  },
  {
   "cell_type": "markdown",
   "id": "1a8918ab-a188-451d-8dba-00e267b51f7b",
   "metadata": {},
   "source": [
    "![Types of ML](Types_of_ML.png)"
   ]
  },
  {
   "cell_type": "markdown",
   "id": "fca87b14-5985-4996-a84d-fe32c78c1f70",
   "metadata": {},
   "source": [
    "![Types of ML](Types_of_ML2.png)"
   ]
  },
  {
   "cell_type": "code",
   "execution_count": null,
   "id": "00dc8d8e-c851-4e63-b375-fa5177fa2cb8",
   "metadata": {},
   "outputs": [],
   "source": [
    "Top Regression Algorithms:\n",
    "\n",
    "1. Linear Regression\n",
    "2. Polynomial Regression\n",
    "3. Isotonic Regression\n",
    "4. Stepwise Regression\n",
    "5. Decision Tree Regression\n",
    "6. Support Vector Regression (SVR)\n",
    "7. Lasso Regression (Least Absolute Shrinkage and Selection Operator)\n",
    "8. Ridge Regression\n",
    "9. Elastic Net Regression\n",
    "10. Random Forest Regression\n",
    "11. Gradient Boosting Regression\n",
    "12. Boosted Decision Trees\n",
    "13. Neural Network Regression\n",
    "14. K-Nearest Neighbors Regression (KNN)\n",
    "15. Bayesian Regression\n",
    "16. Partial Least Squares Regression (PLSR)\n",
    "17. Multivariate Adaptive Regression Splines (MARS)\n",
    "18. Quantile Regression\n",
    "19. Generalized Additive Models (GAM)\n",
    "20. Multi-Layer Perceptron (MLP)"
   ]
  },
  {
   "cell_type": "code",
   "execution_count": null,
   "id": "3f6acd90-0603-48ba-9b5f-8948adfa151b",
   "metadata": {},
   "outputs": [],
   "source": [
    "Top Classification Algorithms:\n",
    "\n",
    "1. Logistic Regression \n",
    "2. Decision Tree Classifier\n",
    "3. Random Forest Classifier\n",
    "4. Support Vector Machine (SVM)\n",
    "5. K-Nearest Neighbors (KNN)\n",
    "6. Naive Bayes Classifier\n",
    "7. Gradient Boosting Classifier\n",
    "8. AdaBoost Classifier\n",
    "9. Multi-layer Perceptron\n",
    "10. Xgboost Classifier\n"
   ]
  },
  {
   "cell_type": "code",
   "execution_count": null,
   "id": "fe0c3187-d191-447b-a59d-5a3f59ac1bb5",
   "metadata": {},
   "outputs": [],
   "source": []
  }
 ],
 "metadata": {
  "kernelspec": {
   "display_name": "Python 3 (ipykernel)",
   "language": "python",
   "name": "python3"
  },
  "language_info": {
   "codemirror_mode": {
    "name": "ipython",
    "version": 3
   },
   "file_extension": ".py",
   "mimetype": "text/x-python",
   "name": "python",
   "nbconvert_exporter": "python",
   "pygments_lexer": "ipython3",
   "version": "3.10.16"
  }
 },
 "nbformat": 4,
 "nbformat_minor": 5
}
